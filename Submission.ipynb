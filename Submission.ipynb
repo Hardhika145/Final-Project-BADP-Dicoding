{
  "cells": [
    {
      "cell_type": "markdown",
      "metadata": {
        "id": "-eLkBFhb-XcG"
      },
      "source": [
        "# **Proyek Analisis Data dengan Python**\n",
        "\n",
        "1. Nama : Hardhika Putra Pramudya\n",
        "2. Email : hppramudya145@gmail.com\n",
        "3. Program : IDCamp 2023 Data Scientist Learning Path\n",
        "4. Id Dicoding :hardhika_145"
      ]
    },
    {
      "cell_type": "markdown",
      "metadata": {},
      "source": [
        "## Menentukan Pertanyaan Bisnis\n",
        "\n",
        "1. Produk apa yang paling laris dan kurang laris di E-commerce?\n",
        "2. Bagaimana laju performa penjualan E-commerce seiring berjalannya waktu?\n",
        "3. Berapa pendapatan yang didapatkan oleh E-commerce dalam beberapa bulan terakhir?\n",
        "4. Bagaimana penilaian *(rating)* terhadap E-commerce yang diberikan oleh para customer? \n",
        "5. Bagaimana persebaran pelanggan dan apakah terdapat perbedaan preferensi pembelian antar customer?"
      ]
    },
    {
      "cell_type": "markdown",
      "metadata": {
        "id": "VqqEauKsq6O1"
      },
      "source": [
        "# **Memasang semua library yang dibutuhkan**"
      ]
    },
    {
      "cell_type": "code",
      "execution_count": 1,
      "metadata": {
        "id": "_etWvtatuLZF"
      },
      "outputs": [],
      "source": [
        "import numpy as np\n",
        "import pandas as pd\n",
        "import matplotlib.pyplot as plt\n",
        "import seaborn as sns\n",
        "import matplotlib.image as mpimg\n",
        "import textwrap"
      ]
    },
    {
      "cell_type": "markdown",
      "metadata": {
        "id": "S51wTkLIrARo"
      },
      "source": [
        "# **Data Wrangling**\n",
        "\n",
        "## Gathering Data\n"
      ]
    },
    {
      "cell_type": "markdown",
      "metadata": {
        "id": "gEvJwgvJxS0D"
      },
      "source": [
        "### 1. Tabel data customers_df"
      ]
    },
    {
      "cell_type": "code",
      "execution_count": 2,
      "metadata": {
        "colab": {
          "base_uri": "https://localhost:8080/",
          "height": 206
        },
        "id": "C92ZaPiJz6Hw",
        "outputId": "6c30441d-7250-4524-bd28-51bf2ddf8b05"
      },
      "outputs": [
        {
          "data": {
            "text/html": [
              "<div>\n",
              "<style scoped>\n",
              "    .dataframe tbody tr th:only-of-type {\n",
              "        vertical-align: middle;\n",
              "    }\n",
              "\n",
              "    .dataframe tbody tr th {\n",
              "        vertical-align: top;\n",
              "    }\n",
              "\n",
              "    .dataframe thead th {\n",
              "        text-align: right;\n",
              "    }\n",
              "</style>\n",
              "<table border=\"1\" class=\"dataframe\">\n",
              "  <thead>\n",
              "    <tr style=\"text-align: right;\">\n",
              "      <th></th>\n",
              "      <th>customer_id</th>\n",
              "      <th>customer_unique_id</th>\n",
              "      <th>customer_zip_code_prefix</th>\n",
              "      <th>customer_city</th>\n",
              "      <th>customer_state</th>\n",
              "    </tr>\n",
              "  </thead>\n",
              "  <tbody>\n",
              "    <tr>\n",
              "      <th>0</th>\n",
              "      <td>06b8999e2fba1a1fbc88172c00ba8bc7</td>\n",
              "      <td>861eff4711a542e4b93843c6dd7febb0</td>\n",
              "      <td>14409</td>\n",
              "      <td>franca</td>\n",
              "      <td>SP</td>\n",
              "    </tr>\n",
              "    <tr>\n",
              "      <th>1</th>\n",
              "      <td>18955e83d337fd6b2def6b18a428ac77</td>\n",
              "      <td>290c77bc529b7ac935b93aa66c333dc3</td>\n",
              "      <td>9790</td>\n",
              "      <td>sao bernardo do campo</td>\n",
              "      <td>SP</td>\n",
              "    </tr>\n",
              "    <tr>\n",
              "      <th>2</th>\n",
              "      <td>4e7b3e00288586ebd08712fdd0374a03</td>\n",
              "      <td>060e732b5b29e8181a18229c7b0b2b5e</td>\n",
              "      <td>1151</td>\n",
              "      <td>sao paulo</td>\n",
              "      <td>SP</td>\n",
              "    </tr>\n",
              "    <tr>\n",
              "      <th>3</th>\n",
              "      <td>b2b6027bc5c5109e529d4dc6358b12c3</td>\n",
              "      <td>259dac757896d24d7702b9acbbff3f3c</td>\n",
              "      <td>8775</td>\n",
              "      <td>mogi das cruzes</td>\n",
              "      <td>SP</td>\n",
              "    </tr>\n",
              "    <tr>\n",
              "      <th>4</th>\n",
              "      <td>4f2d8ab171c80ec8364f7c12e35b23ad</td>\n",
              "      <td>345ecd01c38d18a9036ed96c73b8d066</td>\n",
              "      <td>13056</td>\n",
              "      <td>campinas</td>\n",
              "      <td>SP</td>\n",
              "    </tr>\n",
              "  </tbody>\n",
              "</table>\n",
              "</div>"
            ],
            "text/plain": [
              "                        customer_id                customer_unique_id  \\\n",
              "0  06b8999e2fba1a1fbc88172c00ba8bc7  861eff4711a542e4b93843c6dd7febb0   \n",
              "1  18955e83d337fd6b2def6b18a428ac77  290c77bc529b7ac935b93aa66c333dc3   \n",
              "2  4e7b3e00288586ebd08712fdd0374a03  060e732b5b29e8181a18229c7b0b2b5e   \n",
              "3  b2b6027bc5c5109e529d4dc6358b12c3  259dac757896d24d7702b9acbbff3f3c   \n",
              "4  4f2d8ab171c80ec8364f7c12e35b23ad  345ecd01c38d18a9036ed96c73b8d066   \n",
              "\n",
              "   customer_zip_code_prefix          customer_city customer_state  \n",
              "0                     14409                 franca             SP  \n",
              "1                      9790  sao bernardo do campo             SP  \n",
              "2                      1151              sao paulo             SP  \n",
              "3                      8775        mogi das cruzes             SP  \n",
              "4                     13056               campinas             SP  "
            ]
          },
          "execution_count": 2,
          "metadata": {},
          "output_type": "execute_result"
        }
      ],
      "source": [
        "customers_df = pd.read_csv('dataset\\customers_dataset.csv')\n",
        "customers_df.head()"
      ]
    },
    {
      "cell_type": "markdown",
      "metadata": {
        "id": "1M8eVk7J0U2b"
      },
      "source": [
        "### 2. Tabel data geolocation_df"
      ]
    },
    {
      "cell_type": "code",
      "execution_count": 3,
      "metadata": {
        "colab": {
          "base_uri": "https://localhost:8080/",
          "height": 206
        },
        "id": "fdyHPVVR0Ufq",
        "outputId": "79164cc5-91e9-4fdf-ff23-303ba34258ef"
      },
      "outputs": [
        {
          "data": {
            "text/html": [
              "<div>\n",
              "<style scoped>\n",
              "    .dataframe tbody tr th:only-of-type {\n",
              "        vertical-align: middle;\n",
              "    }\n",
              "\n",
              "    .dataframe tbody tr th {\n",
              "        vertical-align: top;\n",
              "    }\n",
              "\n",
              "    .dataframe thead th {\n",
              "        text-align: right;\n",
              "    }\n",
              "</style>\n",
              "<table border=\"1\" class=\"dataframe\">\n",
              "  <thead>\n",
              "    <tr style=\"text-align: right;\">\n",
              "      <th></th>\n",
              "      <th>geolocation_zip_code_prefix</th>\n",
              "      <th>geolocation_lat</th>\n",
              "      <th>geolocation_lng</th>\n",
              "      <th>geolocation_city</th>\n",
              "      <th>geolocation_state</th>\n",
              "    </tr>\n",
              "  </thead>\n",
              "  <tbody>\n",
              "    <tr>\n",
              "      <th>0</th>\n",
              "      <td>1037</td>\n",
              "      <td>-23.545621</td>\n",
              "      <td>-46.639292</td>\n",
              "      <td>sao paulo</td>\n",
              "      <td>SP</td>\n",
              "    </tr>\n",
              "    <tr>\n",
              "      <th>1</th>\n",
              "      <td>1046</td>\n",
              "      <td>-23.546081</td>\n",
              "      <td>-46.644820</td>\n",
              "      <td>sao paulo</td>\n",
              "      <td>SP</td>\n",
              "    </tr>\n",
              "    <tr>\n",
              "      <th>2</th>\n",
              "      <td>1046</td>\n",
              "      <td>-23.546129</td>\n",
              "      <td>-46.642951</td>\n",
              "      <td>sao paulo</td>\n",
              "      <td>SP</td>\n",
              "    </tr>\n",
              "    <tr>\n",
              "      <th>3</th>\n",
              "      <td>1041</td>\n",
              "      <td>-23.544392</td>\n",
              "      <td>-46.639499</td>\n",
              "      <td>sao paulo</td>\n",
              "      <td>SP</td>\n",
              "    </tr>\n",
              "    <tr>\n",
              "      <th>4</th>\n",
              "      <td>1035</td>\n",
              "      <td>-23.541578</td>\n",
              "      <td>-46.641607</td>\n",
              "      <td>sao paulo</td>\n",
              "      <td>SP</td>\n",
              "    </tr>\n",
              "  </tbody>\n",
              "</table>\n",
              "</div>"
            ],
            "text/plain": [
              "   geolocation_zip_code_prefix  geolocation_lat  geolocation_lng  \\\n",
              "0                         1037       -23.545621       -46.639292   \n",
              "1                         1046       -23.546081       -46.644820   \n",
              "2                         1046       -23.546129       -46.642951   \n",
              "3                         1041       -23.544392       -46.639499   \n",
              "4                         1035       -23.541578       -46.641607   \n",
              "\n",
              "  geolocation_city geolocation_state  \n",
              "0        sao paulo                SP  \n",
              "1        sao paulo                SP  \n",
              "2        sao paulo                SP  \n",
              "3        sao paulo                SP  \n",
              "4        sao paulo                SP  "
            ]
          },
          "execution_count": 3,
          "metadata": {},
          "output_type": "execute_result"
        }
      ],
      "source": [
        "geo_df = pd.read_csv('dataset\\geolocation_dataset.csv')\n",
        "geo_df.head()"
      ]
    },
    {
      "cell_type": "markdown",
      "metadata": {
        "id": "O1KUxQIm096r"
      },
      "source": [
        "### 3. Tabel data order_items_df"
      ]
    },
    {
      "cell_type": "code",
      "execution_count": 4,
      "metadata": {
        "colab": {
          "base_uri": "https://localhost:8080/",
          "height": 226
        },
        "id": "FncsYCLW1L6Q",
        "outputId": "f8785d07-ef5f-4741-a5f0-e3588901e593"
      },
      "outputs": [
        {
          "data": {
            "text/html": [
              "<div>\n",
              "<style scoped>\n",
              "    .dataframe tbody tr th:only-of-type {\n",
              "        vertical-align: middle;\n",
              "    }\n",
              "\n",
              "    .dataframe tbody tr th {\n",
              "        vertical-align: top;\n",
              "    }\n",
              "\n",
              "    .dataframe thead th {\n",
              "        text-align: right;\n",
              "    }\n",
              "</style>\n",
              "<table border=\"1\" class=\"dataframe\">\n",
              "  <thead>\n",
              "    <tr style=\"text-align: right;\">\n",
              "      <th></th>\n",
              "      <th>order_id</th>\n",
              "      <th>order_item_id</th>\n",
              "      <th>product_id</th>\n",
              "      <th>seller_id</th>\n",
              "      <th>shipping_limit_date</th>\n",
              "      <th>price</th>\n",
              "      <th>freight_value</th>\n",
              "    </tr>\n",
              "  </thead>\n",
              "  <tbody>\n",
              "    <tr>\n",
              "      <th>0</th>\n",
              "      <td>00010242fe8c5a6d1ba2dd792cb16214</td>\n",
              "      <td>1</td>\n",
              "      <td>4244733e06e7ecb4970a6e2683c13e61</td>\n",
              "      <td>48436dade18ac8b2bce089ec2a041202</td>\n",
              "      <td>2017-09-19 09:45:35</td>\n",
              "      <td>58.90</td>\n",
              "      <td>13.29</td>\n",
              "    </tr>\n",
              "    <tr>\n",
              "      <th>1</th>\n",
              "      <td>00018f77f2f0320c557190d7a144bdd3</td>\n",
              "      <td>1</td>\n",
              "      <td>e5f2d52b802189ee658865ca93d83a8f</td>\n",
              "      <td>dd7ddc04e1b6c2c614352b383efe2d36</td>\n",
              "      <td>2017-05-03 11:05:13</td>\n",
              "      <td>239.90</td>\n",
              "      <td>19.93</td>\n",
              "    </tr>\n",
              "    <tr>\n",
              "      <th>2</th>\n",
              "      <td>000229ec398224ef6ca0657da4fc703e</td>\n",
              "      <td>1</td>\n",
              "      <td>c777355d18b72b67abbeef9df44fd0fd</td>\n",
              "      <td>5b51032eddd242adc84c38acab88f23d</td>\n",
              "      <td>2018-01-18 14:48:30</td>\n",
              "      <td>199.00</td>\n",
              "      <td>17.87</td>\n",
              "    </tr>\n",
              "    <tr>\n",
              "      <th>3</th>\n",
              "      <td>00024acbcdf0a6daa1e931b038114c75</td>\n",
              "      <td>1</td>\n",
              "      <td>7634da152a4610f1595efa32f14722fc</td>\n",
              "      <td>9d7a1d34a5052409006425275ba1c2b4</td>\n",
              "      <td>2018-08-15 10:10:18</td>\n",
              "      <td>12.99</td>\n",
              "      <td>12.79</td>\n",
              "    </tr>\n",
              "    <tr>\n",
              "      <th>4</th>\n",
              "      <td>00042b26cf59d7ce69dfabb4e55b4fd9</td>\n",
              "      <td>1</td>\n",
              "      <td>ac6c3623068f30de03045865e4e10089</td>\n",
              "      <td>df560393f3a51e74553ab94004ba5c87</td>\n",
              "      <td>2017-02-13 13:57:51</td>\n",
              "      <td>199.90</td>\n",
              "      <td>18.14</td>\n",
              "    </tr>\n",
              "  </tbody>\n",
              "</table>\n",
              "</div>"
            ],
            "text/plain": [
              "                           order_id  order_item_id  \\\n",
              "0  00010242fe8c5a6d1ba2dd792cb16214              1   \n",
              "1  00018f77f2f0320c557190d7a144bdd3              1   \n",
              "2  000229ec398224ef6ca0657da4fc703e              1   \n",
              "3  00024acbcdf0a6daa1e931b038114c75              1   \n",
              "4  00042b26cf59d7ce69dfabb4e55b4fd9              1   \n",
              "\n",
              "                         product_id                         seller_id  \\\n",
              "0  4244733e06e7ecb4970a6e2683c13e61  48436dade18ac8b2bce089ec2a041202   \n",
              "1  e5f2d52b802189ee658865ca93d83a8f  dd7ddc04e1b6c2c614352b383efe2d36   \n",
              "2  c777355d18b72b67abbeef9df44fd0fd  5b51032eddd242adc84c38acab88f23d   \n",
              "3  7634da152a4610f1595efa32f14722fc  9d7a1d34a5052409006425275ba1c2b4   \n",
              "4  ac6c3623068f30de03045865e4e10089  df560393f3a51e74553ab94004ba5c87   \n",
              "\n",
              "   shipping_limit_date   price  freight_value  \n",
              "0  2017-09-19 09:45:35   58.90          13.29  \n",
              "1  2017-05-03 11:05:13  239.90          19.93  \n",
              "2  2018-01-18 14:48:30  199.00          17.87  \n",
              "3  2018-08-15 10:10:18   12.99          12.79  \n",
              "4  2017-02-13 13:57:51  199.90          18.14  "
            ]
          },
          "execution_count": 4,
          "metadata": {},
          "output_type": "execute_result"
        }
      ],
      "source": [
        "order_items_df = pd.read_csv('dataset\\order_items_dataset.csv')\n",
        "order_items_df.head()"
      ]
    },
    {
      "cell_type": "markdown",
      "metadata": {
        "id": "_lx7hofr1jSw"
      },
      "source": [
        "### 4. Tabel data order_payment_df"
      ]
    },
    {
      "cell_type": "code",
      "execution_count": 5,
      "metadata": {
        "colab": {
          "base_uri": "https://localhost:8080/",
          "height": 206
        },
        "id": "-0ytEVwO1js5",
        "outputId": "61e9fc32-c6f0-4480-e5ce-119e2f36b69b"
      },
      "outputs": [
        {
          "data": {
            "text/html": [
              "<div>\n",
              "<style scoped>\n",
              "    .dataframe tbody tr th:only-of-type {\n",
              "        vertical-align: middle;\n",
              "    }\n",
              "\n",
              "    .dataframe tbody tr th {\n",
              "        vertical-align: top;\n",
              "    }\n",
              "\n",
              "    .dataframe thead th {\n",
              "        text-align: right;\n",
              "    }\n",
              "</style>\n",
              "<table border=\"1\" class=\"dataframe\">\n",
              "  <thead>\n",
              "    <tr style=\"text-align: right;\">\n",
              "      <th></th>\n",
              "      <th>order_id</th>\n",
              "      <th>payment_sequential</th>\n",
              "      <th>payment_type</th>\n",
              "      <th>payment_installments</th>\n",
              "      <th>payment_value</th>\n",
              "    </tr>\n",
              "  </thead>\n",
              "  <tbody>\n",
              "    <tr>\n",
              "      <th>0</th>\n",
              "      <td>b81ef226f3fe1789b1e8b2acac839d17</td>\n",
              "      <td>1</td>\n",
              "      <td>credit_card</td>\n",
              "      <td>8</td>\n",
              "      <td>99.33</td>\n",
              "    </tr>\n",
              "    <tr>\n",
              "      <th>1</th>\n",
              "      <td>a9810da82917af2d9aefd1278f1dcfa0</td>\n",
              "      <td>1</td>\n",
              "      <td>credit_card</td>\n",
              "      <td>1</td>\n",
              "      <td>24.39</td>\n",
              "    </tr>\n",
              "    <tr>\n",
              "      <th>2</th>\n",
              "      <td>25e8ea4e93396b6fa0d3dd708e76c1bd</td>\n",
              "      <td>1</td>\n",
              "      <td>credit_card</td>\n",
              "      <td>1</td>\n",
              "      <td>65.71</td>\n",
              "    </tr>\n",
              "    <tr>\n",
              "      <th>3</th>\n",
              "      <td>ba78997921bbcdc1373bb41e913ab953</td>\n",
              "      <td>1</td>\n",
              "      <td>credit_card</td>\n",
              "      <td>8</td>\n",
              "      <td>107.78</td>\n",
              "    </tr>\n",
              "    <tr>\n",
              "      <th>4</th>\n",
              "      <td>42fdf880ba16b47b59251dd489d4441a</td>\n",
              "      <td>1</td>\n",
              "      <td>credit_card</td>\n",
              "      <td>2</td>\n",
              "      <td>128.45</td>\n",
              "    </tr>\n",
              "  </tbody>\n",
              "</table>\n",
              "</div>"
            ],
            "text/plain": [
              "                           order_id  payment_sequential payment_type  \\\n",
              "0  b81ef226f3fe1789b1e8b2acac839d17                   1  credit_card   \n",
              "1  a9810da82917af2d9aefd1278f1dcfa0                   1  credit_card   \n",
              "2  25e8ea4e93396b6fa0d3dd708e76c1bd                   1  credit_card   \n",
              "3  ba78997921bbcdc1373bb41e913ab953                   1  credit_card   \n",
              "4  42fdf880ba16b47b59251dd489d4441a                   1  credit_card   \n",
              "\n",
              "   payment_installments  payment_value  \n",
              "0                     8          99.33  \n",
              "1                     1          24.39  \n",
              "2                     1          65.71  \n",
              "3                     8         107.78  \n",
              "4                     2         128.45  "
            ]
          },
          "execution_count": 5,
          "metadata": {},
          "output_type": "execute_result"
        }
      ],
      "source": [
        "order_payments_df = pd.read_csv('dataset\\order_payments_dataset.csv')\n",
        "order_payments_df.head()"
      ]
    },
    {
      "cell_type": "markdown",
      "metadata": {
        "id": "Z9pSau4d24QG"
      },
      "source": [
        "### 5. Tabel data order_reviews_df"
      ]
    },
    {
      "cell_type": "code",
      "execution_count": 6,
      "metadata": {
        "colab": {
          "base_uri": "https://localhost:8080/",
          "height": 261
        },
        "id": "1TdNm8ex2CrH",
        "outputId": "c7dac216-3918-4432-be73-bbcf862df1e8"
      },
      "outputs": [
        {
          "data": {
            "text/html": [
              "<div>\n",
              "<style scoped>\n",
              "    .dataframe tbody tr th:only-of-type {\n",
              "        vertical-align: middle;\n",
              "    }\n",
              "\n",
              "    .dataframe tbody tr th {\n",
              "        vertical-align: top;\n",
              "    }\n",
              "\n",
              "    .dataframe thead th {\n",
              "        text-align: right;\n",
              "    }\n",
              "</style>\n",
              "<table border=\"1\" class=\"dataframe\">\n",
              "  <thead>\n",
              "    <tr style=\"text-align: right;\">\n",
              "      <th></th>\n",
              "      <th>review_id</th>\n",
              "      <th>order_id</th>\n",
              "      <th>review_score</th>\n",
              "      <th>review_comment_title</th>\n",
              "      <th>review_comment_message</th>\n",
              "      <th>review_creation_date</th>\n",
              "      <th>review_answer_timestamp</th>\n",
              "    </tr>\n",
              "  </thead>\n",
              "  <tbody>\n",
              "    <tr>\n",
              "      <th>0</th>\n",
              "      <td>7bc2406110b926393aa56f80a40eba40</td>\n",
              "      <td>73fc7af87114b39712e6da79b0a377eb</td>\n",
              "      <td>4</td>\n",
              "      <td>NaN</td>\n",
              "      <td>NaN</td>\n",
              "      <td>2018-01-18 00:00:00</td>\n",
              "      <td>2018-01-18 21:46:59</td>\n",
              "    </tr>\n",
              "    <tr>\n",
              "      <th>1</th>\n",
              "      <td>80e641a11e56f04c1ad469d5645fdfde</td>\n",
              "      <td>a548910a1c6147796b98fdf73dbeba33</td>\n",
              "      <td>5</td>\n",
              "      <td>NaN</td>\n",
              "      <td>NaN</td>\n",
              "      <td>2018-03-10 00:00:00</td>\n",
              "      <td>2018-03-11 03:05:13</td>\n",
              "    </tr>\n",
              "    <tr>\n",
              "      <th>2</th>\n",
              "      <td>228ce5500dc1d8e020d8d1322874b6f0</td>\n",
              "      <td>f9e4b658b201a9f2ecdecbb34bed034b</td>\n",
              "      <td>5</td>\n",
              "      <td>NaN</td>\n",
              "      <td>NaN</td>\n",
              "      <td>2018-02-17 00:00:00</td>\n",
              "      <td>2018-02-18 14:36:24</td>\n",
              "    </tr>\n",
              "    <tr>\n",
              "      <th>3</th>\n",
              "      <td>e64fb393e7b32834bb789ff8bb30750e</td>\n",
              "      <td>658677c97b385a9be170737859d3511b</td>\n",
              "      <td>5</td>\n",
              "      <td>NaN</td>\n",
              "      <td>Recebi bem antes do prazo estipulado.</td>\n",
              "      <td>2017-04-21 00:00:00</td>\n",
              "      <td>2017-04-21 22:02:06</td>\n",
              "    </tr>\n",
              "    <tr>\n",
              "      <th>4</th>\n",
              "      <td>f7c4243c7fe1938f181bec41a392bdeb</td>\n",
              "      <td>8e6bfb81e283fa7e4f11123a3fb894f1</td>\n",
              "      <td>5</td>\n",
              "      <td>NaN</td>\n",
              "      <td>Parabéns lojas lannister adorei comprar pela I...</td>\n",
              "      <td>2018-03-01 00:00:00</td>\n",
              "      <td>2018-03-02 10:26:53</td>\n",
              "    </tr>\n",
              "  </tbody>\n",
              "</table>\n",
              "</div>"
            ],
            "text/plain": [
              "                          review_id                          order_id  \\\n",
              "0  7bc2406110b926393aa56f80a40eba40  73fc7af87114b39712e6da79b0a377eb   \n",
              "1  80e641a11e56f04c1ad469d5645fdfde  a548910a1c6147796b98fdf73dbeba33   \n",
              "2  228ce5500dc1d8e020d8d1322874b6f0  f9e4b658b201a9f2ecdecbb34bed034b   \n",
              "3  e64fb393e7b32834bb789ff8bb30750e  658677c97b385a9be170737859d3511b   \n",
              "4  f7c4243c7fe1938f181bec41a392bdeb  8e6bfb81e283fa7e4f11123a3fb894f1   \n",
              "\n",
              "   review_score review_comment_title  \\\n",
              "0             4                  NaN   \n",
              "1             5                  NaN   \n",
              "2             5                  NaN   \n",
              "3             5                  NaN   \n",
              "4             5                  NaN   \n",
              "\n",
              "                              review_comment_message review_creation_date  \\\n",
              "0                                                NaN  2018-01-18 00:00:00   \n",
              "1                                                NaN  2018-03-10 00:00:00   \n",
              "2                                                NaN  2018-02-17 00:00:00   \n",
              "3              Recebi bem antes do prazo estipulado.  2017-04-21 00:00:00   \n",
              "4  Parabéns lojas lannister adorei comprar pela I...  2018-03-01 00:00:00   \n",
              "\n",
              "  review_answer_timestamp  \n",
              "0     2018-01-18 21:46:59  \n",
              "1     2018-03-11 03:05:13  \n",
              "2     2018-02-18 14:36:24  \n",
              "3     2017-04-21 22:02:06  \n",
              "4     2018-03-02 10:26:53  "
            ]
          },
          "execution_count": 6,
          "metadata": {},
          "output_type": "execute_result"
        }
      ],
      "source": [
        "order_reviews_df = pd.read_csv('dataset\\order_reviews_dataset.csv')\n",
        "order_reviews_df.head()"
      ]
    },
    {
      "cell_type": "markdown",
      "metadata": {
        "id": "gSDkz1s33rsX"
      },
      "source": [
        "### 6. Tabel data orders_df"
      ]
    },
    {
      "cell_type": "code",
      "execution_count": 7,
      "metadata": {
        "colab": {
          "base_uri": "https://localhost:8080/",
          "height": 226
        },
        "id": "n9Qs2Sea3nRu",
        "outputId": "cbc58914-7e62-42c9-929f-9a72178b4acf"
      },
      "outputs": [
        {
          "data": {
            "text/html": [
              "<div>\n",
              "<style scoped>\n",
              "    .dataframe tbody tr th:only-of-type {\n",
              "        vertical-align: middle;\n",
              "    }\n",
              "\n",
              "    .dataframe tbody tr th {\n",
              "        vertical-align: top;\n",
              "    }\n",
              "\n",
              "    .dataframe thead th {\n",
              "        text-align: right;\n",
              "    }\n",
              "</style>\n",
              "<table border=\"1\" class=\"dataframe\">\n",
              "  <thead>\n",
              "    <tr style=\"text-align: right;\">\n",
              "      <th></th>\n",
              "      <th>order_id</th>\n",
              "      <th>customer_id</th>\n",
              "      <th>order_status</th>\n",
              "      <th>order_purchase_timestamp</th>\n",
              "      <th>order_approved_at</th>\n",
              "      <th>order_delivered_carrier_date</th>\n",
              "      <th>order_delivered_customer_date</th>\n",
              "      <th>order_estimated_delivery_date</th>\n",
              "    </tr>\n",
              "  </thead>\n",
              "  <tbody>\n",
              "    <tr>\n",
              "      <th>0</th>\n",
              "      <td>e481f51cbdc54678b7cc49136f2d6af7</td>\n",
              "      <td>9ef432eb6251297304e76186b10a928d</td>\n",
              "      <td>delivered</td>\n",
              "      <td>2017-10-02 10:56:33</td>\n",
              "      <td>2017-10-02 11:07:15</td>\n",
              "      <td>2017-10-04 19:55:00</td>\n",
              "      <td>2017-10-10 21:25:13</td>\n",
              "      <td>2017-10-18 00:00:00</td>\n",
              "    </tr>\n",
              "    <tr>\n",
              "      <th>1</th>\n",
              "      <td>53cdb2fc8bc7dce0b6741e2150273451</td>\n",
              "      <td>b0830fb4747a6c6d20dea0b8c802d7ef</td>\n",
              "      <td>delivered</td>\n",
              "      <td>2018-07-24 20:41:37</td>\n",
              "      <td>2018-07-26 03:24:27</td>\n",
              "      <td>2018-07-26 14:31:00</td>\n",
              "      <td>2018-08-07 15:27:45</td>\n",
              "      <td>2018-08-13 00:00:00</td>\n",
              "    </tr>\n",
              "    <tr>\n",
              "      <th>2</th>\n",
              "      <td>47770eb9100c2d0c44946d9cf07ec65d</td>\n",
              "      <td>41ce2a54c0b03bf3443c3d931a367089</td>\n",
              "      <td>delivered</td>\n",
              "      <td>2018-08-08 08:38:49</td>\n",
              "      <td>2018-08-08 08:55:23</td>\n",
              "      <td>2018-08-08 13:50:00</td>\n",
              "      <td>2018-08-17 18:06:29</td>\n",
              "      <td>2018-09-04 00:00:00</td>\n",
              "    </tr>\n",
              "    <tr>\n",
              "      <th>3</th>\n",
              "      <td>949d5b44dbf5de918fe9c16f97b45f8a</td>\n",
              "      <td>f88197465ea7920adcdbec7375364d82</td>\n",
              "      <td>delivered</td>\n",
              "      <td>2017-11-18 19:28:06</td>\n",
              "      <td>2017-11-18 19:45:59</td>\n",
              "      <td>2017-11-22 13:39:59</td>\n",
              "      <td>2017-12-02 00:28:42</td>\n",
              "      <td>2017-12-15 00:00:00</td>\n",
              "    </tr>\n",
              "    <tr>\n",
              "      <th>4</th>\n",
              "      <td>ad21c59c0840e6cb83a9ceb5573f8159</td>\n",
              "      <td>8ab97904e6daea8866dbdbc4fb7aad2c</td>\n",
              "      <td>delivered</td>\n",
              "      <td>2018-02-13 21:18:39</td>\n",
              "      <td>2018-02-13 22:20:29</td>\n",
              "      <td>2018-02-14 19:46:34</td>\n",
              "      <td>2018-02-16 18:17:02</td>\n",
              "      <td>2018-02-26 00:00:00</td>\n",
              "    </tr>\n",
              "  </tbody>\n",
              "</table>\n",
              "</div>"
            ],
            "text/plain": [
              "                           order_id                       customer_id  \\\n",
              "0  e481f51cbdc54678b7cc49136f2d6af7  9ef432eb6251297304e76186b10a928d   \n",
              "1  53cdb2fc8bc7dce0b6741e2150273451  b0830fb4747a6c6d20dea0b8c802d7ef   \n",
              "2  47770eb9100c2d0c44946d9cf07ec65d  41ce2a54c0b03bf3443c3d931a367089   \n",
              "3  949d5b44dbf5de918fe9c16f97b45f8a  f88197465ea7920adcdbec7375364d82   \n",
              "4  ad21c59c0840e6cb83a9ceb5573f8159  8ab97904e6daea8866dbdbc4fb7aad2c   \n",
              "\n",
              "  order_status order_purchase_timestamp    order_approved_at  \\\n",
              "0    delivered      2017-10-02 10:56:33  2017-10-02 11:07:15   \n",
              "1    delivered      2018-07-24 20:41:37  2018-07-26 03:24:27   \n",
              "2    delivered      2018-08-08 08:38:49  2018-08-08 08:55:23   \n",
              "3    delivered      2017-11-18 19:28:06  2017-11-18 19:45:59   \n",
              "4    delivered      2018-02-13 21:18:39  2018-02-13 22:20:29   \n",
              "\n",
              "  order_delivered_carrier_date order_delivered_customer_date  \\\n",
              "0          2017-10-04 19:55:00           2017-10-10 21:25:13   \n",
              "1          2018-07-26 14:31:00           2018-08-07 15:27:45   \n",
              "2          2018-08-08 13:50:00           2018-08-17 18:06:29   \n",
              "3          2017-11-22 13:39:59           2017-12-02 00:28:42   \n",
              "4          2018-02-14 19:46:34           2018-02-16 18:17:02   \n",
              "\n",
              "  order_estimated_delivery_date  \n",
              "0           2017-10-18 00:00:00  \n",
              "1           2018-08-13 00:00:00  \n",
              "2           2018-09-04 00:00:00  \n",
              "3           2017-12-15 00:00:00  \n",
              "4           2018-02-26 00:00:00  "
            ]
          },
          "execution_count": 7,
          "metadata": {},
          "output_type": "execute_result"
        }
      ],
      "source": [
        "orders_df = pd.read_csv('dataset\\orders_dataset.csv')\n",
        "orders_df.head()"
      ]
    },
    {
      "cell_type": "markdown",
      "metadata": {
        "id": "mSoYzREi33Wx"
      },
      "source": [
        "### 7. Tabel data product_category_df"
      ]
    },
    {
      "cell_type": "code",
      "execution_count": 8,
      "metadata": {
        "colab": {
          "base_uri": "https://localhost:8080/",
          "height": 206
        },
        "id": "IazrRJDf4DeF",
        "outputId": "0b85f193-9049-4e48-823b-a2aaf18450bd"
      },
      "outputs": [
        {
          "data": {
            "text/html": [
              "<div>\n",
              "<style scoped>\n",
              "    .dataframe tbody tr th:only-of-type {\n",
              "        vertical-align: middle;\n",
              "    }\n",
              "\n",
              "    .dataframe tbody tr th {\n",
              "        vertical-align: top;\n",
              "    }\n",
              "\n",
              "    .dataframe thead th {\n",
              "        text-align: right;\n",
              "    }\n",
              "</style>\n",
              "<table border=\"1\" class=\"dataframe\">\n",
              "  <thead>\n",
              "    <tr style=\"text-align: right;\">\n",
              "      <th></th>\n",
              "      <th>product_category_name</th>\n",
              "      <th>product_category_name_english</th>\n",
              "    </tr>\n",
              "  </thead>\n",
              "  <tbody>\n",
              "    <tr>\n",
              "      <th>0</th>\n",
              "      <td>beleza_saude</td>\n",
              "      <td>health_beauty</td>\n",
              "    </tr>\n",
              "    <tr>\n",
              "      <th>1</th>\n",
              "      <td>informatica_acessorios</td>\n",
              "      <td>computers_accessories</td>\n",
              "    </tr>\n",
              "    <tr>\n",
              "      <th>2</th>\n",
              "      <td>automotivo</td>\n",
              "      <td>auto</td>\n",
              "    </tr>\n",
              "    <tr>\n",
              "      <th>3</th>\n",
              "      <td>cama_mesa_banho</td>\n",
              "      <td>bed_bath_table</td>\n",
              "    </tr>\n",
              "    <tr>\n",
              "      <th>4</th>\n",
              "      <td>moveis_decoracao</td>\n",
              "      <td>furniture_decor</td>\n",
              "    </tr>\n",
              "  </tbody>\n",
              "</table>\n",
              "</div>"
            ],
            "text/plain": [
              "    product_category_name product_category_name_english\n",
              "0            beleza_saude                 health_beauty\n",
              "1  informatica_acessorios         computers_accessories\n",
              "2              automotivo                          auto\n",
              "3         cama_mesa_banho                bed_bath_table\n",
              "4        moveis_decoracao               furniture_decor"
            ]
          },
          "execution_count": 8,
          "metadata": {},
          "output_type": "execute_result"
        }
      ],
      "source": [
        "product_category_df = pd.read_csv('dataset\\product_category_name_translation.csv')\n",
        "product_category_df.head()"
      ]
    },
    {
      "cell_type": "markdown",
      "metadata": {
        "id": "-9DoOFbn4Xsf"
      },
      "source": [
        "### 8. Tabel data products_df"
      ]
    },
    {
      "cell_type": "code",
      "execution_count": 9,
      "metadata": {
        "colab": {
          "base_uri": "https://localhost:8080/",
          "height": 226
        },
        "id": "ghkAyjeQ4SHo",
        "outputId": "298ee2ce-c096-444c-f70c-49b002b2fa8f"
      },
      "outputs": [
        {
          "data": {
            "text/html": [
              "<div>\n",
              "<style scoped>\n",
              "    .dataframe tbody tr th:only-of-type {\n",
              "        vertical-align: middle;\n",
              "    }\n",
              "\n",
              "    .dataframe tbody tr th {\n",
              "        vertical-align: top;\n",
              "    }\n",
              "\n",
              "    .dataframe thead th {\n",
              "        text-align: right;\n",
              "    }\n",
              "</style>\n",
              "<table border=\"1\" class=\"dataframe\">\n",
              "  <thead>\n",
              "    <tr style=\"text-align: right;\">\n",
              "      <th></th>\n",
              "      <th>product_id</th>\n",
              "      <th>product_category_name</th>\n",
              "      <th>product_name_lenght</th>\n",
              "      <th>product_description_lenght</th>\n",
              "      <th>product_photos_qty</th>\n",
              "      <th>product_weight_g</th>\n",
              "      <th>product_length_cm</th>\n",
              "      <th>product_height_cm</th>\n",
              "      <th>product_width_cm</th>\n",
              "    </tr>\n",
              "  </thead>\n",
              "  <tbody>\n",
              "    <tr>\n",
              "      <th>0</th>\n",
              "      <td>1e9e8ef04dbcff4541ed26657ea517e5</td>\n",
              "      <td>perfumaria</td>\n",
              "      <td>40.0</td>\n",
              "      <td>287.0</td>\n",
              "      <td>1.0</td>\n",
              "      <td>225.0</td>\n",
              "      <td>16.0</td>\n",
              "      <td>10.0</td>\n",
              "      <td>14.0</td>\n",
              "    </tr>\n",
              "    <tr>\n",
              "      <th>1</th>\n",
              "      <td>3aa071139cb16b67ca9e5dea641aaa2f</td>\n",
              "      <td>artes</td>\n",
              "      <td>44.0</td>\n",
              "      <td>276.0</td>\n",
              "      <td>1.0</td>\n",
              "      <td>1000.0</td>\n",
              "      <td>30.0</td>\n",
              "      <td>18.0</td>\n",
              "      <td>20.0</td>\n",
              "    </tr>\n",
              "    <tr>\n",
              "      <th>2</th>\n",
              "      <td>96bd76ec8810374ed1b65e291975717f</td>\n",
              "      <td>esporte_lazer</td>\n",
              "      <td>46.0</td>\n",
              "      <td>250.0</td>\n",
              "      <td>1.0</td>\n",
              "      <td>154.0</td>\n",
              "      <td>18.0</td>\n",
              "      <td>9.0</td>\n",
              "      <td>15.0</td>\n",
              "    </tr>\n",
              "    <tr>\n",
              "      <th>3</th>\n",
              "      <td>cef67bcfe19066a932b7673e239eb23d</td>\n",
              "      <td>bebes</td>\n",
              "      <td>27.0</td>\n",
              "      <td>261.0</td>\n",
              "      <td>1.0</td>\n",
              "      <td>371.0</td>\n",
              "      <td>26.0</td>\n",
              "      <td>4.0</td>\n",
              "      <td>26.0</td>\n",
              "    </tr>\n",
              "    <tr>\n",
              "      <th>4</th>\n",
              "      <td>9dc1a7de274444849c219cff195d0b71</td>\n",
              "      <td>utilidades_domesticas</td>\n",
              "      <td>37.0</td>\n",
              "      <td>402.0</td>\n",
              "      <td>4.0</td>\n",
              "      <td>625.0</td>\n",
              "      <td>20.0</td>\n",
              "      <td>17.0</td>\n",
              "      <td>13.0</td>\n",
              "    </tr>\n",
              "  </tbody>\n",
              "</table>\n",
              "</div>"
            ],
            "text/plain": [
              "                         product_id  product_category_name  \\\n",
              "0  1e9e8ef04dbcff4541ed26657ea517e5             perfumaria   \n",
              "1  3aa071139cb16b67ca9e5dea641aaa2f                  artes   \n",
              "2  96bd76ec8810374ed1b65e291975717f          esporte_lazer   \n",
              "3  cef67bcfe19066a932b7673e239eb23d                  bebes   \n",
              "4  9dc1a7de274444849c219cff195d0b71  utilidades_domesticas   \n",
              "\n",
              "   product_name_lenght  product_description_lenght  product_photos_qty  \\\n",
              "0                 40.0                       287.0                 1.0   \n",
              "1                 44.0                       276.0                 1.0   \n",
              "2                 46.0                       250.0                 1.0   \n",
              "3                 27.0                       261.0                 1.0   \n",
              "4                 37.0                       402.0                 4.0   \n",
              "\n",
              "   product_weight_g  product_length_cm  product_height_cm  product_width_cm  \n",
              "0             225.0               16.0               10.0              14.0  \n",
              "1            1000.0               30.0               18.0              20.0  \n",
              "2             154.0               18.0                9.0              15.0  \n",
              "3             371.0               26.0                4.0              26.0  \n",
              "4             625.0               20.0               17.0              13.0  "
            ]
          },
          "execution_count": 9,
          "metadata": {},
          "output_type": "execute_result"
        }
      ],
      "source": [
        "products_df = pd.read_csv('dataset\\products_dataset.csv')\n",
        "products_df.head()"
      ]
    },
    {
      "cell_type": "markdown",
      "metadata": {
        "id": "i3fiYyyx4b0h"
      },
      "source": [
        "### 9. Tabel data sellers_df"
      ]
    },
    {
      "cell_type": "code",
      "execution_count": 10,
      "metadata": {
        "colab": {
          "base_uri": "https://localhost:8080/",
          "height": 206
        },
        "id": "nj-egoG64kwe",
        "outputId": "e7b659d6-4160-4062-bf49-c534b9329498"
      },
      "outputs": [
        {
          "data": {
            "text/html": [
              "<div>\n",
              "<style scoped>\n",
              "    .dataframe tbody tr th:only-of-type {\n",
              "        vertical-align: middle;\n",
              "    }\n",
              "\n",
              "    .dataframe tbody tr th {\n",
              "        vertical-align: top;\n",
              "    }\n",
              "\n",
              "    .dataframe thead th {\n",
              "        text-align: right;\n",
              "    }\n",
              "</style>\n",
              "<table border=\"1\" class=\"dataframe\">\n",
              "  <thead>\n",
              "    <tr style=\"text-align: right;\">\n",
              "      <th></th>\n",
              "      <th>seller_id</th>\n",
              "      <th>seller_zip_code_prefix</th>\n",
              "      <th>seller_city</th>\n",
              "      <th>seller_state</th>\n",
              "    </tr>\n",
              "  </thead>\n",
              "  <tbody>\n",
              "    <tr>\n",
              "      <th>0</th>\n",
              "      <td>3442f8959a84dea7ee197c632cb2df15</td>\n",
              "      <td>13023</td>\n",
              "      <td>campinas</td>\n",
              "      <td>SP</td>\n",
              "    </tr>\n",
              "    <tr>\n",
              "      <th>1</th>\n",
              "      <td>d1b65fc7debc3361ea86b5f14c68d2e2</td>\n",
              "      <td>13844</td>\n",
              "      <td>mogi guacu</td>\n",
              "      <td>SP</td>\n",
              "    </tr>\n",
              "    <tr>\n",
              "      <th>2</th>\n",
              "      <td>ce3ad9de960102d0677a81f5d0bb7b2d</td>\n",
              "      <td>20031</td>\n",
              "      <td>rio de janeiro</td>\n",
              "      <td>RJ</td>\n",
              "    </tr>\n",
              "    <tr>\n",
              "      <th>3</th>\n",
              "      <td>c0f3eea2e14555b6faeea3dd58c1b1c3</td>\n",
              "      <td>4195</td>\n",
              "      <td>sao paulo</td>\n",
              "      <td>SP</td>\n",
              "    </tr>\n",
              "    <tr>\n",
              "      <th>4</th>\n",
              "      <td>51a04a8a6bdcb23deccc82b0b80742cf</td>\n",
              "      <td>12914</td>\n",
              "      <td>braganca paulista</td>\n",
              "      <td>SP</td>\n",
              "    </tr>\n",
              "  </tbody>\n",
              "</table>\n",
              "</div>"
            ],
            "text/plain": [
              "                          seller_id  seller_zip_code_prefix  \\\n",
              "0  3442f8959a84dea7ee197c632cb2df15                   13023   \n",
              "1  d1b65fc7debc3361ea86b5f14c68d2e2                   13844   \n",
              "2  ce3ad9de960102d0677a81f5d0bb7b2d                   20031   \n",
              "3  c0f3eea2e14555b6faeea3dd58c1b1c3                    4195   \n",
              "4  51a04a8a6bdcb23deccc82b0b80742cf                   12914   \n",
              "\n",
              "         seller_city seller_state  \n",
              "0           campinas           SP  \n",
              "1         mogi guacu           SP  \n",
              "2     rio de janeiro           RJ  \n",
              "3          sao paulo           SP  \n",
              "4  braganca paulista           SP  "
            ]
          },
          "execution_count": 10,
          "metadata": {},
          "output_type": "execute_result"
        }
      ],
      "source": [
        "sellers_df = pd.read_csv('dataset\\sellers_dataset.csv')\n",
        "sellers_df.head()"
      ]
    },
    {
      "cell_type": "markdown",
      "metadata": {
        "id": "Gvh_CG5B5WeG"
      },
      "source": [
        "## Assessing Data\n",
        "\n",
        "\n"
      ]
    },
    {
      "cell_type": "markdown",
      "metadata": {
        "id": "8WMNq24awKMW"
      },
      "source": [
        "### 1. Data customers_df"
      ]
    },
    {
      "cell_type": "code",
      "execution_count": 11,
      "metadata": {
        "colab": {
          "base_uri": "https://localhost:8080/"
        },
        "id": "5liQsIMU5oqd",
        "outputId": "81720912-cb1b-4b66-be09-3d1088945bbd"
      },
      "outputs": [
        {
          "name": "stdout",
          "output_type": "stream",
          "text": [
            "<class 'pandas.core.frame.DataFrame'>\n",
            "RangeIndex: 99441 entries, 0 to 99440\n",
            "Data columns (total 5 columns):\n",
            " #   Column                    Non-Null Count  Dtype \n",
            "---  ------                    --------------  ----- \n",
            " 0   customer_id               99441 non-null  object\n",
            " 1   customer_unique_id        99441 non-null  object\n",
            " 2   customer_zip_code_prefix  99441 non-null  int64 \n",
            " 3   customer_city             99441 non-null  object\n",
            " 4   customer_state            99441 non-null  object\n",
            "dtypes: int64(1), object(4)\n",
            "memory usage: 3.8+ MB\n"
          ]
        }
      ],
      "source": [
        "customers_df.info()"
      ]
    },
    {
      "cell_type": "markdown",
      "metadata": {
        "id": "PlLQpyQmRWAS"
      },
      "source": [
        "Dari data tersebut tidak terdapat jumlah data yang salah dan *type data* yang salah"
      ]
    },
    {
      "cell_type": "code",
      "execution_count": 12,
      "metadata": {
        "colab": {
          "base_uri": "https://localhost:8080/"
        },
        "id": "7B0aUdN67z5_",
        "outputId": "1d6758cd-06f8-4eb2-f34c-c0e4f905b7f7"
      },
      "outputs": [
        {
          "data": {
            "text/plain": [
              "customer_id                 0\n",
              "customer_unique_id          0\n",
              "customer_zip_code_prefix    0\n",
              "customer_city               0\n",
              "customer_state              0\n",
              "dtype: int64"
            ]
          },
          "execution_count": 12,
          "metadata": {},
          "output_type": "execute_result"
        }
      ],
      "source": [
        "customers_df.isna().sum()"
      ]
    },
    {
      "cell_type": "markdown",
      "metadata": {
        "id": "SASLhCOdRWAU"
      },
      "source": [
        "Dari data tersebut tidak terdapat *missing value*"
      ]
    },
    {
      "cell_type": "code",
      "execution_count": 13,
      "metadata": {
        "colab": {
          "base_uri": "https://localhost:8080/"
        },
        "id": "No92ooWm6ohs",
        "outputId": "bf3ef722-10e0-4df7-c8ed-7d091e67d7e4"
      },
      "outputs": [
        {
          "name": "stdout",
          "output_type": "stream",
          "text": [
            "Jumlah duplikasi:  0\n"
          ]
        }
      ],
      "source": [
        "print(\"Jumlah duplikasi: \", customers_df.duplicated().sum())"
      ]
    },
    {
      "cell_type": "markdown",
      "metadata": {
        "id": "55ByZnw6RWAW"
      },
      "source": [
        "Dari data tersebut tidak terdapat data yang terduplikasi"
      ]
    },
    {
      "cell_type": "code",
      "execution_count": 14,
      "metadata": {
        "colab": {
          "base_uri": "https://localhost:8080/",
          "height": 394
        },
        "id": "dDlbG_z56rIG",
        "outputId": "1d46ca47-15d3-4a7b-c063-5aeaab8b30a3"
      },
      "outputs": [
        {
          "data": {
            "text/html": [
              "<div>\n",
              "<style scoped>\n",
              "    .dataframe tbody tr th:only-of-type {\n",
              "        vertical-align: middle;\n",
              "    }\n",
              "\n",
              "    .dataframe tbody tr th {\n",
              "        vertical-align: top;\n",
              "    }\n",
              "\n",
              "    .dataframe thead th {\n",
              "        text-align: right;\n",
              "    }\n",
              "</style>\n",
              "<table border=\"1\" class=\"dataframe\">\n",
              "  <thead>\n",
              "    <tr style=\"text-align: right;\">\n",
              "      <th></th>\n",
              "      <th>customer_id</th>\n",
              "      <th>customer_unique_id</th>\n",
              "      <th>customer_zip_code_prefix</th>\n",
              "      <th>customer_city</th>\n",
              "      <th>customer_state</th>\n",
              "    </tr>\n",
              "  </thead>\n",
              "  <tbody>\n",
              "    <tr>\n",
              "      <th>count</th>\n",
              "      <td>99441</td>\n",
              "      <td>99441</td>\n",
              "      <td>99441.000000</td>\n",
              "      <td>99441</td>\n",
              "      <td>99441</td>\n",
              "    </tr>\n",
              "    <tr>\n",
              "      <th>unique</th>\n",
              "      <td>99441</td>\n",
              "      <td>96096</td>\n",
              "      <td>NaN</td>\n",
              "      <td>4119</td>\n",
              "      <td>27</td>\n",
              "    </tr>\n",
              "    <tr>\n",
              "      <th>top</th>\n",
              "      <td>06b8999e2fba1a1fbc88172c00ba8bc7</td>\n",
              "      <td>8d50f5eadf50201ccdcedfb9e2ac8455</td>\n",
              "      <td>NaN</td>\n",
              "      <td>sao paulo</td>\n",
              "      <td>SP</td>\n",
              "    </tr>\n",
              "    <tr>\n",
              "      <th>freq</th>\n",
              "      <td>1</td>\n",
              "      <td>17</td>\n",
              "      <td>NaN</td>\n",
              "      <td>15540</td>\n",
              "      <td>41746</td>\n",
              "    </tr>\n",
              "    <tr>\n",
              "      <th>mean</th>\n",
              "      <td>NaN</td>\n",
              "      <td>NaN</td>\n",
              "      <td>35137.474583</td>\n",
              "      <td>NaN</td>\n",
              "      <td>NaN</td>\n",
              "    </tr>\n",
              "    <tr>\n",
              "      <th>std</th>\n",
              "      <td>NaN</td>\n",
              "      <td>NaN</td>\n",
              "      <td>29797.938996</td>\n",
              "      <td>NaN</td>\n",
              "      <td>NaN</td>\n",
              "    </tr>\n",
              "    <tr>\n",
              "      <th>min</th>\n",
              "      <td>NaN</td>\n",
              "      <td>NaN</td>\n",
              "      <td>1003.000000</td>\n",
              "      <td>NaN</td>\n",
              "      <td>NaN</td>\n",
              "    </tr>\n",
              "    <tr>\n",
              "      <th>25%</th>\n",
              "      <td>NaN</td>\n",
              "      <td>NaN</td>\n",
              "      <td>11347.000000</td>\n",
              "      <td>NaN</td>\n",
              "      <td>NaN</td>\n",
              "    </tr>\n",
              "    <tr>\n",
              "      <th>50%</th>\n",
              "      <td>NaN</td>\n",
              "      <td>NaN</td>\n",
              "      <td>24416.000000</td>\n",
              "      <td>NaN</td>\n",
              "      <td>NaN</td>\n",
              "    </tr>\n",
              "    <tr>\n",
              "      <th>75%</th>\n",
              "      <td>NaN</td>\n",
              "      <td>NaN</td>\n",
              "      <td>58900.000000</td>\n",
              "      <td>NaN</td>\n",
              "      <td>NaN</td>\n",
              "    </tr>\n",
              "    <tr>\n",
              "      <th>max</th>\n",
              "      <td>NaN</td>\n",
              "      <td>NaN</td>\n",
              "      <td>99990.000000</td>\n",
              "      <td>NaN</td>\n",
              "      <td>NaN</td>\n",
              "    </tr>\n",
              "  </tbody>\n",
              "</table>\n",
              "</div>"
            ],
            "text/plain": [
              "                             customer_id                customer_unique_id  \\\n",
              "count                              99441                             99441   \n",
              "unique                             99441                             96096   \n",
              "top     06b8999e2fba1a1fbc88172c00ba8bc7  8d50f5eadf50201ccdcedfb9e2ac8455   \n",
              "freq                                   1                                17   \n",
              "mean                                 NaN                               NaN   \n",
              "std                                  NaN                               NaN   \n",
              "min                                  NaN                               NaN   \n",
              "25%                                  NaN                               NaN   \n",
              "50%                                  NaN                               NaN   \n",
              "75%                                  NaN                               NaN   \n",
              "max                                  NaN                               NaN   \n",
              "\n",
              "        customer_zip_code_prefix customer_city customer_state  \n",
              "count               99441.000000         99441          99441  \n",
              "unique                       NaN          4119             27  \n",
              "top                          NaN     sao paulo             SP  \n",
              "freq                         NaN         15540          41746  \n",
              "mean                35137.474583           NaN            NaN  \n",
              "std                 29797.938996           NaN            NaN  \n",
              "min                  1003.000000           NaN            NaN  \n",
              "25%                 11347.000000           NaN            NaN  \n",
              "50%                 24416.000000           NaN            NaN  \n",
              "75%                 58900.000000           NaN            NaN  \n",
              "max                 99990.000000           NaN            NaN  "
            ]
          },
          "execution_count": 14,
          "metadata": {},
          "output_type": "execute_result"
        }
      ],
      "source": [
        "customers_df.describe(include=('all'))"
      ]
    },
    {
      "cell_type": "markdown",
      "metadata": {
        "id": "Yet4JvbDRWAX"
      },
      "source": [
        "Dari data tersebut tidak terdapat keanenahan berdasarkan statistik deskriptif"
      ]
    },
    {
      "cell_type": "markdown",
      "metadata": {
        "id": "iqhJ5N6I7PXR"
      },
      "source": [
        "### 2. Data geolocation_df"
      ]
    },
    {
      "cell_type": "code",
      "execution_count": 15,
      "metadata": {
        "colab": {
          "base_uri": "https://localhost:8080/"
        },
        "id": "fV8XeA2c7XNT",
        "outputId": "462c2c6e-76be-4306-ab5d-9824ce454234"
      },
      "outputs": [
        {
          "name": "stdout",
          "output_type": "stream",
          "text": [
            "<class 'pandas.core.frame.DataFrame'>\n",
            "RangeIndex: 1000163 entries, 0 to 1000162\n",
            "Data columns (total 5 columns):\n",
            " #   Column                       Non-Null Count    Dtype  \n",
            "---  ------                       --------------    -----  \n",
            " 0   geolocation_zip_code_prefix  1000163 non-null  int64  \n",
            " 1   geolocation_lat              1000163 non-null  float64\n",
            " 2   geolocation_lng              1000163 non-null  float64\n",
            " 3   geolocation_city             1000163 non-null  object \n",
            " 4   geolocation_state            1000163 non-null  object \n",
            "dtypes: float64(2), int64(1), object(2)\n",
            "memory usage: 38.2+ MB\n"
          ]
        }
      ],
      "source": [
        "geo_df.info()"
      ]
    },
    {
      "cell_type": "markdown",
      "metadata": {
        "id": "TM3KSkDgRWAb"
      },
      "source": [
        "Dari data tersebut tidak terdapat jumlah data yang salah dan *type data* yang salah"
      ]
    },
    {
      "cell_type": "code",
      "execution_count": 16,
      "metadata": {
        "colab": {
          "base_uri": "https://localhost:8080/"
        },
        "id": "eB3G7L5A73rx",
        "outputId": "84b7aa6f-bdf2-4e6a-8f91-e90f41db2eed"
      },
      "outputs": [
        {
          "data": {
            "text/plain": [
              "geolocation_zip_code_prefix    0\n",
              "geolocation_lat                0\n",
              "geolocation_lng                0\n",
              "geolocation_city               0\n",
              "geolocation_state              0\n",
              "dtype: int64"
            ]
          },
          "execution_count": 16,
          "metadata": {},
          "output_type": "execute_result"
        }
      ],
      "source": [
        "geo_df.isna().sum()"
      ]
    },
    {
      "cell_type": "markdown",
      "metadata": {
        "id": "efezIsJSRWAd"
      },
      "source": [
        "Dari data tersebut tidak terdapat *missing value*"
      ]
    },
    {
      "cell_type": "code",
      "execution_count": 17,
      "metadata": {
        "colab": {
          "base_uri": "https://localhost:8080/"
        },
        "id": "ym2pZE-176uT",
        "outputId": "41ca5bd7-e5e1-47e9-fa23-f6055637877c"
      },
      "outputs": [
        {
          "name": "stdout",
          "output_type": "stream",
          "text": [
            "Jumlah duplikasi:  261831\n"
          ]
        }
      ],
      "source": [
        "print(\"Jumlah duplikasi: \", geo_df.duplicated().sum())"
      ]
    },
    {
      "cell_type": "markdown",
      "metadata": {
        "id": "0dPGELDcRWAf"
      },
      "source": [
        "Dari data tersebut terdapat data yang terduplikasi sebanyak 261.831"
      ]
    },
    {
      "cell_type": "code",
      "execution_count": 18,
      "metadata": {
        "colab": {
          "base_uri": "https://localhost:8080/",
          "height": 394
        },
        "id": "APN0nPHw8AWJ",
        "outputId": "7a40b0b2-7124-4e9a-9b1e-8c0608d312e7"
      },
      "outputs": [
        {
          "data": {
            "text/html": [
              "<div>\n",
              "<style scoped>\n",
              "    .dataframe tbody tr th:only-of-type {\n",
              "        vertical-align: middle;\n",
              "    }\n",
              "\n",
              "    .dataframe tbody tr th {\n",
              "        vertical-align: top;\n",
              "    }\n",
              "\n",
              "    .dataframe thead th {\n",
              "        text-align: right;\n",
              "    }\n",
              "</style>\n",
              "<table border=\"1\" class=\"dataframe\">\n",
              "  <thead>\n",
              "    <tr style=\"text-align: right;\">\n",
              "      <th></th>\n",
              "      <th>geolocation_zip_code_prefix</th>\n",
              "      <th>geolocation_lat</th>\n",
              "      <th>geolocation_lng</th>\n",
              "      <th>geolocation_city</th>\n",
              "      <th>geolocation_state</th>\n",
              "    </tr>\n",
              "  </thead>\n",
              "  <tbody>\n",
              "    <tr>\n",
              "      <th>count</th>\n",
              "      <td>1.000163e+06</td>\n",
              "      <td>1.000163e+06</td>\n",
              "      <td>1.000163e+06</td>\n",
              "      <td>1000163</td>\n",
              "      <td>1000163</td>\n",
              "    </tr>\n",
              "    <tr>\n",
              "      <th>unique</th>\n",
              "      <td>NaN</td>\n",
              "      <td>NaN</td>\n",
              "      <td>NaN</td>\n",
              "      <td>8011</td>\n",
              "      <td>27</td>\n",
              "    </tr>\n",
              "    <tr>\n",
              "      <th>top</th>\n",
              "      <td>NaN</td>\n",
              "      <td>NaN</td>\n",
              "      <td>NaN</td>\n",
              "      <td>sao paulo</td>\n",
              "      <td>SP</td>\n",
              "    </tr>\n",
              "    <tr>\n",
              "      <th>freq</th>\n",
              "      <td>NaN</td>\n",
              "      <td>NaN</td>\n",
              "      <td>NaN</td>\n",
              "      <td>135800</td>\n",
              "      <td>404268</td>\n",
              "    </tr>\n",
              "    <tr>\n",
              "      <th>mean</th>\n",
              "      <td>3.657417e+04</td>\n",
              "      <td>-2.117615e+01</td>\n",
              "      <td>-4.639054e+01</td>\n",
              "      <td>NaN</td>\n",
              "      <td>NaN</td>\n",
              "    </tr>\n",
              "    <tr>\n",
              "      <th>std</th>\n",
              "      <td>3.054934e+04</td>\n",
              "      <td>5.715866e+00</td>\n",
              "      <td>4.269748e+00</td>\n",
              "      <td>NaN</td>\n",
              "      <td>NaN</td>\n",
              "    </tr>\n",
              "    <tr>\n",
              "      <th>min</th>\n",
              "      <td>1.001000e+03</td>\n",
              "      <td>-3.660537e+01</td>\n",
              "      <td>-1.014668e+02</td>\n",
              "      <td>NaN</td>\n",
              "      <td>NaN</td>\n",
              "    </tr>\n",
              "    <tr>\n",
              "      <th>25%</th>\n",
              "      <td>1.107500e+04</td>\n",
              "      <td>-2.360355e+01</td>\n",
              "      <td>-4.857317e+01</td>\n",
              "      <td>NaN</td>\n",
              "      <td>NaN</td>\n",
              "    </tr>\n",
              "    <tr>\n",
              "      <th>50%</th>\n",
              "      <td>2.653000e+04</td>\n",
              "      <td>-2.291938e+01</td>\n",
              "      <td>-4.663788e+01</td>\n",
              "      <td>NaN</td>\n",
              "      <td>NaN</td>\n",
              "    </tr>\n",
              "    <tr>\n",
              "      <th>75%</th>\n",
              "      <td>6.350400e+04</td>\n",
              "      <td>-1.997962e+01</td>\n",
              "      <td>-4.376771e+01</td>\n",
              "      <td>NaN</td>\n",
              "      <td>NaN</td>\n",
              "    </tr>\n",
              "    <tr>\n",
              "      <th>max</th>\n",
              "      <td>9.999000e+04</td>\n",
              "      <td>4.506593e+01</td>\n",
              "      <td>1.211054e+02</td>\n",
              "      <td>NaN</td>\n",
              "      <td>NaN</td>\n",
              "    </tr>\n",
              "  </tbody>\n",
              "</table>\n",
              "</div>"
            ],
            "text/plain": [
              "        geolocation_zip_code_prefix  geolocation_lat  geolocation_lng  \\\n",
              "count                  1.000163e+06     1.000163e+06     1.000163e+06   \n",
              "unique                          NaN              NaN              NaN   \n",
              "top                             NaN              NaN              NaN   \n",
              "freq                            NaN              NaN              NaN   \n",
              "mean                   3.657417e+04    -2.117615e+01    -4.639054e+01   \n",
              "std                    3.054934e+04     5.715866e+00     4.269748e+00   \n",
              "min                    1.001000e+03    -3.660537e+01    -1.014668e+02   \n",
              "25%                    1.107500e+04    -2.360355e+01    -4.857317e+01   \n",
              "50%                    2.653000e+04    -2.291938e+01    -4.663788e+01   \n",
              "75%                    6.350400e+04    -1.997962e+01    -4.376771e+01   \n",
              "max                    9.999000e+04     4.506593e+01     1.211054e+02   \n",
              "\n",
              "       geolocation_city geolocation_state  \n",
              "count           1000163           1000163  \n",
              "unique             8011                27  \n",
              "top           sao paulo                SP  \n",
              "freq             135800            404268  \n",
              "mean                NaN               NaN  \n",
              "std                 NaN               NaN  \n",
              "min                 NaN               NaN  \n",
              "25%                 NaN               NaN  \n",
              "50%                 NaN               NaN  \n",
              "75%                 NaN               NaN  \n",
              "max                 NaN               NaN  "
            ]
          },
          "execution_count": 18,
          "metadata": {},
          "output_type": "execute_result"
        }
      ],
      "source": [
        "geo_df.describe(include=('all'))"
      ]
    },
    {
      "cell_type": "markdown",
      "metadata": {
        "id": "QEPhsUrvRWA3"
      },
      "source": [
        "Dari data tersebut tidak terdapat keanenahan berdasarkan statistik deskriptif"
      ]
    },
    {
      "cell_type": "markdown",
      "metadata": {
        "id": "g5HqOusi8LpZ"
      },
      "source": [
        "### 3. Data order_items_df"
      ]
    },
    {
      "cell_type": "code",
      "execution_count": 19,
      "metadata": {
        "colab": {
          "base_uri": "https://localhost:8080/"
        },
        "id": "lRPXl8hr8V_m",
        "outputId": "56b7ef1a-a5c0-4a2c-f3c2-6f244c89473e"
      },
      "outputs": [
        {
          "name": "stdout",
          "output_type": "stream",
          "text": [
            "<class 'pandas.core.frame.DataFrame'>\n",
            "RangeIndex: 112650 entries, 0 to 112649\n",
            "Data columns (total 7 columns):\n",
            " #   Column               Non-Null Count   Dtype  \n",
            "---  ------               --------------   -----  \n",
            " 0   order_id             112650 non-null  object \n",
            " 1   order_item_id        112650 non-null  int64  \n",
            " 2   product_id           112650 non-null  object \n",
            " 3   seller_id            112650 non-null  object \n",
            " 4   shipping_limit_date  112650 non-null  object \n",
            " 5   price                112650 non-null  float64\n",
            " 6   freight_value        112650 non-null  float64\n",
            "dtypes: float64(2), int64(1), object(4)\n",
            "memory usage: 6.0+ MB\n"
          ]
        }
      ],
      "source": [
        "order_items_df.info()"
      ]
    },
    {
      "cell_type": "markdown",
      "metadata": {
        "id": "OA96vtO3p-jw"
      },
      "source": [
        "Dari data tersebut terdapat kesalahan tipe data pada kolom **shipping_limit_date** yang seharusnya direpresentasikan dengan tipe data **datetime** bukan **object**"
      ]
    },
    {
      "cell_type": "code",
      "execution_count": 20,
      "metadata": {
        "colab": {
          "base_uri": "https://localhost:8080/"
        },
        "id": "VWNUO2wj8idb",
        "outputId": "ccfebe59-783f-4962-de18-7dc4d10bb07c"
      },
      "outputs": [
        {
          "data": {
            "text/plain": [
              "order_id               0\n",
              "order_item_id          0\n",
              "product_id             0\n",
              "seller_id              0\n",
              "shipping_limit_date    0\n",
              "price                  0\n",
              "freight_value          0\n",
              "dtype: int64"
            ]
          },
          "execution_count": 20,
          "metadata": {},
          "output_type": "execute_result"
        }
      ],
      "source": [
        "order_items_df.isna().sum()"
      ]
    },
    {
      "cell_type": "markdown",
      "metadata": {
        "id": "iQwAi34VRWA7"
      },
      "source": [
        "Dari data tersebut tidak terdapat *missing value*"
      ]
    },
    {
      "cell_type": "code",
      "execution_count": 21,
      "metadata": {
        "colab": {
          "base_uri": "https://localhost:8080/"
        },
        "id": "SjeIak5B8px-",
        "outputId": "3b301e71-ab2c-4015-b5d5-0b4bd260c10e"
      },
      "outputs": [
        {
          "name": "stdout",
          "output_type": "stream",
          "text": [
            "Jumlah duplikasi:  0\n"
          ]
        }
      ],
      "source": [
        "print(\"Jumlah duplikasi: \", order_items_df.duplicated().sum())"
      ]
    },
    {
      "cell_type": "markdown",
      "metadata": {
        "id": "CwhmzGJKRWA9"
      },
      "source": [
        "Dari data tersebut tidak terdapat data yang terduplikasi"
      ]
    },
    {
      "cell_type": "code",
      "execution_count": 22,
      "metadata": {
        "colab": {
          "base_uri": "https://localhost:8080/",
          "height": 414
        },
        "id": "sxr_5YfP8wLn",
        "outputId": "fac243a5-f6af-4028-aded-b8e07385795b"
      },
      "outputs": [
        {
          "data": {
            "text/html": [
              "<div>\n",
              "<style scoped>\n",
              "    .dataframe tbody tr th:only-of-type {\n",
              "        vertical-align: middle;\n",
              "    }\n",
              "\n",
              "    .dataframe tbody tr th {\n",
              "        vertical-align: top;\n",
              "    }\n",
              "\n",
              "    .dataframe thead th {\n",
              "        text-align: right;\n",
              "    }\n",
              "</style>\n",
              "<table border=\"1\" class=\"dataframe\">\n",
              "  <thead>\n",
              "    <tr style=\"text-align: right;\">\n",
              "      <th></th>\n",
              "      <th>order_id</th>\n",
              "      <th>order_item_id</th>\n",
              "      <th>product_id</th>\n",
              "      <th>seller_id</th>\n",
              "      <th>shipping_limit_date</th>\n",
              "      <th>price</th>\n",
              "      <th>freight_value</th>\n",
              "    </tr>\n",
              "  </thead>\n",
              "  <tbody>\n",
              "    <tr>\n",
              "      <th>count</th>\n",
              "      <td>112650</td>\n",
              "      <td>112650.000000</td>\n",
              "      <td>112650</td>\n",
              "      <td>112650</td>\n",
              "      <td>112650</td>\n",
              "      <td>112650.000000</td>\n",
              "      <td>112650.000000</td>\n",
              "    </tr>\n",
              "    <tr>\n",
              "      <th>unique</th>\n",
              "      <td>98666</td>\n",
              "      <td>NaN</td>\n",
              "      <td>32951</td>\n",
              "      <td>3095</td>\n",
              "      <td>93318</td>\n",
              "      <td>NaN</td>\n",
              "      <td>NaN</td>\n",
              "    </tr>\n",
              "    <tr>\n",
              "      <th>top</th>\n",
              "      <td>8272b63d03f5f79c56e9e4120aec44ef</td>\n",
              "      <td>NaN</td>\n",
              "      <td>aca2eb7d00ea1a7b8ebd4e68314663af</td>\n",
              "      <td>6560211a19b47992c3666cc44a7e94c0</td>\n",
              "      <td>2017-07-21 18:25:23</td>\n",
              "      <td>NaN</td>\n",
              "      <td>NaN</td>\n",
              "    </tr>\n",
              "    <tr>\n",
              "      <th>freq</th>\n",
              "      <td>21</td>\n",
              "      <td>NaN</td>\n",
              "      <td>527</td>\n",
              "      <td>2033</td>\n",
              "      <td>21</td>\n",
              "      <td>NaN</td>\n",
              "      <td>NaN</td>\n",
              "    </tr>\n",
              "    <tr>\n",
              "      <th>mean</th>\n",
              "      <td>NaN</td>\n",
              "      <td>1.197834</td>\n",
              "      <td>NaN</td>\n",
              "      <td>NaN</td>\n",
              "      <td>NaN</td>\n",
              "      <td>120.653739</td>\n",
              "      <td>19.990320</td>\n",
              "    </tr>\n",
              "    <tr>\n",
              "      <th>std</th>\n",
              "      <td>NaN</td>\n",
              "      <td>0.705124</td>\n",
              "      <td>NaN</td>\n",
              "      <td>NaN</td>\n",
              "      <td>NaN</td>\n",
              "      <td>183.633928</td>\n",
              "      <td>15.806405</td>\n",
              "    </tr>\n",
              "    <tr>\n",
              "      <th>min</th>\n",
              "      <td>NaN</td>\n",
              "      <td>1.000000</td>\n",
              "      <td>NaN</td>\n",
              "      <td>NaN</td>\n",
              "      <td>NaN</td>\n",
              "      <td>0.850000</td>\n",
              "      <td>0.000000</td>\n",
              "    </tr>\n",
              "    <tr>\n",
              "      <th>25%</th>\n",
              "      <td>NaN</td>\n",
              "      <td>1.000000</td>\n",
              "      <td>NaN</td>\n",
              "      <td>NaN</td>\n",
              "      <td>NaN</td>\n",
              "      <td>39.900000</td>\n",
              "      <td>13.080000</td>\n",
              "    </tr>\n",
              "    <tr>\n",
              "      <th>50%</th>\n",
              "      <td>NaN</td>\n",
              "      <td>1.000000</td>\n",
              "      <td>NaN</td>\n",
              "      <td>NaN</td>\n",
              "      <td>NaN</td>\n",
              "      <td>74.990000</td>\n",
              "      <td>16.260000</td>\n",
              "    </tr>\n",
              "    <tr>\n",
              "      <th>75%</th>\n",
              "      <td>NaN</td>\n",
              "      <td>1.000000</td>\n",
              "      <td>NaN</td>\n",
              "      <td>NaN</td>\n",
              "      <td>NaN</td>\n",
              "      <td>134.900000</td>\n",
              "      <td>21.150000</td>\n",
              "    </tr>\n",
              "    <tr>\n",
              "      <th>max</th>\n",
              "      <td>NaN</td>\n",
              "      <td>21.000000</td>\n",
              "      <td>NaN</td>\n",
              "      <td>NaN</td>\n",
              "      <td>NaN</td>\n",
              "      <td>6735.000000</td>\n",
              "      <td>409.680000</td>\n",
              "    </tr>\n",
              "  </tbody>\n",
              "</table>\n",
              "</div>"
            ],
            "text/plain": [
              "                                order_id  order_item_id  \\\n",
              "count                             112650  112650.000000   \n",
              "unique                             98666            NaN   \n",
              "top     8272b63d03f5f79c56e9e4120aec44ef            NaN   \n",
              "freq                                  21            NaN   \n",
              "mean                                 NaN       1.197834   \n",
              "std                                  NaN       0.705124   \n",
              "min                                  NaN       1.000000   \n",
              "25%                                  NaN       1.000000   \n",
              "50%                                  NaN       1.000000   \n",
              "75%                                  NaN       1.000000   \n",
              "max                                  NaN      21.000000   \n",
              "\n",
              "                              product_id                         seller_id  \\\n",
              "count                             112650                            112650   \n",
              "unique                             32951                              3095   \n",
              "top     aca2eb7d00ea1a7b8ebd4e68314663af  6560211a19b47992c3666cc44a7e94c0   \n",
              "freq                                 527                              2033   \n",
              "mean                                 NaN                               NaN   \n",
              "std                                  NaN                               NaN   \n",
              "min                                  NaN                               NaN   \n",
              "25%                                  NaN                               NaN   \n",
              "50%                                  NaN                               NaN   \n",
              "75%                                  NaN                               NaN   \n",
              "max                                  NaN                               NaN   \n",
              "\n",
              "        shipping_limit_date          price  freight_value  \n",
              "count                112650  112650.000000  112650.000000  \n",
              "unique                93318            NaN            NaN  \n",
              "top     2017-07-21 18:25:23            NaN            NaN  \n",
              "freq                     21            NaN            NaN  \n",
              "mean                    NaN     120.653739      19.990320  \n",
              "std                     NaN     183.633928      15.806405  \n",
              "min                     NaN       0.850000       0.000000  \n",
              "25%                     NaN      39.900000      13.080000  \n",
              "50%                     NaN      74.990000      16.260000  \n",
              "75%                     NaN     134.900000      21.150000  \n",
              "max                     NaN    6735.000000     409.680000  "
            ]
          },
          "execution_count": 22,
          "metadata": {},
          "output_type": "execute_result"
        }
      ],
      "source": [
        "order_items_df.describe(include=('all'))"
      ]
    },
    {
      "cell_type": "markdown",
      "metadata": {
        "id": "zta7bPUxRWBA"
      },
      "source": [
        "Dari data tersebut tidak terdapat keanenahan berdasarkan statistik deskriptif"
      ]
    },
    {
      "cell_type": "markdown",
      "metadata": {
        "id": "uRw6u-mp9BdF"
      },
      "source": [
        "### 4. Data order_payment_df"
      ]
    },
    {
      "cell_type": "code",
      "execution_count": 23,
      "metadata": {
        "colab": {
          "base_uri": "https://localhost:8080/"
        },
        "id": "f3mgAmwq9LuU",
        "outputId": "6f7901ee-036d-4ec2-b8c0-ed917fc5b273"
      },
      "outputs": [
        {
          "name": "stdout",
          "output_type": "stream",
          "text": [
            "<class 'pandas.core.frame.DataFrame'>\n",
            "RangeIndex: 103886 entries, 0 to 103885\n",
            "Data columns (total 5 columns):\n",
            " #   Column                Non-Null Count   Dtype  \n",
            "---  ------                --------------   -----  \n",
            " 0   order_id              103886 non-null  object \n",
            " 1   payment_sequential    103886 non-null  int64  \n",
            " 2   payment_type          103886 non-null  object \n",
            " 3   payment_installments  103886 non-null  int64  \n",
            " 4   payment_value         103886 non-null  float64\n",
            "dtypes: float64(1), int64(2), object(2)\n",
            "memory usage: 4.0+ MB\n"
          ]
        }
      ],
      "source": [
        "order_payments_df.info()"
      ]
    },
    {
      "cell_type": "markdown",
      "metadata": {
        "id": "BxnJmP-mRWBD"
      },
      "source": [
        "Dari data tersebut tidak terdapat jumlah data yang salah dan *type data* yang salah"
      ]
    },
    {
      "cell_type": "code",
      "execution_count": 24,
      "metadata": {
        "colab": {
          "base_uri": "https://localhost:8080/"
        },
        "id": "R_8sRqEg9Tpa",
        "outputId": "7095f27d-d87d-4065-b873-974ba5b539d1"
      },
      "outputs": [
        {
          "data": {
            "text/plain": [
              "order_id                0\n",
              "payment_sequential      0\n",
              "payment_type            0\n",
              "payment_installments    0\n",
              "payment_value           0\n",
              "dtype: int64"
            ]
          },
          "execution_count": 24,
          "metadata": {},
          "output_type": "execute_result"
        }
      ],
      "source": [
        "order_payments_df.isna().sum()"
      ]
    },
    {
      "cell_type": "markdown",
      "metadata": {
        "id": "bGYsnnaIRWBG"
      },
      "source": [
        "Dari data tersebut tidak terdapat *missing value*"
      ]
    },
    {
      "cell_type": "code",
      "execution_count": 25,
      "metadata": {
        "colab": {
          "base_uri": "https://localhost:8080/"
        },
        "id": "OYWexkYq9ZZu",
        "outputId": "333f2a2d-0117-4215-900e-4e132bc3ed62"
      },
      "outputs": [
        {
          "name": "stdout",
          "output_type": "stream",
          "text": [
            "Jumlah duplikasi:  0\n"
          ]
        }
      ],
      "source": [
        "print(\"Jumlah duplikasi: \", order_payments_df.duplicated().sum())"
      ]
    },
    {
      "cell_type": "markdown",
      "metadata": {
        "id": "aw8vq6X3RWBI"
      },
      "source": [
        "Dari data tersebut tidak terdapat data yang terduplikasi"
      ]
    },
    {
      "cell_type": "code",
      "execution_count": 26,
      "metadata": {
        "colab": {
          "base_uri": "https://localhost:8080/",
          "height": 394
        },
        "id": "KH0ulsbc9dcu",
        "outputId": "4f77ce04-5b3e-44b6-d4de-48e46849d471"
      },
      "outputs": [
        {
          "data": {
            "text/html": [
              "<div>\n",
              "<style scoped>\n",
              "    .dataframe tbody tr th:only-of-type {\n",
              "        vertical-align: middle;\n",
              "    }\n",
              "\n",
              "    .dataframe tbody tr th {\n",
              "        vertical-align: top;\n",
              "    }\n",
              "\n",
              "    .dataframe thead th {\n",
              "        text-align: right;\n",
              "    }\n",
              "</style>\n",
              "<table border=\"1\" class=\"dataframe\">\n",
              "  <thead>\n",
              "    <tr style=\"text-align: right;\">\n",
              "      <th></th>\n",
              "      <th>order_id</th>\n",
              "      <th>payment_sequential</th>\n",
              "      <th>payment_type</th>\n",
              "      <th>payment_installments</th>\n",
              "      <th>payment_value</th>\n",
              "    </tr>\n",
              "  </thead>\n",
              "  <tbody>\n",
              "    <tr>\n",
              "      <th>count</th>\n",
              "      <td>103886</td>\n",
              "      <td>103886.000000</td>\n",
              "      <td>103886</td>\n",
              "      <td>103886.000000</td>\n",
              "      <td>103886.000000</td>\n",
              "    </tr>\n",
              "    <tr>\n",
              "      <th>unique</th>\n",
              "      <td>99440</td>\n",
              "      <td>NaN</td>\n",
              "      <td>5</td>\n",
              "      <td>NaN</td>\n",
              "      <td>NaN</td>\n",
              "    </tr>\n",
              "    <tr>\n",
              "      <th>top</th>\n",
              "      <td>fa65dad1b0e818e3ccc5cb0e39231352</td>\n",
              "      <td>NaN</td>\n",
              "      <td>credit_card</td>\n",
              "      <td>NaN</td>\n",
              "      <td>NaN</td>\n",
              "    </tr>\n",
              "    <tr>\n",
              "      <th>freq</th>\n",
              "      <td>29</td>\n",
              "      <td>NaN</td>\n",
              "      <td>76795</td>\n",
              "      <td>NaN</td>\n",
              "      <td>NaN</td>\n",
              "    </tr>\n",
              "    <tr>\n",
              "      <th>mean</th>\n",
              "      <td>NaN</td>\n",
              "      <td>1.092679</td>\n",
              "      <td>NaN</td>\n",
              "      <td>2.853349</td>\n",
              "      <td>154.100380</td>\n",
              "    </tr>\n",
              "    <tr>\n",
              "      <th>std</th>\n",
              "      <td>NaN</td>\n",
              "      <td>0.706584</td>\n",
              "      <td>NaN</td>\n",
              "      <td>2.687051</td>\n",
              "      <td>217.494064</td>\n",
              "    </tr>\n",
              "    <tr>\n",
              "      <th>min</th>\n",
              "      <td>NaN</td>\n",
              "      <td>1.000000</td>\n",
              "      <td>NaN</td>\n",
              "      <td>0.000000</td>\n",
              "      <td>0.000000</td>\n",
              "    </tr>\n",
              "    <tr>\n",
              "      <th>25%</th>\n",
              "      <td>NaN</td>\n",
              "      <td>1.000000</td>\n",
              "      <td>NaN</td>\n",
              "      <td>1.000000</td>\n",
              "      <td>56.790000</td>\n",
              "    </tr>\n",
              "    <tr>\n",
              "      <th>50%</th>\n",
              "      <td>NaN</td>\n",
              "      <td>1.000000</td>\n",
              "      <td>NaN</td>\n",
              "      <td>1.000000</td>\n",
              "      <td>100.000000</td>\n",
              "    </tr>\n",
              "    <tr>\n",
              "      <th>75%</th>\n",
              "      <td>NaN</td>\n",
              "      <td>1.000000</td>\n",
              "      <td>NaN</td>\n",
              "      <td>4.000000</td>\n",
              "      <td>171.837500</td>\n",
              "    </tr>\n",
              "    <tr>\n",
              "      <th>max</th>\n",
              "      <td>NaN</td>\n",
              "      <td>29.000000</td>\n",
              "      <td>NaN</td>\n",
              "      <td>24.000000</td>\n",
              "      <td>13664.080000</td>\n",
              "    </tr>\n",
              "  </tbody>\n",
              "</table>\n",
              "</div>"
            ],
            "text/plain": [
              "                                order_id  payment_sequential payment_type  \\\n",
              "count                             103886       103886.000000       103886   \n",
              "unique                             99440                 NaN            5   \n",
              "top     fa65dad1b0e818e3ccc5cb0e39231352                 NaN  credit_card   \n",
              "freq                                  29                 NaN        76795   \n",
              "mean                                 NaN            1.092679          NaN   \n",
              "std                                  NaN            0.706584          NaN   \n",
              "min                                  NaN            1.000000          NaN   \n",
              "25%                                  NaN            1.000000          NaN   \n",
              "50%                                  NaN            1.000000          NaN   \n",
              "75%                                  NaN            1.000000          NaN   \n",
              "max                                  NaN           29.000000          NaN   \n",
              "\n",
              "        payment_installments  payment_value  \n",
              "count          103886.000000  103886.000000  \n",
              "unique                   NaN            NaN  \n",
              "top                      NaN            NaN  \n",
              "freq                     NaN            NaN  \n",
              "mean                2.853349     154.100380  \n",
              "std                 2.687051     217.494064  \n",
              "min                 0.000000       0.000000  \n",
              "25%                 1.000000      56.790000  \n",
              "50%                 1.000000     100.000000  \n",
              "75%                 4.000000     171.837500  \n",
              "max                24.000000   13664.080000  "
            ]
          },
          "execution_count": 26,
          "metadata": {},
          "output_type": "execute_result"
        }
      ],
      "source": [
        "order_payments_df.describe(include=('all'))"
      ]
    },
    {
      "cell_type": "markdown",
      "metadata": {
        "id": "3Vlc69VMRWBL"
      },
      "source": [
        "Dari data tersebut tidak terdapat keanenahan berdasarkan statistik deskriptif"
      ]
    },
    {
      "cell_type": "markdown",
      "metadata": {
        "id": "wNQkqosK9nXd"
      },
      "source": [
        "### 5. Data order_reviews_df"
      ]
    },
    {
      "cell_type": "code",
      "execution_count": 27,
      "metadata": {
        "colab": {
          "base_uri": "https://localhost:8080/"
        },
        "id": "DfLL0whR9vWZ",
        "outputId": "596b85a2-b9c3-4f16-846d-a4a0df240c55"
      },
      "outputs": [
        {
          "name": "stdout",
          "output_type": "stream",
          "text": [
            "<class 'pandas.core.frame.DataFrame'>\n",
            "RangeIndex: 99224 entries, 0 to 99223\n",
            "Data columns (total 7 columns):\n",
            " #   Column                   Non-Null Count  Dtype \n",
            "---  ------                   --------------  ----- \n",
            " 0   review_id                99224 non-null  object\n",
            " 1   order_id                 99224 non-null  object\n",
            " 2   review_score             99224 non-null  int64 \n",
            " 3   review_comment_title     11568 non-null  object\n",
            " 4   review_comment_message   40977 non-null  object\n",
            " 5   review_creation_date     99224 non-null  object\n",
            " 6   review_answer_timestamp  99224 non-null  object\n",
            "dtypes: int64(1), object(6)\n",
            "memory usage: 5.3+ MB\n"
          ]
        }
      ],
      "source": [
        "order_reviews_df.info()"
      ]
    },
    {
      "cell_type": "markdown",
      "metadata": {
        "id": "0KfgV0niqu_U"
      },
      "source": [
        "Dari data tersebut terdapat kesalahan tipe data pada kolom **review_creation_date** dan **review_answer_timestamp** yang seharusnya direpresentasikan dengan tipe data **datetime** bukan **object**"
      ]
    },
    {
      "cell_type": "code",
      "execution_count": 28,
      "metadata": {
        "colab": {
          "base_uri": "https://localhost:8080/"
        },
        "id": "Fefwy_Ow91VP",
        "outputId": "b5237ece-b9f2-44f3-bed9-08857c03e5a8"
      },
      "outputs": [
        {
          "data": {
            "text/plain": [
              "review_id                      0\n",
              "order_id                       0\n",
              "review_score                   0\n",
              "review_comment_title       87656\n",
              "review_comment_message     58247\n",
              "review_creation_date           0\n",
              "review_answer_timestamp        0\n",
              "dtype: int64"
            ]
          },
          "execution_count": 28,
          "metadata": {},
          "output_type": "execute_result"
        }
      ],
      "source": [
        "order_reviews_df.isna().sum()"
      ]
    },
    {
      "cell_type": "markdown",
      "metadata": {
        "id": "1SaqrArwRWBQ"
      },
      "source": [
        "Dari data tersebut terdapat *missing value* pada kolom **review_comment_title** sebanyak 87.656 dan **review_comment_message** sebanyak 58.247"
      ]
    },
    {
      "cell_type": "code",
      "execution_count": 29,
      "metadata": {
        "colab": {
          "base_uri": "https://localhost:8080/"
        },
        "id": "1AxR2dY397jt",
        "outputId": "a2d36645-63a9-4ecf-925b-19de6df0a6f1"
      },
      "outputs": [
        {
          "name": "stdout",
          "output_type": "stream",
          "text": [
            "Jumlah duplikasi:  0\n"
          ]
        }
      ],
      "source": [
        "print(\"Jumlah duplikasi: \", order_reviews_df.duplicated().sum())"
      ]
    },
    {
      "cell_type": "markdown",
      "metadata": {
        "id": "xVW3aJ7cRWBS"
      },
      "source": [
        "Dari data tersebut tidak terdapat data yang terduplikasi"
      ]
    },
    {
      "cell_type": "code",
      "execution_count": 30,
      "metadata": {
        "colab": {
          "base_uri": "https://localhost:8080/",
          "height": 414
        },
        "id": "uH7NVD0J-FcZ",
        "outputId": "8c0c1314-6c5c-45f7-d7a4-a0323b96955a"
      },
      "outputs": [
        {
          "data": {
            "text/html": [
              "<div>\n",
              "<style scoped>\n",
              "    .dataframe tbody tr th:only-of-type {\n",
              "        vertical-align: middle;\n",
              "    }\n",
              "\n",
              "    .dataframe tbody tr th {\n",
              "        vertical-align: top;\n",
              "    }\n",
              "\n",
              "    .dataframe thead th {\n",
              "        text-align: right;\n",
              "    }\n",
              "</style>\n",
              "<table border=\"1\" class=\"dataframe\">\n",
              "  <thead>\n",
              "    <tr style=\"text-align: right;\">\n",
              "      <th></th>\n",
              "      <th>review_id</th>\n",
              "      <th>order_id</th>\n",
              "      <th>review_score</th>\n",
              "      <th>review_comment_title</th>\n",
              "      <th>review_comment_message</th>\n",
              "      <th>review_creation_date</th>\n",
              "      <th>review_answer_timestamp</th>\n",
              "    </tr>\n",
              "  </thead>\n",
              "  <tbody>\n",
              "    <tr>\n",
              "      <th>count</th>\n",
              "      <td>99224</td>\n",
              "      <td>99224</td>\n",
              "      <td>99224.000000</td>\n",
              "      <td>11568</td>\n",
              "      <td>40977</td>\n",
              "      <td>99224</td>\n",
              "      <td>99224</td>\n",
              "    </tr>\n",
              "    <tr>\n",
              "      <th>unique</th>\n",
              "      <td>98410</td>\n",
              "      <td>98673</td>\n",
              "      <td>NaN</td>\n",
              "      <td>4527</td>\n",
              "      <td>36159</td>\n",
              "      <td>636</td>\n",
              "      <td>98248</td>\n",
              "    </tr>\n",
              "    <tr>\n",
              "      <th>top</th>\n",
              "      <td>7b606b0d57b078384f0b58eac1d41d78</td>\n",
              "      <td>c88b1d1b157a9999ce368f218a407141</td>\n",
              "      <td>NaN</td>\n",
              "      <td>Recomendo</td>\n",
              "      <td>Muito bom</td>\n",
              "      <td>2017-12-19 00:00:00</td>\n",
              "      <td>2017-06-15 23:21:05</td>\n",
              "    </tr>\n",
              "    <tr>\n",
              "      <th>freq</th>\n",
              "      <td>3</td>\n",
              "      <td>3</td>\n",
              "      <td>NaN</td>\n",
              "      <td>423</td>\n",
              "      <td>230</td>\n",
              "      <td>463</td>\n",
              "      <td>4</td>\n",
              "    </tr>\n",
              "    <tr>\n",
              "      <th>mean</th>\n",
              "      <td>NaN</td>\n",
              "      <td>NaN</td>\n",
              "      <td>4.086421</td>\n",
              "      <td>NaN</td>\n",
              "      <td>NaN</td>\n",
              "      <td>NaN</td>\n",
              "      <td>NaN</td>\n",
              "    </tr>\n",
              "    <tr>\n",
              "      <th>std</th>\n",
              "      <td>NaN</td>\n",
              "      <td>NaN</td>\n",
              "      <td>1.347579</td>\n",
              "      <td>NaN</td>\n",
              "      <td>NaN</td>\n",
              "      <td>NaN</td>\n",
              "      <td>NaN</td>\n",
              "    </tr>\n",
              "    <tr>\n",
              "      <th>min</th>\n",
              "      <td>NaN</td>\n",
              "      <td>NaN</td>\n",
              "      <td>1.000000</td>\n",
              "      <td>NaN</td>\n",
              "      <td>NaN</td>\n",
              "      <td>NaN</td>\n",
              "      <td>NaN</td>\n",
              "    </tr>\n",
              "    <tr>\n",
              "      <th>25%</th>\n",
              "      <td>NaN</td>\n",
              "      <td>NaN</td>\n",
              "      <td>4.000000</td>\n",
              "      <td>NaN</td>\n",
              "      <td>NaN</td>\n",
              "      <td>NaN</td>\n",
              "      <td>NaN</td>\n",
              "    </tr>\n",
              "    <tr>\n",
              "      <th>50%</th>\n",
              "      <td>NaN</td>\n",
              "      <td>NaN</td>\n",
              "      <td>5.000000</td>\n",
              "      <td>NaN</td>\n",
              "      <td>NaN</td>\n",
              "      <td>NaN</td>\n",
              "      <td>NaN</td>\n",
              "    </tr>\n",
              "    <tr>\n",
              "      <th>75%</th>\n",
              "      <td>NaN</td>\n",
              "      <td>NaN</td>\n",
              "      <td>5.000000</td>\n",
              "      <td>NaN</td>\n",
              "      <td>NaN</td>\n",
              "      <td>NaN</td>\n",
              "      <td>NaN</td>\n",
              "    </tr>\n",
              "    <tr>\n",
              "      <th>max</th>\n",
              "      <td>NaN</td>\n",
              "      <td>NaN</td>\n",
              "      <td>5.000000</td>\n",
              "      <td>NaN</td>\n",
              "      <td>NaN</td>\n",
              "      <td>NaN</td>\n",
              "      <td>NaN</td>\n",
              "    </tr>\n",
              "  </tbody>\n",
              "</table>\n",
              "</div>"
            ],
            "text/plain": [
              "                               review_id                          order_id  \\\n",
              "count                              99224                             99224   \n",
              "unique                             98410                             98673   \n",
              "top     7b606b0d57b078384f0b58eac1d41d78  c88b1d1b157a9999ce368f218a407141   \n",
              "freq                                   3                                 3   \n",
              "mean                                 NaN                               NaN   \n",
              "std                                  NaN                               NaN   \n",
              "min                                  NaN                               NaN   \n",
              "25%                                  NaN                               NaN   \n",
              "50%                                  NaN                               NaN   \n",
              "75%                                  NaN                               NaN   \n",
              "max                                  NaN                               NaN   \n",
              "\n",
              "        review_score review_comment_title review_comment_message  \\\n",
              "count   99224.000000                11568                  40977   \n",
              "unique           NaN                 4527                  36159   \n",
              "top              NaN            Recomendo              Muito bom   \n",
              "freq             NaN                  423                    230   \n",
              "mean        4.086421                  NaN                    NaN   \n",
              "std         1.347579                  NaN                    NaN   \n",
              "min         1.000000                  NaN                    NaN   \n",
              "25%         4.000000                  NaN                    NaN   \n",
              "50%         5.000000                  NaN                    NaN   \n",
              "75%         5.000000                  NaN                    NaN   \n",
              "max         5.000000                  NaN                    NaN   \n",
              "\n",
              "       review_creation_date review_answer_timestamp  \n",
              "count                 99224                   99224  \n",
              "unique                  636                   98248  \n",
              "top     2017-12-19 00:00:00     2017-06-15 23:21:05  \n",
              "freq                    463                       4  \n",
              "mean                    NaN                     NaN  \n",
              "std                     NaN                     NaN  \n",
              "min                     NaN                     NaN  \n",
              "25%                     NaN                     NaN  \n",
              "50%                     NaN                     NaN  \n",
              "75%                     NaN                     NaN  \n",
              "max                     NaN                     NaN  "
            ]
          },
          "execution_count": 30,
          "metadata": {},
          "output_type": "execute_result"
        }
      ],
      "source": [
        "order_reviews_df.describe(include=('all'))"
      ]
    },
    {
      "cell_type": "markdown",
      "metadata": {
        "id": "8hIYUN6gRWBU"
      },
      "source": [
        "Dari data tersebut tidak terdapat keanenahan berdasarkan statistik deskriptif"
      ]
    },
    {
      "cell_type": "markdown",
      "metadata": {
        "id": "IuNu-Jbn-c55"
      },
      "source": [
        "### 6. Data orders_df"
      ]
    },
    {
      "cell_type": "code",
      "execution_count": 31,
      "metadata": {
        "colab": {
          "base_uri": "https://localhost:8080/"
        },
        "id": "suRmd-O0-ofr",
        "outputId": "71c79b7b-1e5c-4bd0-9adb-665556124b69"
      },
      "outputs": [
        {
          "name": "stdout",
          "output_type": "stream",
          "text": [
            "<class 'pandas.core.frame.DataFrame'>\n",
            "RangeIndex: 99441 entries, 0 to 99440\n",
            "Data columns (total 8 columns):\n",
            " #   Column                         Non-Null Count  Dtype \n",
            "---  ------                         --------------  ----- \n",
            " 0   order_id                       99441 non-null  object\n",
            " 1   customer_id                    99441 non-null  object\n",
            " 2   order_status                   99441 non-null  object\n",
            " 3   order_purchase_timestamp       99441 non-null  object\n",
            " 4   order_approved_at              99281 non-null  object\n",
            " 5   order_delivered_carrier_date   97658 non-null  object\n",
            " 6   order_delivered_customer_date  96476 non-null  object\n",
            " 7   order_estimated_delivery_date  99441 non-null  object\n",
            "dtypes: object(8)\n",
            "memory usage: 6.1+ MB\n"
          ]
        }
      ],
      "source": [
        "orders_df.info()"
      ]
    },
    {
      "cell_type": "markdown",
      "metadata": {
        "id": "c3Z7Mi7SrIO_"
      },
      "source": [
        "Dari data tersebut terdapat kesalahan tipe data pada kolom **order_delivered_carrier_date**, **order_delivered_customer_date**, dan **order_estimated_delivery_date** yang seharusnya direpresentasikan dengan tipe data **datetime** bukan **object**"
      ]
    },
    {
      "cell_type": "code",
      "execution_count": 32,
      "metadata": {
        "colab": {
          "base_uri": "https://localhost:8080/"
        },
        "id": "eR3MDHMr-vvk",
        "outputId": "fb795989-4b0c-4017-b69f-be9f7283d0e5"
      },
      "outputs": [
        {
          "data": {
            "text/plain": [
              "order_id                            0\n",
              "customer_id                         0\n",
              "order_status                        0\n",
              "order_purchase_timestamp            0\n",
              "order_approved_at                 160\n",
              "order_delivered_carrier_date     1783\n",
              "order_delivered_customer_date    2965\n",
              "order_estimated_delivery_date       0\n",
              "dtype: int64"
            ]
          },
          "execution_count": 32,
          "metadata": {},
          "output_type": "execute_result"
        }
      ],
      "source": [
        "orders_df.isna().sum()"
      ]
    },
    {
      "cell_type": "markdown",
      "metadata": {
        "id": "I4xLhhYaRWBY"
      },
      "source": [
        "Dari data tersebut terdapat *missing value* pada kolom **order_approved_at** sebanyak 160, **order_delivered_carrier_date** sebanyak 1.783, dan **order_delivered_customer_date** sebanyak 2.965"
      ]
    },
    {
      "cell_type": "code",
      "execution_count": 33,
      "metadata": {
        "colab": {
          "base_uri": "https://localhost:8080/"
        },
        "id": "oXXh6Tj7-2w6",
        "outputId": "1de3261d-2e7c-4760-a6b7-830fa60f5a38"
      },
      "outputs": [
        {
          "name": "stdout",
          "output_type": "stream",
          "text": [
            "Jumlah duplikasi:  0\n"
          ]
        }
      ],
      "source": [
        "print(\"Jumlah duplikasi: \", orders_df.duplicated().sum())"
      ]
    },
    {
      "cell_type": "markdown",
      "metadata": {
        "id": "64VwjuWuRWBa"
      },
      "source": [
        "Dari data tersebut tidak terdapat data yang terduplikasi"
      ]
    },
    {
      "cell_type": "code",
      "execution_count": 34,
      "metadata": {
        "colab": {
          "base_uri": "https://localhost:8080/",
          "height": 195
        },
        "id": "KELlKkar_EgR",
        "outputId": "eb248d86-cd50-442a-c492-03d6548faac6"
      },
      "outputs": [
        {
          "data": {
            "text/html": [
              "<div>\n",
              "<style scoped>\n",
              "    .dataframe tbody tr th:only-of-type {\n",
              "        vertical-align: middle;\n",
              "    }\n",
              "\n",
              "    .dataframe tbody tr th {\n",
              "        vertical-align: top;\n",
              "    }\n",
              "\n",
              "    .dataframe thead th {\n",
              "        text-align: right;\n",
              "    }\n",
              "</style>\n",
              "<table border=\"1\" class=\"dataframe\">\n",
              "  <thead>\n",
              "    <tr style=\"text-align: right;\">\n",
              "      <th></th>\n",
              "      <th>order_id</th>\n",
              "      <th>customer_id</th>\n",
              "      <th>order_status</th>\n",
              "      <th>order_purchase_timestamp</th>\n",
              "      <th>order_approved_at</th>\n",
              "      <th>order_delivered_carrier_date</th>\n",
              "      <th>order_delivered_customer_date</th>\n",
              "      <th>order_estimated_delivery_date</th>\n",
              "    </tr>\n",
              "  </thead>\n",
              "  <tbody>\n",
              "    <tr>\n",
              "      <th>count</th>\n",
              "      <td>99441</td>\n",
              "      <td>99441</td>\n",
              "      <td>99441</td>\n",
              "      <td>99441</td>\n",
              "      <td>99281</td>\n",
              "      <td>97658</td>\n",
              "      <td>96476</td>\n",
              "      <td>99441</td>\n",
              "    </tr>\n",
              "    <tr>\n",
              "      <th>unique</th>\n",
              "      <td>99441</td>\n",
              "      <td>99441</td>\n",
              "      <td>8</td>\n",
              "      <td>98875</td>\n",
              "      <td>90733</td>\n",
              "      <td>81018</td>\n",
              "      <td>95664</td>\n",
              "      <td>459</td>\n",
              "    </tr>\n",
              "    <tr>\n",
              "      <th>top</th>\n",
              "      <td>e481f51cbdc54678b7cc49136f2d6af7</td>\n",
              "      <td>9ef432eb6251297304e76186b10a928d</td>\n",
              "      <td>delivered</td>\n",
              "      <td>2018-04-11 10:48:14</td>\n",
              "      <td>2018-02-27 04:31:10</td>\n",
              "      <td>2018-05-09 15:48:00</td>\n",
              "      <td>2018-05-08 23:38:46</td>\n",
              "      <td>2017-12-20 00:00:00</td>\n",
              "    </tr>\n",
              "    <tr>\n",
              "      <th>freq</th>\n",
              "      <td>1</td>\n",
              "      <td>1</td>\n",
              "      <td>96478</td>\n",
              "      <td>3</td>\n",
              "      <td>9</td>\n",
              "      <td>47</td>\n",
              "      <td>3</td>\n",
              "      <td>522</td>\n",
              "    </tr>\n",
              "  </tbody>\n",
              "</table>\n",
              "</div>"
            ],
            "text/plain": [
              "                                order_id                       customer_id  \\\n",
              "count                              99441                             99441   \n",
              "unique                             99441                             99441   \n",
              "top     e481f51cbdc54678b7cc49136f2d6af7  9ef432eb6251297304e76186b10a928d   \n",
              "freq                                   1                                 1   \n",
              "\n",
              "       order_status order_purchase_timestamp    order_approved_at  \\\n",
              "count         99441                    99441                99281   \n",
              "unique            8                    98875                90733   \n",
              "top       delivered      2018-04-11 10:48:14  2018-02-27 04:31:10   \n",
              "freq          96478                        3                    9   \n",
              "\n",
              "       order_delivered_carrier_date order_delivered_customer_date  \\\n",
              "count                         97658                         96476   \n",
              "unique                        81018                         95664   \n",
              "top             2018-05-09 15:48:00           2018-05-08 23:38:46   \n",
              "freq                             47                             3   \n",
              "\n",
              "       order_estimated_delivery_date  \n",
              "count                          99441  \n",
              "unique                           459  \n",
              "top              2017-12-20 00:00:00  \n",
              "freq                             522  "
            ]
          },
          "execution_count": 34,
          "metadata": {},
          "output_type": "execute_result"
        }
      ],
      "source": [
        "orders_df.describe(include=('all'))"
      ]
    },
    {
      "cell_type": "markdown",
      "metadata": {
        "id": "tlJDKnE3RWBc"
      },
      "source": [
        "Dari data tersebut tidak terdapat keanenahan berdasarkan statistik deskriptif"
      ]
    },
    {
      "cell_type": "markdown",
      "metadata": {
        "id": "HOe5u030AMqY"
      },
      "source": [
        "### 7. Data product_category_df"
      ]
    },
    {
      "cell_type": "code",
      "execution_count": 35,
      "metadata": {
        "colab": {
          "base_uri": "https://localhost:8080/"
        },
        "id": "KLA4aPeaATe9",
        "outputId": "5e6be754-1e3b-4268-a90d-30435b6b55bb"
      },
      "outputs": [
        {
          "name": "stdout",
          "output_type": "stream",
          "text": [
            "<class 'pandas.core.frame.DataFrame'>\n",
            "RangeIndex: 71 entries, 0 to 70\n",
            "Data columns (total 2 columns):\n",
            " #   Column                         Non-Null Count  Dtype \n",
            "---  ------                         --------------  ----- \n",
            " 0   product_category_name          71 non-null     object\n",
            " 1   product_category_name_english  71 non-null     object\n",
            "dtypes: object(2)\n",
            "memory usage: 1.2+ KB\n"
          ]
        }
      ],
      "source": [
        "product_category_df.info()"
      ]
    },
    {
      "cell_type": "markdown",
      "metadata": {
        "id": "Fr9sJvSiRWBg"
      },
      "source": [
        "Dari data tersebut tidak terdapat jumlah data yang salah dan *type data* yang salah"
      ]
    },
    {
      "cell_type": "code",
      "execution_count": 36,
      "metadata": {
        "colab": {
          "base_uri": "https://localhost:8080/"
        },
        "id": "R0d_Em_pAZbD",
        "outputId": "dabb660c-cee0-4dc3-9b69-9fb97cd0e304"
      },
      "outputs": [
        {
          "data": {
            "text/plain": [
              "product_category_name            0\n",
              "product_category_name_english    0\n",
              "dtype: int64"
            ]
          },
          "execution_count": 36,
          "metadata": {},
          "output_type": "execute_result"
        }
      ],
      "source": [
        "product_category_df.isna().sum()"
      ]
    },
    {
      "cell_type": "markdown",
      "metadata": {
        "id": "LbXVyF-kRWBj"
      },
      "source": [
        "Dari data tersebut tidak terdapat *missing value*"
      ]
    },
    {
      "cell_type": "code",
      "execution_count": 37,
      "metadata": {
        "colab": {
          "base_uri": "https://localhost:8080/"
        },
        "id": "spmrPeH-Aik1",
        "outputId": "ad59bd82-ff89-40ec-c4a7-050b82d3cabf"
      },
      "outputs": [
        {
          "name": "stdout",
          "output_type": "stream",
          "text": [
            "Jumlah duplikasi:  0\n"
          ]
        }
      ],
      "source": [
        "print(\"Jumlah duplikasi: \", product_category_df.duplicated().sum())"
      ]
    },
    {
      "cell_type": "markdown",
      "metadata": {
        "id": "UwYN90viRWBk"
      },
      "source": [
        "Dari data tersebut tidak terdapat data yang terduplikasi"
      ]
    },
    {
      "cell_type": "code",
      "execution_count": 38,
      "metadata": {
        "colab": {
          "base_uri": "https://localhost:8080/",
          "height": 175
        },
        "id": "DzQo21DkAmFi",
        "outputId": "31373980-a045-4079-a828-188d6f11f4ea"
      },
      "outputs": [
        {
          "data": {
            "text/html": [
              "<div>\n",
              "<style scoped>\n",
              "    .dataframe tbody tr th:only-of-type {\n",
              "        vertical-align: middle;\n",
              "    }\n",
              "\n",
              "    .dataframe tbody tr th {\n",
              "        vertical-align: top;\n",
              "    }\n",
              "\n",
              "    .dataframe thead th {\n",
              "        text-align: right;\n",
              "    }\n",
              "</style>\n",
              "<table border=\"1\" class=\"dataframe\">\n",
              "  <thead>\n",
              "    <tr style=\"text-align: right;\">\n",
              "      <th></th>\n",
              "      <th>product_category_name</th>\n",
              "      <th>product_category_name_english</th>\n",
              "    </tr>\n",
              "  </thead>\n",
              "  <tbody>\n",
              "    <tr>\n",
              "      <th>count</th>\n",
              "      <td>71</td>\n",
              "      <td>71</td>\n",
              "    </tr>\n",
              "    <tr>\n",
              "      <th>unique</th>\n",
              "      <td>71</td>\n",
              "      <td>71</td>\n",
              "    </tr>\n",
              "    <tr>\n",
              "      <th>top</th>\n",
              "      <td>beleza_saude</td>\n",
              "      <td>health_beauty</td>\n",
              "    </tr>\n",
              "    <tr>\n",
              "      <th>freq</th>\n",
              "      <td>1</td>\n",
              "      <td>1</td>\n",
              "    </tr>\n",
              "  </tbody>\n",
              "</table>\n",
              "</div>"
            ],
            "text/plain": [
              "       product_category_name product_category_name_english\n",
              "count                     71                            71\n",
              "unique                    71                            71\n",
              "top             beleza_saude                 health_beauty\n",
              "freq                       1                             1"
            ]
          },
          "execution_count": 38,
          "metadata": {},
          "output_type": "execute_result"
        }
      ],
      "source": [
        "product_category_df.describe(include=('all'))"
      ]
    },
    {
      "cell_type": "markdown",
      "metadata": {
        "id": "LpcBZMt1RWBr"
      },
      "source": [
        "Dari data tersebut tidak terdapat keanenahan berdasarkan statistik deskriptif"
      ]
    },
    {
      "cell_type": "markdown",
      "metadata": {
        "id": "Vhqwlp2uAvIp"
      },
      "source": [
        "### 8. Data products_df"
      ]
    },
    {
      "cell_type": "code",
      "execution_count": 39,
      "metadata": {
        "colab": {
          "base_uri": "https://localhost:8080/"
        },
        "id": "MsXD7nHtA1nM",
        "outputId": "523020fd-7dcb-4261-f2aa-e402b6128aaf"
      },
      "outputs": [
        {
          "name": "stdout",
          "output_type": "stream",
          "text": [
            "<class 'pandas.core.frame.DataFrame'>\n",
            "RangeIndex: 32951 entries, 0 to 32950\n",
            "Data columns (total 9 columns):\n",
            " #   Column                      Non-Null Count  Dtype  \n",
            "---  ------                      --------------  -----  \n",
            " 0   product_id                  32951 non-null  object \n",
            " 1   product_category_name       32341 non-null  object \n",
            " 2   product_name_lenght         32341 non-null  float64\n",
            " 3   product_description_lenght  32341 non-null  float64\n",
            " 4   product_photos_qty          32341 non-null  float64\n",
            " 5   product_weight_g            32949 non-null  float64\n",
            " 6   product_length_cm           32949 non-null  float64\n",
            " 7   product_height_cm           32949 non-null  float64\n",
            " 8   product_width_cm            32949 non-null  float64\n",
            "dtypes: float64(7), object(2)\n",
            "memory usage: 2.3+ MB\n"
          ]
        }
      ],
      "source": [
        "products_df.info()"
      ]
    },
    {
      "cell_type": "markdown",
      "metadata": {
        "id": "a8QkIR2BRWBu"
      },
      "source": [
        "Dari data tersebut tidak terdapat *type data* yang salah"
      ]
    },
    {
      "cell_type": "code",
      "execution_count": 40,
      "metadata": {
        "colab": {
          "base_uri": "https://localhost:8080/"
        },
        "id": "mdFKra_qA6LR",
        "outputId": "be2d338f-215f-4d7c-9998-b744e9ca8e75"
      },
      "outputs": [
        {
          "data": {
            "text/plain": [
              "product_id                      0\n",
              "product_category_name         610\n",
              "product_name_lenght           610\n",
              "product_description_lenght    610\n",
              "product_photos_qty            610\n",
              "product_weight_g                2\n",
              "product_length_cm               2\n",
              "product_height_cm               2\n",
              "product_width_cm                2\n",
              "dtype: int64"
            ]
          },
          "execution_count": 40,
          "metadata": {},
          "output_type": "execute_result"
        }
      ],
      "source": [
        "products_df.isna().sum()"
      ]
    },
    {
      "cell_type": "markdown",
      "metadata": {
        "id": "n0s_MtFkRWBw"
      },
      "source": [
        "Dari data tersebut terdapat *missing value* pada kolom **product_category_name**, **product_name_lenght**, **product_description_lenght**, dan **product_photos_qty**  sebanyak 160"
      ]
    },
    {
      "cell_type": "code",
      "execution_count": 41,
      "metadata": {
        "colab": {
          "base_uri": "https://localhost:8080/"
        },
        "id": "p0q8UCz4BBAK",
        "outputId": "72f82499-f8b6-45e8-aa66-a80924ff27b1"
      },
      "outputs": [
        {
          "name": "stdout",
          "output_type": "stream",
          "text": [
            "Jumlah duplikasi:  0\n"
          ]
        }
      ],
      "source": [
        "print(\"Jumlah duplikasi: \", products_df.duplicated().sum())"
      ]
    },
    {
      "cell_type": "markdown",
      "metadata": {
        "id": "Q5msFmk8RWBy"
      },
      "source": [
        "Dari data tersebut tidak terdapat data yang terduplikasi"
      ]
    },
    {
      "cell_type": "code",
      "execution_count": 42,
      "metadata": {
        "colab": {
          "base_uri": "https://localhost:8080/",
          "height": 414
        },
        "id": "2hj2hxX_BJfj",
        "outputId": "2861ace4-99e3-40a6-a2f7-ece80efad4e7"
      },
      "outputs": [
        {
          "data": {
            "text/html": [
              "<div>\n",
              "<style scoped>\n",
              "    .dataframe tbody tr th:only-of-type {\n",
              "        vertical-align: middle;\n",
              "    }\n",
              "\n",
              "    .dataframe tbody tr th {\n",
              "        vertical-align: top;\n",
              "    }\n",
              "\n",
              "    .dataframe thead th {\n",
              "        text-align: right;\n",
              "    }\n",
              "</style>\n",
              "<table border=\"1\" class=\"dataframe\">\n",
              "  <thead>\n",
              "    <tr style=\"text-align: right;\">\n",
              "      <th></th>\n",
              "      <th>product_id</th>\n",
              "      <th>product_category_name</th>\n",
              "      <th>product_name_lenght</th>\n",
              "      <th>product_description_lenght</th>\n",
              "      <th>product_photos_qty</th>\n",
              "      <th>product_weight_g</th>\n",
              "      <th>product_length_cm</th>\n",
              "      <th>product_height_cm</th>\n",
              "      <th>product_width_cm</th>\n",
              "    </tr>\n",
              "  </thead>\n",
              "  <tbody>\n",
              "    <tr>\n",
              "      <th>count</th>\n",
              "      <td>32951</td>\n",
              "      <td>32341</td>\n",
              "      <td>32341.000000</td>\n",
              "      <td>32341.000000</td>\n",
              "      <td>32341.000000</td>\n",
              "      <td>32949.000000</td>\n",
              "      <td>32949.000000</td>\n",
              "      <td>32949.000000</td>\n",
              "      <td>32949.000000</td>\n",
              "    </tr>\n",
              "    <tr>\n",
              "      <th>unique</th>\n",
              "      <td>32951</td>\n",
              "      <td>73</td>\n",
              "      <td>NaN</td>\n",
              "      <td>NaN</td>\n",
              "      <td>NaN</td>\n",
              "      <td>NaN</td>\n",
              "      <td>NaN</td>\n",
              "      <td>NaN</td>\n",
              "      <td>NaN</td>\n",
              "    </tr>\n",
              "    <tr>\n",
              "      <th>top</th>\n",
              "      <td>1e9e8ef04dbcff4541ed26657ea517e5</td>\n",
              "      <td>cama_mesa_banho</td>\n",
              "      <td>NaN</td>\n",
              "      <td>NaN</td>\n",
              "      <td>NaN</td>\n",
              "      <td>NaN</td>\n",
              "      <td>NaN</td>\n",
              "      <td>NaN</td>\n",
              "      <td>NaN</td>\n",
              "    </tr>\n",
              "    <tr>\n",
              "      <th>freq</th>\n",
              "      <td>1</td>\n",
              "      <td>3029</td>\n",
              "      <td>NaN</td>\n",
              "      <td>NaN</td>\n",
              "      <td>NaN</td>\n",
              "      <td>NaN</td>\n",
              "      <td>NaN</td>\n",
              "      <td>NaN</td>\n",
              "      <td>NaN</td>\n",
              "    </tr>\n",
              "    <tr>\n",
              "      <th>mean</th>\n",
              "      <td>NaN</td>\n",
              "      <td>NaN</td>\n",
              "      <td>48.476949</td>\n",
              "      <td>771.495285</td>\n",
              "      <td>2.188986</td>\n",
              "      <td>2276.472488</td>\n",
              "      <td>30.815078</td>\n",
              "      <td>16.937661</td>\n",
              "      <td>23.196728</td>\n",
              "    </tr>\n",
              "    <tr>\n",
              "      <th>std</th>\n",
              "      <td>NaN</td>\n",
              "      <td>NaN</td>\n",
              "      <td>10.245741</td>\n",
              "      <td>635.115225</td>\n",
              "      <td>1.736766</td>\n",
              "      <td>4282.038731</td>\n",
              "      <td>16.914458</td>\n",
              "      <td>13.637554</td>\n",
              "      <td>12.079047</td>\n",
              "    </tr>\n",
              "    <tr>\n",
              "      <th>min</th>\n",
              "      <td>NaN</td>\n",
              "      <td>NaN</td>\n",
              "      <td>5.000000</td>\n",
              "      <td>4.000000</td>\n",
              "      <td>1.000000</td>\n",
              "      <td>0.000000</td>\n",
              "      <td>7.000000</td>\n",
              "      <td>2.000000</td>\n",
              "      <td>6.000000</td>\n",
              "    </tr>\n",
              "    <tr>\n",
              "      <th>25%</th>\n",
              "      <td>NaN</td>\n",
              "      <td>NaN</td>\n",
              "      <td>42.000000</td>\n",
              "      <td>339.000000</td>\n",
              "      <td>1.000000</td>\n",
              "      <td>300.000000</td>\n",
              "      <td>18.000000</td>\n",
              "      <td>8.000000</td>\n",
              "      <td>15.000000</td>\n",
              "    </tr>\n",
              "    <tr>\n",
              "      <th>50%</th>\n",
              "      <td>NaN</td>\n",
              "      <td>NaN</td>\n",
              "      <td>51.000000</td>\n",
              "      <td>595.000000</td>\n",
              "      <td>1.000000</td>\n",
              "      <td>700.000000</td>\n",
              "      <td>25.000000</td>\n",
              "      <td>13.000000</td>\n",
              "      <td>20.000000</td>\n",
              "    </tr>\n",
              "    <tr>\n",
              "      <th>75%</th>\n",
              "      <td>NaN</td>\n",
              "      <td>NaN</td>\n",
              "      <td>57.000000</td>\n",
              "      <td>972.000000</td>\n",
              "      <td>3.000000</td>\n",
              "      <td>1900.000000</td>\n",
              "      <td>38.000000</td>\n",
              "      <td>21.000000</td>\n",
              "      <td>30.000000</td>\n",
              "    </tr>\n",
              "    <tr>\n",
              "      <th>max</th>\n",
              "      <td>NaN</td>\n",
              "      <td>NaN</td>\n",
              "      <td>76.000000</td>\n",
              "      <td>3992.000000</td>\n",
              "      <td>20.000000</td>\n",
              "      <td>40425.000000</td>\n",
              "      <td>105.000000</td>\n",
              "      <td>105.000000</td>\n",
              "      <td>118.000000</td>\n",
              "    </tr>\n",
              "  </tbody>\n",
              "</table>\n",
              "</div>"
            ],
            "text/plain": [
              "                              product_id product_category_name  \\\n",
              "count                              32951                 32341   \n",
              "unique                             32951                    73   \n",
              "top     1e9e8ef04dbcff4541ed26657ea517e5       cama_mesa_banho   \n",
              "freq                                   1                  3029   \n",
              "mean                                 NaN                   NaN   \n",
              "std                                  NaN                   NaN   \n",
              "min                                  NaN                   NaN   \n",
              "25%                                  NaN                   NaN   \n",
              "50%                                  NaN                   NaN   \n",
              "75%                                  NaN                   NaN   \n",
              "max                                  NaN                   NaN   \n",
              "\n",
              "        product_name_lenght  product_description_lenght  product_photos_qty  \\\n",
              "count          32341.000000                32341.000000        32341.000000   \n",
              "unique                  NaN                         NaN                 NaN   \n",
              "top                     NaN                         NaN                 NaN   \n",
              "freq                    NaN                         NaN                 NaN   \n",
              "mean              48.476949                  771.495285            2.188986   \n",
              "std               10.245741                  635.115225            1.736766   \n",
              "min                5.000000                    4.000000            1.000000   \n",
              "25%               42.000000                  339.000000            1.000000   \n",
              "50%               51.000000                  595.000000            1.000000   \n",
              "75%               57.000000                  972.000000            3.000000   \n",
              "max               76.000000                 3992.000000           20.000000   \n",
              "\n",
              "        product_weight_g  product_length_cm  product_height_cm  \\\n",
              "count       32949.000000       32949.000000       32949.000000   \n",
              "unique               NaN                NaN                NaN   \n",
              "top                  NaN                NaN                NaN   \n",
              "freq                 NaN                NaN                NaN   \n",
              "mean         2276.472488          30.815078          16.937661   \n",
              "std          4282.038731          16.914458          13.637554   \n",
              "min             0.000000           7.000000           2.000000   \n",
              "25%           300.000000          18.000000           8.000000   \n",
              "50%           700.000000          25.000000          13.000000   \n",
              "75%          1900.000000          38.000000          21.000000   \n",
              "max         40425.000000         105.000000         105.000000   \n",
              "\n",
              "        product_width_cm  \n",
              "count       32949.000000  \n",
              "unique               NaN  \n",
              "top                  NaN  \n",
              "freq                 NaN  \n",
              "mean           23.196728  \n",
              "std            12.079047  \n",
              "min             6.000000  \n",
              "25%            15.000000  \n",
              "50%            20.000000  \n",
              "75%            30.000000  \n",
              "max           118.000000  "
            ]
          },
          "execution_count": 42,
          "metadata": {},
          "output_type": "execute_result"
        }
      ],
      "source": [
        "products_df.describe(include=('all'))"
      ]
    },
    {
      "cell_type": "markdown",
      "metadata": {
        "id": "uSc6ftN-RWB2"
      },
      "source": [
        "Dari data tersebut tidak terdapat keanenahan berdasarkan statistik deskriptif"
      ]
    },
    {
      "cell_type": "markdown",
      "metadata": {
        "id": "xSgFgUjABV5n"
      },
      "source": [
        "### 9. Data sellers_df"
      ]
    },
    {
      "cell_type": "code",
      "execution_count": 43,
      "metadata": {
        "colab": {
          "base_uri": "https://localhost:8080/"
        },
        "id": "iEi-lJYIBWTe",
        "outputId": "d9c6bcb2-951a-4d22-83ea-f0cc92c10e00"
      },
      "outputs": [
        {
          "name": "stdout",
          "output_type": "stream",
          "text": [
            "<class 'pandas.core.frame.DataFrame'>\n",
            "RangeIndex: 3095 entries, 0 to 3094\n",
            "Data columns (total 4 columns):\n",
            " #   Column                  Non-Null Count  Dtype \n",
            "---  ------                  --------------  ----- \n",
            " 0   seller_id               3095 non-null   object\n",
            " 1   seller_zip_code_prefix  3095 non-null   int64 \n",
            " 2   seller_city             3095 non-null   object\n",
            " 3   seller_state            3095 non-null   object\n",
            "dtypes: int64(1), object(3)\n",
            "memory usage: 96.8+ KB\n"
          ]
        }
      ],
      "source": [
        "sellers_df.info()"
      ]
    },
    {
      "cell_type": "markdown",
      "metadata": {
        "id": "Vcc8P09cRWB4"
      },
      "source": [
        "Dari data tersebut tidak terdapat jumlah data yang salah dan *type data* yang salah"
      ]
    },
    {
      "cell_type": "code",
      "execution_count": 44,
      "metadata": {
        "colab": {
          "base_uri": "https://localhost:8080/"
        },
        "id": "MQHy7w_0Bd3q",
        "outputId": "7f39adde-3a2f-4941-a0c0-402f76b62afc"
      },
      "outputs": [
        {
          "data": {
            "text/plain": [
              "seller_id                 0\n",
              "seller_zip_code_prefix    0\n",
              "seller_city               0\n",
              "seller_state              0\n",
              "dtype: int64"
            ]
          },
          "execution_count": 44,
          "metadata": {},
          "output_type": "execute_result"
        }
      ],
      "source": [
        "sellers_df.isna().sum()"
      ]
    },
    {
      "cell_type": "markdown",
      "metadata": {
        "id": "6zbPUCYORWB6"
      },
      "source": [
        "Dari data tersebut tidak terdapat *missing value*"
      ]
    },
    {
      "cell_type": "code",
      "execution_count": 45,
      "metadata": {
        "colab": {
          "base_uri": "https://localhost:8080/"
        },
        "id": "zxQep0UNBhOX",
        "outputId": "c388fce2-4424-40ab-f54e-74061cff6b86"
      },
      "outputs": [
        {
          "name": "stdout",
          "output_type": "stream",
          "text": [
            "Jumlah duplikasi:  0\n"
          ]
        }
      ],
      "source": [
        "print(\"Jumlah duplikasi: \", sellers_df.duplicated().sum())"
      ]
    },
    {
      "cell_type": "markdown",
      "metadata": {
        "id": "yHdrVdcCRWB9"
      },
      "source": [
        "Dari data tersebut tidak terdapat data yang terduplikasi"
      ]
    },
    {
      "cell_type": "code",
      "execution_count": 46,
      "metadata": {
        "colab": {
          "base_uri": "https://localhost:8080/",
          "height": 394
        },
        "id": "Bgo6R1LEBqLR",
        "outputId": "a44b5ebe-b140-43f9-9175-aa539532648f"
      },
      "outputs": [
        {
          "data": {
            "text/html": [
              "<div>\n",
              "<style scoped>\n",
              "    .dataframe tbody tr th:only-of-type {\n",
              "        vertical-align: middle;\n",
              "    }\n",
              "\n",
              "    .dataframe tbody tr th {\n",
              "        vertical-align: top;\n",
              "    }\n",
              "\n",
              "    .dataframe thead th {\n",
              "        text-align: right;\n",
              "    }\n",
              "</style>\n",
              "<table border=\"1\" class=\"dataframe\">\n",
              "  <thead>\n",
              "    <tr style=\"text-align: right;\">\n",
              "      <th></th>\n",
              "      <th>seller_id</th>\n",
              "      <th>seller_zip_code_prefix</th>\n",
              "      <th>seller_city</th>\n",
              "      <th>seller_state</th>\n",
              "    </tr>\n",
              "  </thead>\n",
              "  <tbody>\n",
              "    <tr>\n",
              "      <th>count</th>\n",
              "      <td>3095</td>\n",
              "      <td>3095.000000</td>\n",
              "      <td>3095</td>\n",
              "      <td>3095</td>\n",
              "    </tr>\n",
              "    <tr>\n",
              "      <th>unique</th>\n",
              "      <td>3095</td>\n",
              "      <td>NaN</td>\n",
              "      <td>611</td>\n",
              "      <td>23</td>\n",
              "    </tr>\n",
              "    <tr>\n",
              "      <th>top</th>\n",
              "      <td>3442f8959a84dea7ee197c632cb2df15</td>\n",
              "      <td>NaN</td>\n",
              "      <td>sao paulo</td>\n",
              "      <td>SP</td>\n",
              "    </tr>\n",
              "    <tr>\n",
              "      <th>freq</th>\n",
              "      <td>1</td>\n",
              "      <td>NaN</td>\n",
              "      <td>694</td>\n",
              "      <td>1849</td>\n",
              "    </tr>\n",
              "    <tr>\n",
              "      <th>mean</th>\n",
              "      <td>NaN</td>\n",
              "      <td>32291.059451</td>\n",
              "      <td>NaN</td>\n",
              "      <td>NaN</td>\n",
              "    </tr>\n",
              "    <tr>\n",
              "      <th>std</th>\n",
              "      <td>NaN</td>\n",
              "      <td>32713.453830</td>\n",
              "      <td>NaN</td>\n",
              "      <td>NaN</td>\n",
              "    </tr>\n",
              "    <tr>\n",
              "      <th>min</th>\n",
              "      <td>NaN</td>\n",
              "      <td>1001.000000</td>\n",
              "      <td>NaN</td>\n",
              "      <td>NaN</td>\n",
              "    </tr>\n",
              "    <tr>\n",
              "      <th>25%</th>\n",
              "      <td>NaN</td>\n",
              "      <td>7093.500000</td>\n",
              "      <td>NaN</td>\n",
              "      <td>NaN</td>\n",
              "    </tr>\n",
              "    <tr>\n",
              "      <th>50%</th>\n",
              "      <td>NaN</td>\n",
              "      <td>14940.000000</td>\n",
              "      <td>NaN</td>\n",
              "      <td>NaN</td>\n",
              "    </tr>\n",
              "    <tr>\n",
              "      <th>75%</th>\n",
              "      <td>NaN</td>\n",
              "      <td>64552.500000</td>\n",
              "      <td>NaN</td>\n",
              "      <td>NaN</td>\n",
              "    </tr>\n",
              "    <tr>\n",
              "      <th>max</th>\n",
              "      <td>NaN</td>\n",
              "      <td>99730.000000</td>\n",
              "      <td>NaN</td>\n",
              "      <td>NaN</td>\n",
              "    </tr>\n",
              "  </tbody>\n",
              "</table>\n",
              "</div>"
            ],
            "text/plain": [
              "                               seller_id  seller_zip_code_prefix seller_city  \\\n",
              "count                               3095             3095.000000        3095   \n",
              "unique                              3095                     NaN         611   \n",
              "top     3442f8959a84dea7ee197c632cb2df15                     NaN   sao paulo   \n",
              "freq                                   1                     NaN         694   \n",
              "mean                                 NaN            32291.059451         NaN   \n",
              "std                                  NaN            32713.453830         NaN   \n",
              "min                                  NaN             1001.000000         NaN   \n",
              "25%                                  NaN             7093.500000         NaN   \n",
              "50%                                  NaN            14940.000000         NaN   \n",
              "75%                                  NaN            64552.500000         NaN   \n",
              "max                                  NaN            99730.000000         NaN   \n",
              "\n",
              "       seller_state  \n",
              "count          3095  \n",
              "unique           23  \n",
              "top              SP  \n",
              "freq           1849  \n",
              "mean            NaN  \n",
              "std             NaN  \n",
              "min             NaN  \n",
              "25%             NaN  \n",
              "50%             NaN  \n",
              "75%             NaN  \n",
              "max             NaN  "
            ]
          },
          "execution_count": 46,
          "metadata": {},
          "output_type": "execute_result"
        }
      ],
      "source": [
        "sellers_df.describe(include=('all'))"
      ]
    },
    {
      "cell_type": "markdown",
      "metadata": {
        "id": "Hcy2nzUfRWB_"
      },
      "source": [
        "Dari data tersebut tidak terdapat keanenahan berdasarkan statistik deskriptif"
      ]
    },
    {
      "cell_type": "markdown",
      "metadata": {
        "id": "bY8rhuDXBwpl"
      },
      "source": [
        "## Cleaning Data"
      ]
    },
    {
      "cell_type": "markdown",
      "metadata": {
        "id": "TaXzHhJkv2AV"
      },
      "source": [
        "### 1. Data Duplikat"
      ]
    },
    {
      "cell_type": "markdown",
      "metadata": {
        "id": "GVIH8bQxRWCD"
      },
      "source": [
        "Data yang terdeteksi duplikat terdapat data pada geolocation_df, namun tidak dilakukan drop karena data pada kolom **geolocation_city** dan **geolocation_state** memiliki value tertinggi yaitu Sao Paulo"
      ]
    },
    {
      "cell_type": "markdown",
      "metadata": {
        "id": "FfCPt5v_EDHt"
      },
      "source": [
        "### 2. Missing Value"
      ]
    },
    {
      "cell_type": "markdown",
      "metadata": {
        "id": "fag9dfUnCrG5"
      },
      "source": [
        "Memperbaiki *missing value* order_reviews pada kolom **review_comment_title** dan **review_comment_message**"
      ]
    },
    {
      "cell_type": "code",
      "execution_count": 47,
      "metadata": {
        "colab": {
          "base_uri": "https://localhost:8080/",
          "height": 513
        },
        "id": "ma7q0mKPB7mB",
        "outputId": "631171a8-1968-4358-d19d-aba4e5ce8bec"
      },
      "outputs": [
        {
          "data": {
            "text/html": [
              "<div>\n",
              "<style scoped>\n",
              "    .dataframe tbody tr th:only-of-type {\n",
              "        vertical-align: middle;\n",
              "    }\n",
              "\n",
              "    .dataframe tbody tr th {\n",
              "        vertical-align: top;\n",
              "    }\n",
              "\n",
              "    .dataframe thead th {\n",
              "        text-align: right;\n",
              "    }\n",
              "</style>\n",
              "<table border=\"1\" class=\"dataframe\">\n",
              "  <thead>\n",
              "    <tr style=\"text-align: right;\">\n",
              "      <th></th>\n",
              "      <th>review_id</th>\n",
              "      <th>order_id</th>\n",
              "      <th>review_score</th>\n",
              "      <th>review_comment_title</th>\n",
              "      <th>review_comment_message</th>\n",
              "      <th>review_creation_date</th>\n",
              "      <th>review_answer_timestamp</th>\n",
              "    </tr>\n",
              "  </thead>\n",
              "  <tbody>\n",
              "    <tr>\n",
              "      <th>0</th>\n",
              "      <td>7bc2406110b926393aa56f80a40eba40</td>\n",
              "      <td>73fc7af87114b39712e6da79b0a377eb</td>\n",
              "      <td>4</td>\n",
              "      <td>NaN</td>\n",
              "      <td>NaN</td>\n",
              "      <td>2018-01-18 00:00:00</td>\n",
              "      <td>2018-01-18 21:46:59</td>\n",
              "    </tr>\n",
              "    <tr>\n",
              "      <th>1</th>\n",
              "      <td>80e641a11e56f04c1ad469d5645fdfde</td>\n",
              "      <td>a548910a1c6147796b98fdf73dbeba33</td>\n",
              "      <td>5</td>\n",
              "      <td>NaN</td>\n",
              "      <td>NaN</td>\n",
              "      <td>2018-03-10 00:00:00</td>\n",
              "      <td>2018-03-11 03:05:13</td>\n",
              "    </tr>\n",
              "    <tr>\n",
              "      <th>2</th>\n",
              "      <td>228ce5500dc1d8e020d8d1322874b6f0</td>\n",
              "      <td>f9e4b658b201a9f2ecdecbb34bed034b</td>\n",
              "      <td>5</td>\n",
              "      <td>NaN</td>\n",
              "      <td>NaN</td>\n",
              "      <td>2018-02-17 00:00:00</td>\n",
              "      <td>2018-02-18 14:36:24</td>\n",
              "    </tr>\n",
              "    <tr>\n",
              "      <th>3</th>\n",
              "      <td>e64fb393e7b32834bb789ff8bb30750e</td>\n",
              "      <td>658677c97b385a9be170737859d3511b</td>\n",
              "      <td>5</td>\n",
              "      <td>NaN</td>\n",
              "      <td>Recebi bem antes do prazo estipulado.</td>\n",
              "      <td>2017-04-21 00:00:00</td>\n",
              "      <td>2017-04-21 22:02:06</td>\n",
              "    </tr>\n",
              "    <tr>\n",
              "      <th>4</th>\n",
              "      <td>f7c4243c7fe1938f181bec41a392bdeb</td>\n",
              "      <td>8e6bfb81e283fa7e4f11123a3fb894f1</td>\n",
              "      <td>5</td>\n",
              "      <td>NaN</td>\n",
              "      <td>Parabéns lojas lannister adorei comprar pela I...</td>\n",
              "      <td>2018-03-01 00:00:00</td>\n",
              "      <td>2018-03-02 10:26:53</td>\n",
              "    </tr>\n",
              "    <tr>\n",
              "      <th>...</th>\n",
              "      <td>...</td>\n",
              "      <td>...</td>\n",
              "      <td>...</td>\n",
              "      <td>...</td>\n",
              "      <td>...</td>\n",
              "      <td>...</td>\n",
              "      <td>...</td>\n",
              "    </tr>\n",
              "    <tr>\n",
              "      <th>99219</th>\n",
              "      <td>574ed12dd733e5fa530cfd4bbf39d7c9</td>\n",
              "      <td>2a8c23fee101d4d5662fa670396eb8da</td>\n",
              "      <td>5</td>\n",
              "      <td>NaN</td>\n",
              "      <td>NaN</td>\n",
              "      <td>2018-07-07 00:00:00</td>\n",
              "      <td>2018-07-14 17:18:30</td>\n",
              "    </tr>\n",
              "    <tr>\n",
              "      <th>99220</th>\n",
              "      <td>f3897127253a9592a73be9bdfdf4ed7a</td>\n",
              "      <td>22ec9f0669f784db00fa86d035cf8602</td>\n",
              "      <td>5</td>\n",
              "      <td>NaN</td>\n",
              "      <td>NaN</td>\n",
              "      <td>2017-12-09 00:00:00</td>\n",
              "      <td>2017-12-11 20:06:42</td>\n",
              "    </tr>\n",
              "    <tr>\n",
              "      <th>99221</th>\n",
              "      <td>b3de70c89b1510c4cd3d0649fd302472</td>\n",
              "      <td>55d4004744368f5571d1f590031933e4</td>\n",
              "      <td>5</td>\n",
              "      <td>NaN</td>\n",
              "      <td>Excelente mochila, entrega super rápida. Super...</td>\n",
              "      <td>2018-03-22 00:00:00</td>\n",
              "      <td>2018-03-23 09:10:43</td>\n",
              "    </tr>\n",
              "    <tr>\n",
              "      <th>99222</th>\n",
              "      <td>1adeb9d84d72fe4e337617733eb85149</td>\n",
              "      <td>7725825d039fc1f0ceb7635e3f7d9206</td>\n",
              "      <td>4</td>\n",
              "      <td>NaN</td>\n",
              "      <td>NaN</td>\n",
              "      <td>2018-07-01 00:00:00</td>\n",
              "      <td>2018-07-02 12:59:13</td>\n",
              "    </tr>\n",
              "    <tr>\n",
              "      <th>99223</th>\n",
              "      <td>efe49f1d6f951dd88b51e6ccd4cc548f</td>\n",
              "      <td>90531360ecb1eec2a1fbb265a0db0508</td>\n",
              "      <td>1</td>\n",
              "      <td>NaN</td>\n",
              "      <td>meu produto chegou e ja tenho que devolver, po...</td>\n",
              "      <td>2017-07-03 00:00:00</td>\n",
              "      <td>2017-07-03 21:01:49</td>\n",
              "    </tr>\n",
              "  </tbody>\n",
              "</table>\n",
              "<p>87656 rows × 7 columns</p>\n",
              "</div>"
            ],
            "text/plain": [
              "                              review_id                          order_id  \\\n",
              "0      7bc2406110b926393aa56f80a40eba40  73fc7af87114b39712e6da79b0a377eb   \n",
              "1      80e641a11e56f04c1ad469d5645fdfde  a548910a1c6147796b98fdf73dbeba33   \n",
              "2      228ce5500dc1d8e020d8d1322874b6f0  f9e4b658b201a9f2ecdecbb34bed034b   \n",
              "3      e64fb393e7b32834bb789ff8bb30750e  658677c97b385a9be170737859d3511b   \n",
              "4      f7c4243c7fe1938f181bec41a392bdeb  8e6bfb81e283fa7e4f11123a3fb894f1   \n",
              "...                                 ...                               ...   \n",
              "99219  574ed12dd733e5fa530cfd4bbf39d7c9  2a8c23fee101d4d5662fa670396eb8da   \n",
              "99220  f3897127253a9592a73be9bdfdf4ed7a  22ec9f0669f784db00fa86d035cf8602   \n",
              "99221  b3de70c89b1510c4cd3d0649fd302472  55d4004744368f5571d1f590031933e4   \n",
              "99222  1adeb9d84d72fe4e337617733eb85149  7725825d039fc1f0ceb7635e3f7d9206   \n",
              "99223  efe49f1d6f951dd88b51e6ccd4cc548f  90531360ecb1eec2a1fbb265a0db0508   \n",
              "\n",
              "       review_score review_comment_title  \\\n",
              "0                 4                  NaN   \n",
              "1                 5                  NaN   \n",
              "2                 5                  NaN   \n",
              "3                 5                  NaN   \n",
              "4                 5                  NaN   \n",
              "...             ...                  ...   \n",
              "99219             5                  NaN   \n",
              "99220             5                  NaN   \n",
              "99221             5                  NaN   \n",
              "99222             4                  NaN   \n",
              "99223             1                  NaN   \n",
              "\n",
              "                                  review_comment_message review_creation_date  \\\n",
              "0                                                    NaN  2018-01-18 00:00:00   \n",
              "1                                                    NaN  2018-03-10 00:00:00   \n",
              "2                                                    NaN  2018-02-17 00:00:00   \n",
              "3                  Recebi bem antes do prazo estipulado.  2017-04-21 00:00:00   \n",
              "4      Parabéns lojas lannister adorei comprar pela I...  2018-03-01 00:00:00   \n",
              "...                                                  ...                  ...   \n",
              "99219                                                NaN  2018-07-07 00:00:00   \n",
              "99220                                                NaN  2017-12-09 00:00:00   \n",
              "99221  Excelente mochila, entrega super rápida. Super...  2018-03-22 00:00:00   \n",
              "99222                                                NaN  2018-07-01 00:00:00   \n",
              "99223  meu produto chegou e ja tenho que devolver, po...  2017-07-03 00:00:00   \n",
              "\n",
              "      review_answer_timestamp  \n",
              "0         2018-01-18 21:46:59  \n",
              "1         2018-03-11 03:05:13  \n",
              "2         2018-02-18 14:36:24  \n",
              "3         2017-04-21 22:02:06  \n",
              "4         2018-03-02 10:26:53  \n",
              "...                       ...  \n",
              "99219     2018-07-14 17:18:30  \n",
              "99220     2017-12-11 20:06:42  \n",
              "99221     2018-03-23 09:10:43  \n",
              "99222     2018-07-02 12:59:13  \n",
              "99223     2017-07-03 21:01:49  \n",
              "\n",
              "[87656 rows x 7 columns]"
            ]
          },
          "execution_count": 47,
          "metadata": {},
          "output_type": "execute_result"
        }
      ],
      "source": [
        "order_reviews_df[order_reviews_df.review_comment_title.isna()]"
      ]
    },
    {
      "cell_type": "code",
      "execution_count": 48,
      "metadata": {
        "colab": {
          "base_uri": "https://localhost:8080/"
        },
        "id": "uIzotwkJC9Z2",
        "outputId": "80f8abbe-b7d7-4eac-a208-712bf9996cb3"
      },
      "outputs": [
        {
          "data": {
            "text/plain": [
              "review_comment_title\n",
              "Recomendo                    423\n",
              "recomendo                    345\n",
              "Bom                          293\n",
              "super recomendo              270\n",
              "Excelente                    248\n",
              "                            ... \n",
              "Luminaria sobrepor led 18      1\n",
              "Não recebi.                    1\n",
              "produto com lacre violado      1\n",
              "Atraso Entrega                 1\n",
              "Foto enganosa                  1\n",
              "Name: count, Length: 4527, dtype: int64"
            ]
          },
          "execution_count": 48,
          "metadata": {},
          "output_type": "execute_result"
        }
      ],
      "source": [
        "order_reviews_df.review_comment_title.value_counts()"
      ]
    },
    {
      "cell_type": "code",
      "execution_count": 49,
      "metadata": {
        "colab": {
          "base_uri": "https://localhost:8080/",
          "height": 443
        },
        "id": "DTj1WyP1tBbe",
        "outputId": "682047d1-fb69-40b6-b647-bca1a49063ea"
      },
      "outputs": [
        {
          "data": {
            "text/html": [
              "<div>\n",
              "<style scoped>\n",
              "    .dataframe tbody tr th:only-of-type {\n",
              "        vertical-align: middle;\n",
              "    }\n",
              "\n",
              "    .dataframe tbody tr th {\n",
              "        vertical-align: top;\n",
              "    }\n",
              "\n",
              "    .dataframe thead th {\n",
              "        text-align: right;\n",
              "    }\n",
              "</style>\n",
              "<table border=\"1\" class=\"dataframe\">\n",
              "  <thead>\n",
              "    <tr style=\"text-align: right;\">\n",
              "      <th></th>\n",
              "      <th>review_id</th>\n",
              "      <th>order_id</th>\n",
              "      <th>review_score</th>\n",
              "      <th>review_comment_title</th>\n",
              "      <th>review_comment_message</th>\n",
              "      <th>review_creation_date</th>\n",
              "      <th>review_answer_timestamp</th>\n",
              "    </tr>\n",
              "  </thead>\n",
              "  <tbody>\n",
              "    <tr>\n",
              "      <th>0</th>\n",
              "      <td>7bc2406110b926393aa56f80a40eba40</td>\n",
              "      <td>73fc7af87114b39712e6da79b0a377eb</td>\n",
              "      <td>4</td>\n",
              "      <td>NaN</td>\n",
              "      <td>NaN</td>\n",
              "      <td>2018-01-18 00:00:00</td>\n",
              "      <td>2018-01-18 21:46:59</td>\n",
              "    </tr>\n",
              "    <tr>\n",
              "      <th>1</th>\n",
              "      <td>80e641a11e56f04c1ad469d5645fdfde</td>\n",
              "      <td>a548910a1c6147796b98fdf73dbeba33</td>\n",
              "      <td>5</td>\n",
              "      <td>NaN</td>\n",
              "      <td>NaN</td>\n",
              "      <td>2018-03-10 00:00:00</td>\n",
              "      <td>2018-03-11 03:05:13</td>\n",
              "    </tr>\n",
              "    <tr>\n",
              "      <th>2</th>\n",
              "      <td>228ce5500dc1d8e020d8d1322874b6f0</td>\n",
              "      <td>f9e4b658b201a9f2ecdecbb34bed034b</td>\n",
              "      <td>5</td>\n",
              "      <td>NaN</td>\n",
              "      <td>NaN</td>\n",
              "      <td>2018-02-17 00:00:00</td>\n",
              "      <td>2018-02-18 14:36:24</td>\n",
              "    </tr>\n",
              "    <tr>\n",
              "      <th>5</th>\n",
              "      <td>15197aa66ff4d0650b5434f1b46cda19</td>\n",
              "      <td>b18dcdf73be66366873cd26c5724d1dc</td>\n",
              "      <td>1</td>\n",
              "      <td>NaN</td>\n",
              "      <td>NaN</td>\n",
              "      <td>2018-04-13 00:00:00</td>\n",
              "      <td>2018-04-16 00:39:37</td>\n",
              "    </tr>\n",
              "    <tr>\n",
              "      <th>6</th>\n",
              "      <td>07f9bee5d1b850860defd761afa7ff16</td>\n",
              "      <td>e48aa0d2dcec3a2e87348811bcfdf22b</td>\n",
              "      <td>5</td>\n",
              "      <td>NaN</td>\n",
              "      <td>NaN</td>\n",
              "      <td>2017-07-16 00:00:00</td>\n",
              "      <td>2017-07-18 19:30:34</td>\n",
              "    </tr>\n",
              "    <tr>\n",
              "      <th>...</th>\n",
              "      <td>...</td>\n",
              "      <td>...</td>\n",
              "      <td>...</td>\n",
              "      <td>...</td>\n",
              "      <td>...</td>\n",
              "      <td>...</td>\n",
              "      <td>...</td>\n",
              "    </tr>\n",
              "    <tr>\n",
              "      <th>99217</th>\n",
              "      <td>c6b270c61f67c9f7cb07d84ea8aeaf8b</td>\n",
              "      <td>48f7ee67313eda32bfcf5b9c1dd9522d</td>\n",
              "      <td>5</td>\n",
              "      <td>NaN</td>\n",
              "      <td>NaN</td>\n",
              "      <td>2017-12-13 00:00:00</td>\n",
              "      <td>2017-12-14 11:09:36</td>\n",
              "    </tr>\n",
              "    <tr>\n",
              "      <th>99218</th>\n",
              "      <td>af2dc0519de6e0720ef0c74292fb4114</td>\n",
              "      <td>d699c734a0b1c8111f2272a3f36d398c</td>\n",
              "      <td>5</td>\n",
              "      <td>NaN</td>\n",
              "      <td>NaN</td>\n",
              "      <td>2018-04-27 00:00:00</td>\n",
              "      <td>2018-04-30 01:18:57</td>\n",
              "    </tr>\n",
              "    <tr>\n",
              "      <th>99219</th>\n",
              "      <td>574ed12dd733e5fa530cfd4bbf39d7c9</td>\n",
              "      <td>2a8c23fee101d4d5662fa670396eb8da</td>\n",
              "      <td>5</td>\n",
              "      <td>NaN</td>\n",
              "      <td>NaN</td>\n",
              "      <td>2018-07-07 00:00:00</td>\n",
              "      <td>2018-07-14 17:18:30</td>\n",
              "    </tr>\n",
              "    <tr>\n",
              "      <th>99220</th>\n",
              "      <td>f3897127253a9592a73be9bdfdf4ed7a</td>\n",
              "      <td>22ec9f0669f784db00fa86d035cf8602</td>\n",
              "      <td>5</td>\n",
              "      <td>NaN</td>\n",
              "      <td>NaN</td>\n",
              "      <td>2017-12-09 00:00:00</td>\n",
              "      <td>2017-12-11 20:06:42</td>\n",
              "    </tr>\n",
              "    <tr>\n",
              "      <th>99222</th>\n",
              "      <td>1adeb9d84d72fe4e337617733eb85149</td>\n",
              "      <td>7725825d039fc1f0ceb7635e3f7d9206</td>\n",
              "      <td>4</td>\n",
              "      <td>NaN</td>\n",
              "      <td>NaN</td>\n",
              "      <td>2018-07-01 00:00:00</td>\n",
              "      <td>2018-07-02 12:59:13</td>\n",
              "    </tr>\n",
              "  </tbody>\n",
              "</table>\n",
              "<p>58247 rows × 7 columns</p>\n",
              "</div>"
            ],
            "text/plain": [
              "                              review_id                          order_id  \\\n",
              "0      7bc2406110b926393aa56f80a40eba40  73fc7af87114b39712e6da79b0a377eb   \n",
              "1      80e641a11e56f04c1ad469d5645fdfde  a548910a1c6147796b98fdf73dbeba33   \n",
              "2      228ce5500dc1d8e020d8d1322874b6f0  f9e4b658b201a9f2ecdecbb34bed034b   \n",
              "5      15197aa66ff4d0650b5434f1b46cda19  b18dcdf73be66366873cd26c5724d1dc   \n",
              "6      07f9bee5d1b850860defd761afa7ff16  e48aa0d2dcec3a2e87348811bcfdf22b   \n",
              "...                                 ...                               ...   \n",
              "99217  c6b270c61f67c9f7cb07d84ea8aeaf8b  48f7ee67313eda32bfcf5b9c1dd9522d   \n",
              "99218  af2dc0519de6e0720ef0c74292fb4114  d699c734a0b1c8111f2272a3f36d398c   \n",
              "99219  574ed12dd733e5fa530cfd4bbf39d7c9  2a8c23fee101d4d5662fa670396eb8da   \n",
              "99220  f3897127253a9592a73be9bdfdf4ed7a  22ec9f0669f784db00fa86d035cf8602   \n",
              "99222  1adeb9d84d72fe4e337617733eb85149  7725825d039fc1f0ceb7635e3f7d9206   \n",
              "\n",
              "       review_score review_comment_title review_comment_message  \\\n",
              "0                 4                  NaN                    NaN   \n",
              "1                 5                  NaN                    NaN   \n",
              "2                 5                  NaN                    NaN   \n",
              "5                 1                  NaN                    NaN   \n",
              "6                 5                  NaN                    NaN   \n",
              "...             ...                  ...                    ...   \n",
              "99217             5                  NaN                    NaN   \n",
              "99218             5                  NaN                    NaN   \n",
              "99219             5                  NaN                    NaN   \n",
              "99220             5                  NaN                    NaN   \n",
              "99222             4                  NaN                    NaN   \n",
              "\n",
              "      review_creation_date review_answer_timestamp  \n",
              "0      2018-01-18 00:00:00     2018-01-18 21:46:59  \n",
              "1      2018-03-10 00:00:00     2018-03-11 03:05:13  \n",
              "2      2018-02-17 00:00:00     2018-02-18 14:36:24  \n",
              "5      2018-04-13 00:00:00     2018-04-16 00:39:37  \n",
              "6      2017-07-16 00:00:00     2017-07-18 19:30:34  \n",
              "...                    ...                     ...  \n",
              "99217  2017-12-13 00:00:00     2017-12-14 11:09:36  \n",
              "99218  2018-04-27 00:00:00     2018-04-30 01:18:57  \n",
              "99219  2018-07-07 00:00:00     2018-07-14 17:18:30  \n",
              "99220  2017-12-09 00:00:00     2017-12-11 20:06:42  \n",
              "99222  2018-07-01 00:00:00     2018-07-02 12:59:13  \n",
              "\n",
              "[58247 rows x 7 columns]"
            ]
          },
          "execution_count": 49,
          "metadata": {},
          "output_type": "execute_result"
        }
      ],
      "source": [
        "order_reviews_df[order_reviews_df.review_comment_message.isna()]"
      ]
    },
    {
      "cell_type": "code",
      "execution_count": 50,
      "metadata": {
        "colab": {
          "base_uri": "https://localhost:8080/"
        },
        "id": "JSARi_c3towE",
        "outputId": "b033fd08-1b0a-403f-aa15-e66f4ebbf607"
      },
      "outputs": [
        {
          "data": {
            "text/plain": [
              "review_comment_message\n",
              "Muito bom                                                                                                                                                                                              230\n",
              "Bom                                                                                                                                                                                                    189\n",
              "muito bom                                                                                                                                                                                              122\n",
              "bom                                                                                                                                                                                                    107\n",
              "Recomendo                                                                                                                                                                                              100\n",
              "                                                                                                                                                                                                      ... \n",
              "PRODUTO FOI ENTREGUE VIA CORREIOS\\r\\nANTES DO PRAZO PREVISTO.                                                                                                                                            1\n",
              "Devido incompatibilidade vou devolver, ótimo produto!                                                                                                                                                    1\n",
              "Infelizmente não! A qualidade do produto não agradou.Impressão da foto em exposição remete a um tamanho maior e a recebida sequer atende a uma criança. PRODUTO NÃO JUSTIFICA O VALOR INFELIZMENTE!      1\n",
              "entrega na data prevista,somente a qualidade do material não é o mesmo que eu pensava mas pelo preço ta valido                                                                                           1\n",
              "meu produto chegou e ja tenho que devolver, pois está com defeito , não segurar carga                                                                                                                    1\n",
              "Name: count, Length: 36159, dtype: int64"
            ]
          },
          "execution_count": 50,
          "metadata": {},
          "output_type": "execute_result"
        }
      ],
      "source": [
        "order_reviews_df.review_comment_message.value_counts()"
      ]
    },
    {
      "cell_type": "code",
      "execution_count": 51,
      "metadata": {
        "id": "z9lqkbzvDHHq"
      },
      "outputs": [],
      "source": [
        "order_reviews_df.fillna(value=\"sem comentários\", inplace=True)"
      ]
    },
    {
      "cell_type": "markdown",
      "metadata": {
        "id": "9-Q6SBpuddrs"
      },
      "source": [
        "Mengisi *missing value* pada kolom **review_comment_title** dan **review_comment_message** dengan value \"sem comentários\" dengan arti \"no comment\""
      ]
    },
    {
      "cell_type": "code",
      "execution_count": 52,
      "metadata": {
        "colab": {
          "base_uri": "https://localhost:8080/"
        },
        "id": "R1Rkc_5fs4ax",
        "outputId": "e7886fbe-d031-40f7-c488-abe6c7224d33"
      },
      "outputs": [
        {
          "data": {
            "text/plain": [
              "review_id                  0\n",
              "order_id                   0\n",
              "review_score               0\n",
              "review_comment_title       0\n",
              "review_comment_message     0\n",
              "review_creation_date       0\n",
              "review_answer_timestamp    0\n",
              "dtype: int64"
            ]
          },
          "execution_count": 52,
          "metadata": {},
          "output_type": "execute_result"
        }
      ],
      "source": [
        "order_reviews_df.isna().sum()"
      ]
    },
    {
      "cell_type": "markdown",
      "metadata": {
        "id": "VYvYf-G7eZEO"
      },
      "source": [
        "*missing value* pada kolom **review_comment_title** dan **review_comment_message** teratasi"
      ]
    },
    {
      "cell_type": "markdown",
      "metadata": {
        "id": "16fFjjCjpwvo"
      },
      "source": [
        "### 3. Tipe Data"
      ]
    },
    {
      "cell_type": "code",
      "execution_count": 53,
      "metadata": {
        "id": "ucRb9yPVu9YQ"
      },
      "outputs": [],
      "source": [
        "datetime_oi = [\"shipping_limit_date\"]\n",
        "\n",
        "for column in datetime_oi:\n",
        "  order_items_df[column] = pd.to_datetime(order_items_df[column])"
      ]
    },
    {
      "cell_type": "markdown",
      "metadata": {
        "id": "QqZGSnLuewVa"
      },
      "source": [
        "Mengganti tipe data pada kolom **shipping_limit_date**"
      ]
    },
    {
      "cell_type": "code",
      "execution_count": 54,
      "metadata": {
        "colab": {
          "base_uri": "https://localhost:8080/"
        },
        "id": "qJhHhWN_u_-Q",
        "outputId": "09beea38-db64-4515-a4c5-8f4c8b9e3a90"
      },
      "outputs": [
        {
          "name": "stdout",
          "output_type": "stream",
          "text": [
            "<class 'pandas.core.frame.DataFrame'>\n",
            "RangeIndex: 112650 entries, 0 to 112649\n",
            "Data columns (total 7 columns):\n",
            " #   Column               Non-Null Count   Dtype         \n",
            "---  ------               --------------   -----         \n",
            " 0   order_id             112650 non-null  object        \n",
            " 1   order_item_id        112650 non-null  int64         \n",
            " 2   product_id           112650 non-null  object        \n",
            " 3   seller_id            112650 non-null  object        \n",
            " 4   shipping_limit_date  112650 non-null  datetime64[ns]\n",
            " 5   price                112650 non-null  float64       \n",
            " 6   freight_value        112650 non-null  float64       \n",
            "dtypes: datetime64[ns](1), float64(2), int64(1), object(3)\n",
            "memory usage: 6.0+ MB\n"
          ]
        }
      ],
      "source": [
        "order_items_df.info()"
      ]
    },
    {
      "cell_type": "code",
      "execution_count": 55,
      "metadata": {
        "id": "hmcLMSQovHrx"
      },
      "outputs": [],
      "source": [
        "datetime_or = [\"review_creation_date\",\"review_answer_timestamp\"]\n",
        "\n",
        "for column in datetime_or:\n",
        "  order_reviews_df[column] = pd.to_datetime(order_reviews_df[column])"
      ]
    },
    {
      "cell_type": "markdown",
      "metadata": {
        "id": "FKCsM1uHe92v"
      },
      "source": [
        "Mengganti tipe data pada kolom **review_creation_date\"** dan **\"review_answer_timestamp**"
      ]
    },
    {
      "cell_type": "code",
      "execution_count": 56,
      "metadata": {
        "colab": {
          "base_uri": "https://localhost:8080/"
        },
        "id": "Eq2IYimNvbhJ",
        "outputId": "aa00f7e6-3506-4212-ccec-d0ebba820453"
      },
      "outputs": [
        {
          "name": "stdout",
          "output_type": "stream",
          "text": [
            "<class 'pandas.core.frame.DataFrame'>\n",
            "RangeIndex: 99224 entries, 0 to 99223\n",
            "Data columns (total 7 columns):\n",
            " #   Column                   Non-Null Count  Dtype         \n",
            "---  ------                   --------------  -----         \n",
            " 0   review_id                99224 non-null  object        \n",
            " 1   order_id                 99224 non-null  object        \n",
            " 2   review_score             99224 non-null  int64         \n",
            " 3   review_comment_title     99224 non-null  object        \n",
            " 4   review_comment_message   99224 non-null  object        \n",
            " 5   review_creation_date     99224 non-null  datetime64[ns]\n",
            " 6   review_answer_timestamp  99224 non-null  datetime64[ns]\n",
            "dtypes: datetime64[ns](2), int64(1), object(4)\n",
            "memory usage: 5.3+ MB\n"
          ]
        }
      ],
      "source": [
        "order_reviews_df.info()"
      ]
    },
    {
      "cell_type": "code",
      "execution_count": 57,
      "metadata": {
        "id": "GJg-Twzpvgu9"
      },
      "outputs": [],
      "source": [
        "datetime_oo = [\"order_purchase_timestamp\",\"order_approved_at\",\"order_delivered_carrier_date\",\"order_delivered_customer_date\",\"order_estimated_delivery_date\"]\n",
        "\n",
        "for column in datetime_oo:\n",
        "  orders_df[column] = pd.to_datetime(orders_df[column])"
      ]
    },
    {
      "cell_type": "markdown",
      "metadata": {
        "id": "BF9e9dhOfQxn"
      },
      "source": [
        "Mengganti tipe data pada kolom **\"order_purchase_timestamp\"**, **\"order_approved_at\"**, **\"order_delivered_carrier_date\"**, **\"order_delivered_customer_date\"**, **\"order_estimated_delivery_date\"**"
      ]
    },
    {
      "cell_type": "code",
      "execution_count": 58,
      "metadata": {
        "colab": {
          "base_uri": "https://localhost:8080/"
        },
        "id": "mF1W1jHAvn3R",
        "outputId": "aec66873-f009-40b9-bd22-5adc91efa58d"
      },
      "outputs": [
        {
          "name": "stdout",
          "output_type": "stream",
          "text": [
            "<class 'pandas.core.frame.DataFrame'>\n",
            "RangeIndex: 99441 entries, 0 to 99440\n",
            "Data columns (total 8 columns):\n",
            " #   Column                         Non-Null Count  Dtype         \n",
            "---  ------                         --------------  -----         \n",
            " 0   order_id                       99441 non-null  object        \n",
            " 1   customer_id                    99441 non-null  object        \n",
            " 2   order_status                   99441 non-null  object        \n",
            " 3   order_purchase_timestamp       99441 non-null  datetime64[ns]\n",
            " 4   order_approved_at              99281 non-null  datetime64[ns]\n",
            " 5   order_delivered_carrier_date   97658 non-null  datetime64[ns]\n",
            " 6   order_delivered_customer_date  96476 non-null  datetime64[ns]\n",
            " 7   order_estimated_delivery_date  99441 non-null  datetime64[ns]\n",
            "dtypes: datetime64[ns](5), object(3)\n",
            "memory usage: 6.1+ MB\n"
          ]
        }
      ],
      "source": [
        "orders_df.info()"
      ]
    },
    {
      "cell_type": "markdown",
      "metadata": {
        "id": "muhGB9UD1qrM"
      },
      "source": [
        "# **Exploratory Data Analysis (EDA)** "
      ]
    },
    {
      "cell_type": "markdown",
      "metadata": {
        "id": "7ZQ--Bvm1yxF"
      },
      "source": [
        "### 1. Data customers_df"
      ]
    },
    {
      "cell_type": "code",
      "execution_count": 59,
      "metadata": {
        "colab": {
          "base_uri": "https://localhost:8080/",
          "height": 394
        },
        "id": "WcWZYZoH2NRS",
        "outputId": "6391cad6-9f82-472e-dfd0-132995ac76a3"
      },
      "outputs": [
        {
          "data": {
            "text/html": [
              "<div>\n",
              "<style scoped>\n",
              "    .dataframe tbody tr th:only-of-type {\n",
              "        vertical-align: middle;\n",
              "    }\n",
              "\n",
              "    .dataframe tbody tr th {\n",
              "        vertical-align: top;\n",
              "    }\n",
              "\n",
              "    .dataframe thead th {\n",
              "        text-align: right;\n",
              "    }\n",
              "</style>\n",
              "<table border=\"1\" class=\"dataframe\">\n",
              "  <thead>\n",
              "    <tr style=\"text-align: right;\">\n",
              "      <th></th>\n",
              "      <th>customer_id</th>\n",
              "      <th>customer_unique_id</th>\n",
              "      <th>customer_zip_code_prefix</th>\n",
              "      <th>customer_city</th>\n",
              "      <th>customer_state</th>\n",
              "    </tr>\n",
              "  </thead>\n",
              "  <tbody>\n",
              "    <tr>\n",
              "      <th>count</th>\n",
              "      <td>99441</td>\n",
              "      <td>99441</td>\n",
              "      <td>99441.000000</td>\n",
              "      <td>99441</td>\n",
              "      <td>99441</td>\n",
              "    </tr>\n",
              "    <tr>\n",
              "      <th>unique</th>\n",
              "      <td>99441</td>\n",
              "      <td>96096</td>\n",
              "      <td>NaN</td>\n",
              "      <td>4119</td>\n",
              "      <td>27</td>\n",
              "    </tr>\n",
              "    <tr>\n",
              "      <th>top</th>\n",
              "      <td>06b8999e2fba1a1fbc88172c00ba8bc7</td>\n",
              "      <td>8d50f5eadf50201ccdcedfb9e2ac8455</td>\n",
              "      <td>NaN</td>\n",
              "      <td>sao paulo</td>\n",
              "      <td>SP</td>\n",
              "    </tr>\n",
              "    <tr>\n",
              "      <th>freq</th>\n",
              "      <td>1</td>\n",
              "      <td>17</td>\n",
              "      <td>NaN</td>\n",
              "      <td>15540</td>\n",
              "      <td>41746</td>\n",
              "    </tr>\n",
              "    <tr>\n",
              "      <th>mean</th>\n",
              "      <td>NaN</td>\n",
              "      <td>NaN</td>\n",
              "      <td>35137.474583</td>\n",
              "      <td>NaN</td>\n",
              "      <td>NaN</td>\n",
              "    </tr>\n",
              "    <tr>\n",
              "      <th>std</th>\n",
              "      <td>NaN</td>\n",
              "      <td>NaN</td>\n",
              "      <td>29797.938996</td>\n",
              "      <td>NaN</td>\n",
              "      <td>NaN</td>\n",
              "    </tr>\n",
              "    <tr>\n",
              "      <th>min</th>\n",
              "      <td>NaN</td>\n",
              "      <td>NaN</td>\n",
              "      <td>1003.000000</td>\n",
              "      <td>NaN</td>\n",
              "      <td>NaN</td>\n",
              "    </tr>\n",
              "    <tr>\n",
              "      <th>25%</th>\n",
              "      <td>NaN</td>\n",
              "      <td>NaN</td>\n",
              "      <td>11347.000000</td>\n",
              "      <td>NaN</td>\n",
              "      <td>NaN</td>\n",
              "    </tr>\n",
              "    <tr>\n",
              "      <th>50%</th>\n",
              "      <td>NaN</td>\n",
              "      <td>NaN</td>\n",
              "      <td>24416.000000</td>\n",
              "      <td>NaN</td>\n",
              "      <td>NaN</td>\n",
              "    </tr>\n",
              "    <tr>\n",
              "      <th>75%</th>\n",
              "      <td>NaN</td>\n",
              "      <td>NaN</td>\n",
              "      <td>58900.000000</td>\n",
              "      <td>NaN</td>\n",
              "      <td>NaN</td>\n",
              "    </tr>\n",
              "    <tr>\n",
              "      <th>max</th>\n",
              "      <td>NaN</td>\n",
              "      <td>NaN</td>\n",
              "      <td>99990.000000</td>\n",
              "      <td>NaN</td>\n",
              "      <td>NaN</td>\n",
              "    </tr>\n",
              "  </tbody>\n",
              "</table>\n",
              "</div>"
            ],
            "text/plain": [
              "                             customer_id                customer_unique_id  \\\n",
              "count                              99441                             99441   \n",
              "unique                             99441                             96096   \n",
              "top     06b8999e2fba1a1fbc88172c00ba8bc7  8d50f5eadf50201ccdcedfb9e2ac8455   \n",
              "freq                                   1                                17   \n",
              "mean                                 NaN                               NaN   \n",
              "std                                  NaN                               NaN   \n",
              "min                                  NaN                               NaN   \n",
              "25%                                  NaN                               NaN   \n",
              "50%                                  NaN                               NaN   \n",
              "75%                                  NaN                               NaN   \n",
              "max                                  NaN                               NaN   \n",
              "\n",
              "        customer_zip_code_prefix customer_city customer_state  \n",
              "count               99441.000000         99441          99441  \n",
              "unique                       NaN          4119             27  \n",
              "top                          NaN     sao paulo             SP  \n",
              "freq                         NaN         15540          41746  \n",
              "mean                35137.474583           NaN            NaN  \n",
              "std                 29797.938996           NaN            NaN  \n",
              "min                  1003.000000           NaN            NaN  \n",
              "25%                 11347.000000           NaN            NaN  \n",
              "50%                 24416.000000           NaN            NaN  \n",
              "75%                 58900.000000           NaN            NaN  \n",
              "max                 99990.000000           NaN            NaN  "
            ]
          },
          "execution_count": 59,
          "metadata": {},
          "output_type": "execute_result"
        }
      ],
      "source": [
        "customers_df.describe(include=\"all\")"
      ]
    },
    {
      "cell_type": "code",
      "execution_count": 60,
      "metadata": {
        "colab": {
          "base_uri": "https://localhost:8080/",
          "height": 206
        },
        "id": "x7dHXTPh8XrQ",
        "outputId": "2535554a-945a-4e65-ad34-bd801e20d3f3"
      },
      "outputs": [
        {
          "data": {
            "text/html": [
              "<div>\n",
              "<style scoped>\n",
              "    .dataframe tbody tr th:only-of-type {\n",
              "        vertical-align: middle;\n",
              "    }\n",
              "\n",
              "    .dataframe tbody tr th {\n",
              "        vertical-align: top;\n",
              "    }\n",
              "\n",
              "    .dataframe thead th {\n",
              "        text-align: right;\n",
              "    }\n",
              "</style>\n",
              "<table border=\"1\" class=\"dataframe\">\n",
              "  <thead>\n",
              "    <tr style=\"text-align: right;\">\n",
              "      <th></th>\n",
              "      <th>customer_id</th>\n",
              "      <th>customer_unique_id</th>\n",
              "      <th>customer_zip_code_prefix</th>\n",
              "      <th>customer_city</th>\n",
              "      <th>customer_state</th>\n",
              "    </tr>\n",
              "  </thead>\n",
              "  <tbody>\n",
              "    <tr>\n",
              "      <th>42771</th>\n",
              "      <td>3a4c77b134b116a9f90b0a98fe0d0727</td>\n",
              "      <td>912e2ccff19e46260d7de4bc22a7d012</td>\n",
              "      <td>11355</td>\n",
              "      <td>sao vicente</td>\n",
              "      <td>SP</td>\n",
              "    </tr>\n",
              "    <tr>\n",
              "      <th>91518</th>\n",
              "      <td>9b568b326f5f6d7f727f20ed3641b421</td>\n",
              "      <td>458002de8cae44d033a19aa4eba0f5e5</td>\n",
              "      <td>20771</td>\n",
              "      <td>rio de janeiro</td>\n",
              "      <td>RJ</td>\n",
              "    </tr>\n",
              "    <tr>\n",
              "      <th>28543</th>\n",
              "      <td>dc74aac682ad015d9b0e0fa85182e16f</td>\n",
              "      <td>f9e561dd457ec515893e8060347388bf</td>\n",
              "      <td>66035</td>\n",
              "      <td>belem</td>\n",
              "      <td>PA</td>\n",
              "    </tr>\n",
              "    <tr>\n",
              "      <th>60808</th>\n",
              "      <td>3e9ab7a4e6f263bffb3bc530425526bb</td>\n",
              "      <td>16dcc712464a412af8bf7c924d1bf964</td>\n",
              "      <td>30720</td>\n",
              "      <td>belo horizonte</td>\n",
              "      <td>MG</td>\n",
              "    </tr>\n",
              "    <tr>\n",
              "      <th>79933</th>\n",
              "      <td>3ee60ebb31894e941bd668d467e8ee4e</td>\n",
              "      <td>5376655a6889dd11341eea8e013be726</td>\n",
              "      <td>3415</td>\n",
              "      <td>sao paulo</td>\n",
              "      <td>SP</td>\n",
              "    </tr>\n",
              "  </tbody>\n",
              "</table>\n",
              "</div>"
            ],
            "text/plain": [
              "                            customer_id                customer_unique_id  \\\n",
              "42771  3a4c77b134b116a9f90b0a98fe0d0727  912e2ccff19e46260d7de4bc22a7d012   \n",
              "91518  9b568b326f5f6d7f727f20ed3641b421  458002de8cae44d033a19aa4eba0f5e5   \n",
              "28543  dc74aac682ad015d9b0e0fa85182e16f  f9e561dd457ec515893e8060347388bf   \n",
              "60808  3e9ab7a4e6f263bffb3bc530425526bb  16dcc712464a412af8bf7c924d1bf964   \n",
              "79933  3ee60ebb31894e941bd668d467e8ee4e  5376655a6889dd11341eea8e013be726   \n",
              "\n",
              "       customer_zip_code_prefix   customer_city customer_state  \n",
              "42771                     11355     sao vicente             SP  \n",
              "91518                     20771  rio de janeiro             RJ  \n",
              "28543                     66035           belem             PA  \n",
              "60808                     30720  belo horizonte             MG  \n",
              "79933                      3415       sao paulo             SP  "
            ]
          },
          "execution_count": 60,
          "metadata": {},
          "output_type": "execute_result"
        }
      ],
      "source": [
        "customers_df.sample(5)"
      ]
    },
    {
      "cell_type": "code",
      "execution_count": 61,
      "metadata": {
        "colab": {
          "base_uri": "https://localhost:8080/"
        },
        "id": "lvA-H05-2gIr",
        "outputId": "e481594d-2abc-4ac4-f6f1-20d45293fc40"
      },
      "outputs": [
        {
          "data": {
            "text/plain": [
              "True"
            ]
          },
          "execution_count": 61,
          "metadata": {},
          "output_type": "execute_result"
        }
      ],
      "source": [
        "customers_df.customer_id.is_unique"
      ]
    },
    {
      "cell_type": "code",
      "execution_count": 62,
      "metadata": {
        "colab": {
          "base_uri": "https://localhost:8080/"
        },
        "id": "StSBQr6N2avJ",
        "outputId": "0e226016-7a91-44f6-f593-ae3bfbf23c43"
      },
      "outputs": [
        {
          "data": {
            "text/plain": [
              "customer_city\n",
              "sao paulo         15540\n",
              "rio de janeiro     6882\n",
              "belo horizonte     2773\n",
              "brasilia           2131\n",
              "curitiba           1521\n",
              "                  ...  \n",
              "ibiara                1\n",
              "rio espera            1\n",
              "rio dos indios        1\n",
              "rio dos cedros        1\n",
              "lagoao                1\n",
              "Name: customer_id, Length: 4119, dtype: int64"
            ]
          },
          "execution_count": 62,
          "metadata": {},
          "output_type": "execute_result"
        }
      ],
      "source": [
        "customers_df.groupby(by=\"customer_city\").customer_id.nunique().sort_values(ascending=False)"
      ]
    },
    {
      "cell_type": "markdown",
      "metadata": {
        "id": "6DeJuBcZRWCc"
      },
      "source": [
        "Customers paling banyak berada di Kota Sao Paulo"
      ]
    },
    {
      "cell_type": "code",
      "execution_count": 63,
      "metadata": {
        "colab": {
          "base_uri": "https://localhost:8080/"
        },
        "id": "MTs0pujb280I",
        "outputId": "829f9519-e4cb-4d2f-b4f9-456df5f011ee"
      },
      "outputs": [
        {
          "data": {
            "text/plain": [
              "customer_state\n",
              "SP    41746\n",
              "RJ    12852\n",
              "MG    11635\n",
              "RS     5466\n",
              "PR     5045\n",
              "SC     3637\n",
              "BA     3380\n",
              "DF     2140\n",
              "ES     2033\n",
              "GO     2020\n",
              "PE     1652\n",
              "CE     1336\n",
              "PA      975\n",
              "MT      907\n",
              "MA      747\n",
              "MS      715\n",
              "PB      536\n",
              "PI      495\n",
              "RN      485\n",
              "AL      413\n",
              "SE      350\n",
              "TO      280\n",
              "RO      253\n",
              "AM      148\n",
              "AC       81\n",
              "AP       68\n",
              "RR       46\n",
              "Name: customer_id, dtype: int64"
            ]
          },
          "execution_count": 63,
          "metadata": {},
          "output_type": "execute_result"
        }
      ],
      "source": [
        "customers_df.groupby(by=\"customer_state\").customer_id.nunique().sort_values(ascending=False)"
      ]
    },
    {
      "cell_type": "markdown",
      "metadata": {
        "id": "-S2-wtV2RWCe"
      },
      "source": [
        "Customers paling banyak berada di negara bagian SP"
      ]
    },
    {
      "cell_type": "markdown",
      "metadata": {
        "id": "Q29w3abq4lWU"
      },
      "source": [
        "### 2. Data order_payment_df"
      ]
    },
    {
      "cell_type": "code",
      "execution_count": 64,
      "metadata": {
        "colab": {
          "base_uri": "https://localhost:8080/",
          "height": 394
        },
        "id": "vMxZcSVw4k68",
        "outputId": "781b9b55-6ed6-4251-86ab-4f32b8b71b70"
      },
      "outputs": [
        {
          "data": {
            "text/html": [
              "<div>\n",
              "<style scoped>\n",
              "    .dataframe tbody tr th:only-of-type {\n",
              "        vertical-align: middle;\n",
              "    }\n",
              "\n",
              "    .dataframe tbody tr th {\n",
              "        vertical-align: top;\n",
              "    }\n",
              "\n",
              "    .dataframe thead th {\n",
              "        text-align: right;\n",
              "    }\n",
              "</style>\n",
              "<table border=\"1\" class=\"dataframe\">\n",
              "  <thead>\n",
              "    <tr style=\"text-align: right;\">\n",
              "      <th></th>\n",
              "      <th>order_id</th>\n",
              "      <th>payment_sequential</th>\n",
              "      <th>payment_type</th>\n",
              "      <th>payment_installments</th>\n",
              "      <th>payment_value</th>\n",
              "    </tr>\n",
              "  </thead>\n",
              "  <tbody>\n",
              "    <tr>\n",
              "      <th>count</th>\n",
              "      <td>103886</td>\n",
              "      <td>103886.000000</td>\n",
              "      <td>103886</td>\n",
              "      <td>103886.000000</td>\n",
              "      <td>103886.000000</td>\n",
              "    </tr>\n",
              "    <tr>\n",
              "      <th>unique</th>\n",
              "      <td>99440</td>\n",
              "      <td>NaN</td>\n",
              "      <td>5</td>\n",
              "      <td>NaN</td>\n",
              "      <td>NaN</td>\n",
              "    </tr>\n",
              "    <tr>\n",
              "      <th>top</th>\n",
              "      <td>fa65dad1b0e818e3ccc5cb0e39231352</td>\n",
              "      <td>NaN</td>\n",
              "      <td>credit_card</td>\n",
              "      <td>NaN</td>\n",
              "      <td>NaN</td>\n",
              "    </tr>\n",
              "    <tr>\n",
              "      <th>freq</th>\n",
              "      <td>29</td>\n",
              "      <td>NaN</td>\n",
              "      <td>76795</td>\n",
              "      <td>NaN</td>\n",
              "      <td>NaN</td>\n",
              "    </tr>\n",
              "    <tr>\n",
              "      <th>mean</th>\n",
              "      <td>NaN</td>\n",
              "      <td>1.092679</td>\n",
              "      <td>NaN</td>\n",
              "      <td>2.853349</td>\n",
              "      <td>154.100380</td>\n",
              "    </tr>\n",
              "    <tr>\n",
              "      <th>std</th>\n",
              "      <td>NaN</td>\n",
              "      <td>0.706584</td>\n",
              "      <td>NaN</td>\n",
              "      <td>2.687051</td>\n",
              "      <td>217.494064</td>\n",
              "    </tr>\n",
              "    <tr>\n",
              "      <th>min</th>\n",
              "      <td>NaN</td>\n",
              "      <td>1.000000</td>\n",
              "      <td>NaN</td>\n",
              "      <td>0.000000</td>\n",
              "      <td>0.000000</td>\n",
              "    </tr>\n",
              "    <tr>\n",
              "      <th>25%</th>\n",
              "      <td>NaN</td>\n",
              "      <td>1.000000</td>\n",
              "      <td>NaN</td>\n",
              "      <td>1.000000</td>\n",
              "      <td>56.790000</td>\n",
              "    </tr>\n",
              "    <tr>\n",
              "      <th>50%</th>\n",
              "      <td>NaN</td>\n",
              "      <td>1.000000</td>\n",
              "      <td>NaN</td>\n",
              "      <td>1.000000</td>\n",
              "      <td>100.000000</td>\n",
              "    </tr>\n",
              "    <tr>\n",
              "      <th>75%</th>\n",
              "      <td>NaN</td>\n",
              "      <td>1.000000</td>\n",
              "      <td>NaN</td>\n",
              "      <td>4.000000</td>\n",
              "      <td>171.837500</td>\n",
              "    </tr>\n",
              "    <tr>\n",
              "      <th>max</th>\n",
              "      <td>NaN</td>\n",
              "      <td>29.000000</td>\n",
              "      <td>NaN</td>\n",
              "      <td>24.000000</td>\n",
              "      <td>13664.080000</td>\n",
              "    </tr>\n",
              "  </tbody>\n",
              "</table>\n",
              "</div>"
            ],
            "text/plain": [
              "                                order_id  payment_sequential payment_type  \\\n",
              "count                             103886       103886.000000       103886   \n",
              "unique                             99440                 NaN            5   \n",
              "top     fa65dad1b0e818e3ccc5cb0e39231352                 NaN  credit_card   \n",
              "freq                                  29                 NaN        76795   \n",
              "mean                                 NaN            1.092679          NaN   \n",
              "std                                  NaN            0.706584          NaN   \n",
              "min                                  NaN            1.000000          NaN   \n",
              "25%                                  NaN            1.000000          NaN   \n",
              "50%                                  NaN            1.000000          NaN   \n",
              "75%                                  NaN            1.000000          NaN   \n",
              "max                                  NaN           29.000000          NaN   \n",
              "\n",
              "        payment_installments  payment_value  \n",
              "count          103886.000000  103886.000000  \n",
              "unique                   NaN            NaN  \n",
              "top                      NaN            NaN  \n",
              "freq                     NaN            NaN  \n",
              "mean                2.853349     154.100380  \n",
              "std                 2.687051     217.494064  \n",
              "min                 0.000000       0.000000  \n",
              "25%                 1.000000      56.790000  \n",
              "50%                 1.000000     100.000000  \n",
              "75%                 4.000000     171.837500  \n",
              "max                24.000000   13664.080000  "
            ]
          },
          "execution_count": 64,
          "metadata": {},
          "output_type": "execute_result"
        }
      ],
      "source": [
        "order_payments_df.describe(include=\"all\")"
      ]
    },
    {
      "cell_type": "code",
      "execution_count": 65,
      "metadata": {
        "colab": {
          "base_uri": "https://localhost:8080/",
          "height": 206
        },
        "id": "a_ecHht78dR_",
        "outputId": "6af7bb40-f963-4950-8114-fc5a297ce83a"
      },
      "outputs": [
        {
          "data": {
            "text/html": [
              "<div>\n",
              "<style scoped>\n",
              "    .dataframe tbody tr th:only-of-type {\n",
              "        vertical-align: middle;\n",
              "    }\n",
              "\n",
              "    .dataframe tbody tr th {\n",
              "        vertical-align: top;\n",
              "    }\n",
              "\n",
              "    .dataframe thead th {\n",
              "        text-align: right;\n",
              "    }\n",
              "</style>\n",
              "<table border=\"1\" class=\"dataframe\">\n",
              "  <thead>\n",
              "    <tr style=\"text-align: right;\">\n",
              "      <th></th>\n",
              "      <th>order_id</th>\n",
              "      <th>payment_sequential</th>\n",
              "      <th>payment_type</th>\n",
              "      <th>payment_installments</th>\n",
              "      <th>payment_value</th>\n",
              "    </tr>\n",
              "  </thead>\n",
              "  <tbody>\n",
              "    <tr>\n",
              "      <th>16028</th>\n",
              "      <td>7e3092871b13383e2bf040db363a846b</td>\n",
              "      <td>1</td>\n",
              "      <td>credit_card</td>\n",
              "      <td>1</td>\n",
              "      <td>3.01</td>\n",
              "    </tr>\n",
              "    <tr>\n",
              "      <th>57775</th>\n",
              "      <td>9d138733c51598bbcd3ea81678facf91</td>\n",
              "      <td>1</td>\n",
              "      <td>boleto</td>\n",
              "      <td>1</td>\n",
              "      <td>83.79</td>\n",
              "    </tr>\n",
              "    <tr>\n",
              "      <th>17289</th>\n",
              "      <td>96ccc8ebc4372c98b2d7e7fca1a3fc36</td>\n",
              "      <td>1</td>\n",
              "      <td>credit_card</td>\n",
              "      <td>10</td>\n",
              "      <td>151.37</td>\n",
              "    </tr>\n",
              "    <tr>\n",
              "      <th>86815</th>\n",
              "      <td>9c27c0e9a3ff1c62ceecc6b160ae7c63</td>\n",
              "      <td>1</td>\n",
              "      <td>boleto</td>\n",
              "      <td>1</td>\n",
              "      <td>58.28</td>\n",
              "    </tr>\n",
              "    <tr>\n",
              "      <th>62001</th>\n",
              "      <td>405d28af4fe06990456c82cdfe457b1a</td>\n",
              "      <td>1</td>\n",
              "      <td>credit_card</td>\n",
              "      <td>1</td>\n",
              "      <td>137.39</td>\n",
              "    </tr>\n",
              "  </tbody>\n",
              "</table>\n",
              "</div>"
            ],
            "text/plain": [
              "                               order_id  payment_sequential payment_type  \\\n",
              "16028  7e3092871b13383e2bf040db363a846b                   1  credit_card   \n",
              "57775  9d138733c51598bbcd3ea81678facf91                   1       boleto   \n",
              "17289  96ccc8ebc4372c98b2d7e7fca1a3fc36                   1  credit_card   \n",
              "86815  9c27c0e9a3ff1c62ceecc6b160ae7c63                   1       boleto   \n",
              "62001  405d28af4fe06990456c82cdfe457b1a                   1  credit_card   \n",
              "\n",
              "       payment_installments  payment_value  \n",
              "16028                     1           3.01  \n",
              "57775                     1          83.79  \n",
              "17289                    10         151.37  \n",
              "86815                     1          58.28  \n",
              "62001                     1         137.39  "
            ]
          },
          "execution_count": 65,
          "metadata": {},
          "output_type": "execute_result"
        }
      ],
      "source": [
        "order_payments_df.sample(5)"
      ]
    },
    {
      "cell_type": "code",
      "execution_count": 66,
      "metadata": {
        "colab": {
          "base_uri": "https://localhost:8080/"
        },
        "id": "sfp-QSd45BjV",
        "outputId": "9537c53e-18ac-494d-d293-644640c770e3"
      },
      "outputs": [
        {
          "data": {
            "text/plain": [
              "payment_type\n",
              "credit_card    76505\n",
              "boleto         19784\n",
              "voucher         3866\n",
              "debit_card      1528\n",
              "not_defined        3\n",
              "Name: order_id, dtype: int64"
            ]
          },
          "execution_count": 66,
          "metadata": {},
          "output_type": "execute_result"
        }
      ],
      "source": [
        "order_payments_df.groupby(by=\"payment_type\").order_id.nunique().sort_values(ascending=False)"
      ]
    },
    {
      "cell_type": "markdown",
      "metadata": {
        "id": "UVQIKg1QRWCk"
      },
      "source": [
        "Tipe pembayaran paling populer adalah pembayaran menggunakan credit card"
      ]
    },
    {
      "cell_type": "markdown",
      "metadata": {
        "id": "_Dpbp1e09oap"
      },
      "source": [
        "### 3. Data orders_df"
      ]
    },
    {
      "cell_type": "code",
      "execution_count": 67,
      "metadata": {
        "colab": {
          "base_uri": "https://localhost:8080/",
          "height": 226
        },
        "id": "hFjm5eqq9w6z",
        "outputId": "895fcbc5-ffde-453c-c16b-d1586b0bec6d"
      },
      "outputs": [
        {
          "data": {
            "text/html": [
              "<div>\n",
              "<style scoped>\n",
              "    .dataframe tbody tr th:only-of-type {\n",
              "        vertical-align: middle;\n",
              "    }\n",
              "\n",
              "    .dataframe tbody tr th {\n",
              "        vertical-align: top;\n",
              "    }\n",
              "\n",
              "    .dataframe thead th {\n",
              "        text-align: right;\n",
              "    }\n",
              "</style>\n",
              "<table border=\"1\" class=\"dataframe\">\n",
              "  <thead>\n",
              "    <tr style=\"text-align: right;\">\n",
              "      <th></th>\n",
              "      <th>order_id</th>\n",
              "      <th>customer_id</th>\n",
              "      <th>order_status</th>\n",
              "      <th>order_purchase_timestamp</th>\n",
              "      <th>order_approved_at</th>\n",
              "      <th>order_delivered_carrier_date</th>\n",
              "      <th>order_delivered_customer_date</th>\n",
              "      <th>order_estimated_delivery_date</th>\n",
              "    </tr>\n",
              "  </thead>\n",
              "  <tbody>\n",
              "    <tr>\n",
              "      <th>94596</th>\n",
              "      <td>12788af294f51dd5ba2aaed208a45969</td>\n",
              "      <td>a5d4e10b7ef44fca5d3c946650f13fb1</td>\n",
              "      <td>delivered</td>\n",
              "      <td>2017-09-15 10:49:09</td>\n",
              "      <td>2017-09-15 11:05:43</td>\n",
              "      <td>2017-09-22 17:32:32</td>\n",
              "      <td>2017-10-02 21:52:30</td>\n",
              "      <td>2017-10-09</td>\n",
              "    </tr>\n",
              "    <tr>\n",
              "      <th>27870</th>\n",
              "      <td>790d76ecee0d65041c076a17d0dfd11d</td>\n",
              "      <td>42908fc1c4277d15bfdd21890a9abe10</td>\n",
              "      <td>delivered</td>\n",
              "      <td>2017-08-07 11:51:29</td>\n",
              "      <td>2017-08-07 12:03:26</td>\n",
              "      <td>2017-08-10 20:58:52</td>\n",
              "      <td>2017-08-25 19:24:54</td>\n",
              "      <td>2017-09-11</td>\n",
              "    </tr>\n",
              "    <tr>\n",
              "      <th>39993</th>\n",
              "      <td>f3bd213a969549dd53ed48872f4bb69d</td>\n",
              "      <td>1b4970ad8aaf073fd9164c55384584a5</td>\n",
              "      <td>canceled</td>\n",
              "      <td>2017-09-22 21:15:18</td>\n",
              "      <td>2017-09-26 03:49:17</td>\n",
              "      <td>NaT</td>\n",
              "      <td>NaT</td>\n",
              "      <td>2017-10-17</td>\n",
              "    </tr>\n",
              "    <tr>\n",
              "      <th>17995</th>\n",
              "      <td>1c645c637d660f702ff19c8577482a08</td>\n",
              "      <td>1652333bae09e7726bc48e58d759ec2a</td>\n",
              "      <td>delivered</td>\n",
              "      <td>2018-01-30 17:55:06</td>\n",
              "      <td>2018-01-30 18:41:00</td>\n",
              "      <td>2018-01-31 20:54:05</td>\n",
              "      <td>2018-02-05 13:46:24</td>\n",
              "      <td>2018-02-22</td>\n",
              "    </tr>\n",
              "    <tr>\n",
              "      <th>30869</th>\n",
              "      <td>869eb48662057e0341d47dae5334b693</td>\n",
              "      <td>792fa21ca8a787f90d1a3c274ec853e4</td>\n",
              "      <td>unavailable</td>\n",
              "      <td>2017-10-31 22:14:54</td>\n",
              "      <td>2017-10-31 22:26:11</td>\n",
              "      <td>NaT</td>\n",
              "      <td>NaT</td>\n",
              "      <td>2017-11-23</td>\n",
              "    </tr>\n",
              "  </tbody>\n",
              "</table>\n",
              "</div>"
            ],
            "text/plain": [
              "                               order_id                       customer_id  \\\n",
              "94596  12788af294f51dd5ba2aaed208a45969  a5d4e10b7ef44fca5d3c946650f13fb1   \n",
              "27870  790d76ecee0d65041c076a17d0dfd11d  42908fc1c4277d15bfdd21890a9abe10   \n",
              "39993  f3bd213a969549dd53ed48872f4bb69d  1b4970ad8aaf073fd9164c55384584a5   \n",
              "17995  1c645c637d660f702ff19c8577482a08  1652333bae09e7726bc48e58d759ec2a   \n",
              "30869  869eb48662057e0341d47dae5334b693  792fa21ca8a787f90d1a3c274ec853e4   \n",
              "\n",
              "      order_status order_purchase_timestamp   order_approved_at  \\\n",
              "94596    delivered      2017-09-15 10:49:09 2017-09-15 11:05:43   \n",
              "27870    delivered      2017-08-07 11:51:29 2017-08-07 12:03:26   \n",
              "39993     canceled      2017-09-22 21:15:18 2017-09-26 03:49:17   \n",
              "17995    delivered      2018-01-30 17:55:06 2018-01-30 18:41:00   \n",
              "30869  unavailable      2017-10-31 22:14:54 2017-10-31 22:26:11   \n",
              "\n",
              "      order_delivered_carrier_date order_delivered_customer_date  \\\n",
              "94596          2017-09-22 17:32:32           2017-10-02 21:52:30   \n",
              "27870          2017-08-10 20:58:52           2017-08-25 19:24:54   \n",
              "39993                          NaT                           NaT   \n",
              "17995          2018-01-31 20:54:05           2018-02-05 13:46:24   \n",
              "30869                          NaT                           NaT   \n",
              "\n",
              "      order_estimated_delivery_date  \n",
              "94596                    2017-10-09  \n",
              "27870                    2017-09-11  \n",
              "39993                    2017-10-17  \n",
              "17995                    2018-02-22  \n",
              "30869                    2017-11-23  "
            ]
          },
          "execution_count": 67,
          "metadata": {},
          "output_type": "execute_result"
        }
      ],
      "source": [
        "orders_df.sample(5)"
      ]
    },
    {
      "cell_type": "code",
      "execution_count": 68,
      "metadata": {
        "id": "7VcUBl9s-EdM"
      },
      "outputs": [],
      "source": [
        "delivery_time = orders_df[\"order_delivered_customer_date\"] - orders_df[\"order_delivered_carrier_date\"]\n",
        "delivery_time = delivery_time.apply(lambda x: x.total_seconds())\n",
        "orders_df[\"delivery_time\"] = round(delivery_time/86400)"
      ]
    },
    {
      "cell_type": "code",
      "execution_count": 69,
      "metadata": {
        "colab": {
          "base_uri": "https://localhost:8080/",
          "height": 226
        },
        "id": "Ztli7HjQ-KGB",
        "outputId": "22490f58-d3bd-44f0-a9c5-e86346508a7c"
      },
      "outputs": [
        {
          "data": {
            "text/html": [
              "<div>\n",
              "<style scoped>\n",
              "    .dataframe tbody tr th:only-of-type {\n",
              "        vertical-align: middle;\n",
              "    }\n",
              "\n",
              "    .dataframe tbody tr th {\n",
              "        vertical-align: top;\n",
              "    }\n",
              "\n",
              "    .dataframe thead th {\n",
              "        text-align: right;\n",
              "    }\n",
              "</style>\n",
              "<table border=\"1\" class=\"dataframe\">\n",
              "  <thead>\n",
              "    <tr style=\"text-align: right;\">\n",
              "      <th></th>\n",
              "      <th>order_id</th>\n",
              "      <th>customer_id</th>\n",
              "      <th>order_status</th>\n",
              "      <th>order_purchase_timestamp</th>\n",
              "      <th>order_approved_at</th>\n",
              "      <th>order_delivered_carrier_date</th>\n",
              "      <th>order_delivered_customer_date</th>\n",
              "      <th>order_estimated_delivery_date</th>\n",
              "      <th>delivery_time</th>\n",
              "    </tr>\n",
              "  </thead>\n",
              "  <tbody>\n",
              "    <tr>\n",
              "      <th>50535</th>\n",
              "      <td>152575943eb3ac19455e0e1a13e3d1cb</td>\n",
              "      <td>5d551bac6ef227b8caf96cb2a0c03c01</td>\n",
              "      <td>delivered</td>\n",
              "      <td>2018-08-08 18:15:20</td>\n",
              "      <td>2018-08-08 18:30:16</td>\n",
              "      <td>2018-08-22 14:19:00</td>\n",
              "      <td>2018-08-29 20:48:42</td>\n",
              "      <td>2018-08-31</td>\n",
              "      <td>7.0</td>\n",
              "    </tr>\n",
              "    <tr>\n",
              "      <th>13693</th>\n",
              "      <td>049bad09d9281445edb6dd1d6ece7395</td>\n",
              "      <td>95ef10c6dea554e64f436a44e8fd723f</td>\n",
              "      <td>delivered</td>\n",
              "      <td>2017-07-14 11:36:41</td>\n",
              "      <td>2017-07-14 11:45:20</td>\n",
              "      <td>2017-07-18 14:47:35</td>\n",
              "      <td>2017-07-26 11:22:08</td>\n",
              "      <td>2017-07-27</td>\n",
              "      <td>8.0</td>\n",
              "    </tr>\n",
              "    <tr>\n",
              "      <th>12989</th>\n",
              "      <td>ba063008dcde6cd0ecb0c72f82a4542d</td>\n",
              "      <td>1fa51f227dca1a772254a612a2f5e834</td>\n",
              "      <td>delivered</td>\n",
              "      <td>2018-08-07 08:08:47</td>\n",
              "      <td>2018-08-07 08:44:50</td>\n",
              "      <td>2018-08-08 13:06:00</td>\n",
              "      <td>2018-08-13 17:36:41</td>\n",
              "      <td>2018-08-24</td>\n",
              "      <td>5.0</td>\n",
              "    </tr>\n",
              "    <tr>\n",
              "      <th>47154</th>\n",
              "      <td>a0147b55f1d225bb21f981e58f735589</td>\n",
              "      <td>9cedc0766adf91a041f5723a74bdbf87</td>\n",
              "      <td>delivered</td>\n",
              "      <td>2017-08-16 08:48:56</td>\n",
              "      <td>2017-08-16 09:10:21</td>\n",
              "      <td>2017-08-17 13:53:33</td>\n",
              "      <td>2017-08-28 17:19:54</td>\n",
              "      <td>2017-09-08</td>\n",
              "      <td>11.0</td>\n",
              "    </tr>\n",
              "    <tr>\n",
              "      <th>6948</th>\n",
              "      <td>ce3a36c0bcc4edf5c49a0a29b3da3963</td>\n",
              "      <td>b3af3ecddf3c4588121357ab183019b8</td>\n",
              "      <td>delivered</td>\n",
              "      <td>2018-03-02 20:37:29</td>\n",
              "      <td>2018-03-03 02:35:44</td>\n",
              "      <td>2018-03-06 21:16:58</td>\n",
              "      <td>2018-05-09 23:08:44</td>\n",
              "      <td>2018-03-22</td>\n",
              "      <td>64.0</td>\n",
              "    </tr>\n",
              "  </tbody>\n",
              "</table>\n",
              "</div>"
            ],
            "text/plain": [
              "                               order_id                       customer_id  \\\n",
              "50535  152575943eb3ac19455e0e1a13e3d1cb  5d551bac6ef227b8caf96cb2a0c03c01   \n",
              "13693  049bad09d9281445edb6dd1d6ece7395  95ef10c6dea554e64f436a44e8fd723f   \n",
              "12989  ba063008dcde6cd0ecb0c72f82a4542d  1fa51f227dca1a772254a612a2f5e834   \n",
              "47154  a0147b55f1d225bb21f981e58f735589  9cedc0766adf91a041f5723a74bdbf87   \n",
              "6948   ce3a36c0bcc4edf5c49a0a29b3da3963  b3af3ecddf3c4588121357ab183019b8   \n",
              "\n",
              "      order_status order_purchase_timestamp   order_approved_at  \\\n",
              "50535    delivered      2018-08-08 18:15:20 2018-08-08 18:30:16   \n",
              "13693    delivered      2017-07-14 11:36:41 2017-07-14 11:45:20   \n",
              "12989    delivered      2018-08-07 08:08:47 2018-08-07 08:44:50   \n",
              "47154    delivered      2017-08-16 08:48:56 2017-08-16 09:10:21   \n",
              "6948     delivered      2018-03-02 20:37:29 2018-03-03 02:35:44   \n",
              "\n",
              "      order_delivered_carrier_date order_delivered_customer_date  \\\n",
              "50535          2018-08-22 14:19:00           2018-08-29 20:48:42   \n",
              "13693          2017-07-18 14:47:35           2017-07-26 11:22:08   \n",
              "12989          2018-08-08 13:06:00           2018-08-13 17:36:41   \n",
              "47154          2017-08-17 13:53:33           2017-08-28 17:19:54   \n",
              "6948           2018-03-06 21:16:58           2018-05-09 23:08:44   \n",
              "\n",
              "      order_estimated_delivery_date  delivery_time  \n",
              "50535                    2018-08-31            7.0  \n",
              "13693                    2017-07-27            8.0  \n",
              "12989                    2018-08-24            5.0  \n",
              "47154                    2017-09-08           11.0  \n",
              "6948                     2018-03-22           64.0  "
            ]
          },
          "execution_count": 69,
          "metadata": {},
          "output_type": "execute_result"
        }
      ],
      "source": [
        "orders_df.sample(5)"
      ]
    },
    {
      "cell_type": "code",
      "execution_count": 70,
      "metadata": {
        "colab": {
          "base_uri": "https://localhost:8080/",
          "height": 363
        },
        "id": "UV5_l2A2RWCq",
        "outputId": "255608f6-9dcf-4827-dc3f-3131fb570dbe"
      },
      "outputs": [
        {
          "data": {
            "text/html": [
              "<div>\n",
              "<style scoped>\n",
              "    .dataframe tbody tr th:only-of-type {\n",
              "        vertical-align: middle;\n",
              "    }\n",
              "\n",
              "    .dataframe tbody tr th {\n",
              "        vertical-align: top;\n",
              "    }\n",
              "\n",
              "    .dataframe thead th {\n",
              "        text-align: right;\n",
              "    }\n",
              "</style>\n",
              "<table border=\"1\" class=\"dataframe\">\n",
              "  <thead>\n",
              "    <tr style=\"text-align: right;\">\n",
              "      <th></th>\n",
              "      <th>customer_id</th>\n",
              "      <th>customer_unique_id</th>\n",
              "      <th>customer_zip_code_prefix</th>\n",
              "      <th>customer_city</th>\n",
              "      <th>customer_state</th>\n",
              "      <th>status</th>\n",
              "    </tr>\n",
              "  </thead>\n",
              "  <tbody>\n",
              "    <tr>\n",
              "      <th>23638</th>\n",
              "      <td>68cf5258d0825b8f05134eb031c30190</td>\n",
              "      <td>8b69ba7df6dcf2663ec5cde205419fb6</td>\n",
              "      <td>58410</td>\n",
              "      <td>campina grande</td>\n",
              "      <td>PB</td>\n",
              "      <td>Active</td>\n",
              "    </tr>\n",
              "    <tr>\n",
              "      <th>97752</th>\n",
              "      <td>206b92df8c881156a32a4d6f759f1bf0</td>\n",
              "      <td>63693d83793f8b8f4626822da8a6084e</td>\n",
              "      <td>3559</td>\n",
              "      <td>sao paulo</td>\n",
              "      <td>SP</td>\n",
              "      <td>Active</td>\n",
              "    </tr>\n",
              "    <tr>\n",
              "      <th>80400</th>\n",
              "      <td>398d2b6902f0fee49283542ace401aa0</td>\n",
              "      <td>76eac5f3123033b0d1c4afa420c65dd6</td>\n",
              "      <td>12030</td>\n",
              "      <td>taubate</td>\n",
              "      <td>SP</td>\n",
              "      <td>Active</td>\n",
              "    </tr>\n",
              "    <tr>\n",
              "      <th>19252</th>\n",
              "      <td>5039a0deaaeb41b8cd4135964d681bb6</td>\n",
              "      <td>68ca93eabad1754a95c962204a0f9bbb</td>\n",
              "      <td>24431</td>\n",
              "      <td>sao goncalo</td>\n",
              "      <td>RJ</td>\n",
              "      <td>Active</td>\n",
              "    </tr>\n",
              "    <tr>\n",
              "      <th>28149</th>\n",
              "      <td>18b8a289b963f319f9c59bb42cc44193</td>\n",
              "      <td>c004624e104826546052d55f9357b0d1</td>\n",
              "      <td>2422</td>\n",
              "      <td>sao paulo</td>\n",
              "      <td>SP</td>\n",
              "      <td>Active</td>\n",
              "    </tr>\n",
              "    <tr>\n",
              "      <th>15739</th>\n",
              "      <td>d671f3c7672d55bf5cf119326e5c86e9</td>\n",
              "      <td>cc95b67ba4cfe7e143bc5217fbfeeb19</td>\n",
              "      <td>45607</td>\n",
              "      <td>itabuna</td>\n",
              "      <td>BA</td>\n",
              "      <td>Active</td>\n",
              "    </tr>\n",
              "    <tr>\n",
              "      <th>32449</th>\n",
              "      <td>46a03952cfd0f2d4f7c9bdaf6921d7fd</td>\n",
              "      <td>8aaeb37b18c0363bb3e3011ce914b2b4</td>\n",
              "      <td>4753</td>\n",
              "      <td>sao paulo</td>\n",
              "      <td>SP</td>\n",
              "      <td>Active</td>\n",
              "    </tr>\n",
              "    <tr>\n",
              "      <th>91091</th>\n",
              "      <td>65ee4aa816cda8ad41e05c75e1cb691e</td>\n",
              "      <td>e3c0567a8b991a9d812ee91f2650db40</td>\n",
              "      <td>22783</td>\n",
              "      <td>rio de janeiro</td>\n",
              "      <td>RJ</td>\n",
              "      <td>Active</td>\n",
              "    </tr>\n",
              "    <tr>\n",
              "      <th>21433</th>\n",
              "      <td>7a280344ab17d6b3ca09592444f943b4</td>\n",
              "      <td>2a0244203bcd54794164aec4347930b4</td>\n",
              "      <td>9980</td>\n",
              "      <td>diadema</td>\n",
              "      <td>SP</td>\n",
              "      <td>Active</td>\n",
              "    </tr>\n",
              "    <tr>\n",
              "      <th>12560</th>\n",
              "      <td>0debfbe6eb17e95af641df3e543d5959</td>\n",
              "      <td>b430e3d118c6f0ba3a07a99b6b9222bf</td>\n",
              "      <td>71996</td>\n",
              "      <td>brasilia</td>\n",
              "      <td>DF</td>\n",
              "      <td>Active</td>\n",
              "    </tr>\n",
              "  </tbody>\n",
              "</table>\n",
              "</div>"
            ],
            "text/plain": [
              "                            customer_id                customer_unique_id  \\\n",
              "23638  68cf5258d0825b8f05134eb031c30190  8b69ba7df6dcf2663ec5cde205419fb6   \n",
              "97752  206b92df8c881156a32a4d6f759f1bf0  63693d83793f8b8f4626822da8a6084e   \n",
              "80400  398d2b6902f0fee49283542ace401aa0  76eac5f3123033b0d1c4afa420c65dd6   \n",
              "19252  5039a0deaaeb41b8cd4135964d681bb6  68ca93eabad1754a95c962204a0f9bbb   \n",
              "28149  18b8a289b963f319f9c59bb42cc44193  c004624e104826546052d55f9357b0d1   \n",
              "15739  d671f3c7672d55bf5cf119326e5c86e9  cc95b67ba4cfe7e143bc5217fbfeeb19   \n",
              "32449  46a03952cfd0f2d4f7c9bdaf6921d7fd  8aaeb37b18c0363bb3e3011ce914b2b4   \n",
              "91091  65ee4aa816cda8ad41e05c75e1cb691e  e3c0567a8b991a9d812ee91f2650db40   \n",
              "21433  7a280344ab17d6b3ca09592444f943b4  2a0244203bcd54794164aec4347930b4   \n",
              "12560  0debfbe6eb17e95af641df3e543d5959  b430e3d118c6f0ba3a07a99b6b9222bf   \n",
              "\n",
              "       customer_zip_code_prefix   customer_city customer_state  status  \n",
              "23638                     58410  campina grande             PB  Active  \n",
              "97752                      3559       sao paulo             SP  Active  \n",
              "80400                     12030         taubate             SP  Active  \n",
              "19252                     24431     sao goncalo             RJ  Active  \n",
              "28149                      2422       sao paulo             SP  Active  \n",
              "15739                     45607         itabuna             BA  Active  \n",
              "32449                      4753       sao paulo             SP  Active  \n",
              "91091                     22783  rio de janeiro             RJ  Active  \n",
              "21433                      9980         diadema             SP  Active  \n",
              "12560                     71996        brasilia             DF  Active  "
            ]
          },
          "execution_count": 70,
          "metadata": {},
          "output_type": "execute_result"
        }
      ],
      "source": [
        "customer_id_in_orders_df =  orders_df.customer_id.tolist()\n",
        "customers_df[\"status\"] = customers_df[\"customer_id\"].apply(lambda x: \"Active\" if x in customer_id_in_orders_df else \"Non Active\")\n",
        "customers_df.sample(10)"
      ]
    },
    {
      "cell_type": "code",
      "execution_count": 71,
      "metadata": {
        "colab": {
          "base_uri": "https://localhost:8080/"
        },
        "id": "3W5wMCUSRWCr",
        "outputId": "dd27922b-6de9-492a-8416-8a9f56b23e8c"
      },
      "outputs": [
        {
          "data": {
            "text/plain": [
              "status\n",
              "Active    99441\n",
              "Name: customer_id, dtype: int64"
            ]
          },
          "execution_count": 71,
          "metadata": {},
          "output_type": "execute_result"
        }
      ],
      "source": [
        "customers_df.groupby(by=\"status\").customer_id.count()"
      ]
    },
    {
      "cell_type": "markdown",
      "metadata": {
        "id": "vNmB2UwfRWCs"
      },
      "source": [
        "Seluruh customers tercatat sebagai pelanggan aktif"
      ]
    },
    {
      "cell_type": "markdown",
      "metadata": {
        "id": "ujmdwWhZRWCt"
      },
      "source": [
        "### 4. Menggabungkan data customers_df dan orders_df"
      ]
    },
    {
      "cell_type": "code",
      "execution_count": 72,
      "metadata": {
        "colab": {
          "base_uri": "https://localhost:8080/",
          "height": 261
        },
        "id": "kyNzRQBwRWCu",
        "outputId": "7809797c-3b84-4c38-fbaf-a7d5a949fb71"
      },
      "outputs": [
        {
          "data": {
            "text/html": [
              "<div>\n",
              "<style scoped>\n",
              "    .dataframe tbody tr th:only-of-type {\n",
              "        vertical-align: middle;\n",
              "    }\n",
              "\n",
              "    .dataframe tbody tr th {\n",
              "        vertical-align: top;\n",
              "    }\n",
              "\n",
              "    .dataframe thead th {\n",
              "        text-align: right;\n",
              "    }\n",
              "</style>\n",
              "<table border=\"1\" class=\"dataframe\">\n",
              "  <thead>\n",
              "    <tr style=\"text-align: right;\">\n",
              "      <th></th>\n",
              "      <th>customer_id</th>\n",
              "      <th>customer_unique_id</th>\n",
              "      <th>customer_zip_code_prefix</th>\n",
              "      <th>customer_city</th>\n",
              "      <th>customer_state</th>\n",
              "      <th>status</th>\n",
              "      <th>order_id</th>\n",
              "      <th>order_status</th>\n",
              "      <th>order_purchase_timestamp</th>\n",
              "      <th>order_approved_at</th>\n",
              "      <th>order_delivered_carrier_date</th>\n",
              "      <th>order_delivered_customer_date</th>\n",
              "      <th>order_estimated_delivery_date</th>\n",
              "      <th>delivery_time</th>\n",
              "    </tr>\n",
              "  </thead>\n",
              "  <tbody>\n",
              "    <tr>\n",
              "      <th>0</th>\n",
              "      <td>06b8999e2fba1a1fbc88172c00ba8bc7</td>\n",
              "      <td>861eff4711a542e4b93843c6dd7febb0</td>\n",
              "      <td>14409</td>\n",
              "      <td>franca</td>\n",
              "      <td>SP</td>\n",
              "      <td>Active</td>\n",
              "      <td>00e7ee1b050b8499577073aeb2a297a1</td>\n",
              "      <td>delivered</td>\n",
              "      <td>2017-05-16 15:05:35</td>\n",
              "      <td>2017-05-16 15:22:12</td>\n",
              "      <td>2017-05-23 10:47:57</td>\n",
              "      <td>2017-05-25 10:35:35</td>\n",
              "      <td>2017-06-05</td>\n",
              "      <td>2.0</td>\n",
              "    </tr>\n",
              "    <tr>\n",
              "      <th>1</th>\n",
              "      <td>18955e83d337fd6b2def6b18a428ac77</td>\n",
              "      <td>290c77bc529b7ac935b93aa66c333dc3</td>\n",
              "      <td>9790</td>\n",
              "      <td>sao bernardo do campo</td>\n",
              "      <td>SP</td>\n",
              "      <td>Active</td>\n",
              "      <td>29150127e6685892b6eab3eec79f59c7</td>\n",
              "      <td>delivered</td>\n",
              "      <td>2018-01-12 20:48:24</td>\n",
              "      <td>2018-01-12 20:58:32</td>\n",
              "      <td>2018-01-15 17:14:59</td>\n",
              "      <td>2018-01-29 12:41:19</td>\n",
              "      <td>2018-02-06</td>\n",
              "      <td>14.0</td>\n",
              "    </tr>\n",
              "    <tr>\n",
              "      <th>2</th>\n",
              "      <td>4e7b3e00288586ebd08712fdd0374a03</td>\n",
              "      <td>060e732b5b29e8181a18229c7b0b2b5e</td>\n",
              "      <td>1151</td>\n",
              "      <td>sao paulo</td>\n",
              "      <td>SP</td>\n",
              "      <td>Active</td>\n",
              "      <td>b2059ed67ce144a36e2aa97d2c9e9ad2</td>\n",
              "      <td>delivered</td>\n",
              "      <td>2018-05-19 16:07:45</td>\n",
              "      <td>2018-05-20 16:19:10</td>\n",
              "      <td>2018-06-11 14:31:00</td>\n",
              "      <td>2018-06-14 17:58:51</td>\n",
              "      <td>2018-06-13</td>\n",
              "      <td>3.0</td>\n",
              "    </tr>\n",
              "    <tr>\n",
              "      <th>3</th>\n",
              "      <td>b2b6027bc5c5109e529d4dc6358b12c3</td>\n",
              "      <td>259dac757896d24d7702b9acbbff3f3c</td>\n",
              "      <td>8775</td>\n",
              "      <td>mogi das cruzes</td>\n",
              "      <td>SP</td>\n",
              "      <td>Active</td>\n",
              "      <td>951670f92359f4fe4a63112aa7306eba</td>\n",
              "      <td>delivered</td>\n",
              "      <td>2018-03-13 16:06:38</td>\n",
              "      <td>2018-03-13 17:29:19</td>\n",
              "      <td>2018-03-27 23:22:42</td>\n",
              "      <td>2018-03-28 16:04:25</td>\n",
              "      <td>2018-04-10</td>\n",
              "      <td>1.0</td>\n",
              "    </tr>\n",
              "    <tr>\n",
              "      <th>4</th>\n",
              "      <td>4f2d8ab171c80ec8364f7c12e35b23ad</td>\n",
              "      <td>345ecd01c38d18a9036ed96c73b8d066</td>\n",
              "      <td>13056</td>\n",
              "      <td>campinas</td>\n",
              "      <td>SP</td>\n",
              "      <td>Active</td>\n",
              "      <td>6b7d50bd145f6fc7f33cebabd7e49d0f</td>\n",
              "      <td>delivered</td>\n",
              "      <td>2018-07-29 09:51:30</td>\n",
              "      <td>2018-07-29 10:10:09</td>\n",
              "      <td>2018-07-30 15:16:00</td>\n",
              "      <td>2018-08-09 20:55:48</td>\n",
              "      <td>2018-08-15</td>\n",
              "      <td>10.0</td>\n",
              "    </tr>\n",
              "  </tbody>\n",
              "</table>\n",
              "</div>"
            ],
            "text/plain": [
              "                        customer_id                customer_unique_id  \\\n",
              "0  06b8999e2fba1a1fbc88172c00ba8bc7  861eff4711a542e4b93843c6dd7febb0   \n",
              "1  18955e83d337fd6b2def6b18a428ac77  290c77bc529b7ac935b93aa66c333dc3   \n",
              "2  4e7b3e00288586ebd08712fdd0374a03  060e732b5b29e8181a18229c7b0b2b5e   \n",
              "3  b2b6027bc5c5109e529d4dc6358b12c3  259dac757896d24d7702b9acbbff3f3c   \n",
              "4  4f2d8ab171c80ec8364f7c12e35b23ad  345ecd01c38d18a9036ed96c73b8d066   \n",
              "\n",
              "   customer_zip_code_prefix          customer_city customer_state  status  \\\n",
              "0                     14409                 franca             SP  Active   \n",
              "1                      9790  sao bernardo do campo             SP  Active   \n",
              "2                      1151              sao paulo             SP  Active   \n",
              "3                      8775        mogi das cruzes             SP  Active   \n",
              "4                     13056               campinas             SP  Active   \n",
              "\n",
              "                           order_id order_status order_purchase_timestamp  \\\n",
              "0  00e7ee1b050b8499577073aeb2a297a1    delivered      2017-05-16 15:05:35   \n",
              "1  29150127e6685892b6eab3eec79f59c7    delivered      2018-01-12 20:48:24   \n",
              "2  b2059ed67ce144a36e2aa97d2c9e9ad2    delivered      2018-05-19 16:07:45   \n",
              "3  951670f92359f4fe4a63112aa7306eba    delivered      2018-03-13 16:06:38   \n",
              "4  6b7d50bd145f6fc7f33cebabd7e49d0f    delivered      2018-07-29 09:51:30   \n",
              "\n",
              "    order_approved_at order_delivered_carrier_date  \\\n",
              "0 2017-05-16 15:22:12          2017-05-23 10:47:57   \n",
              "1 2018-01-12 20:58:32          2018-01-15 17:14:59   \n",
              "2 2018-05-20 16:19:10          2018-06-11 14:31:00   \n",
              "3 2018-03-13 17:29:19          2018-03-27 23:22:42   \n",
              "4 2018-07-29 10:10:09          2018-07-30 15:16:00   \n",
              "\n",
              "  order_delivered_customer_date order_estimated_delivery_date  delivery_time  \n",
              "0           2017-05-25 10:35:35                    2017-06-05            2.0  \n",
              "1           2018-01-29 12:41:19                    2018-02-06           14.0  \n",
              "2           2018-06-14 17:58:51                    2018-06-13            3.0  \n",
              "3           2018-03-28 16:04:25                    2018-04-10            1.0  \n",
              "4           2018-08-09 20:55:48                    2018-08-15           10.0  "
            ]
          },
          "execution_count": 72,
          "metadata": {},
          "output_type": "execute_result"
        }
      ],
      "source": [
        "customers_orders_df = pd.merge(\n",
        "    left=customers_df,\n",
        "    right=orders_df,\n",
        "    how=\"left\",\n",
        "    left_on=\"customer_id\",\n",
        "    right_on=\"customer_id\"\n",
        ")\n",
        "customers_orders_df.head()"
      ]
    },
    {
      "cell_type": "code",
      "execution_count": 73,
      "metadata": {
        "colab": {
          "base_uri": "https://localhost:8080/"
        },
        "id": "g9lUyzsURWCv",
        "outputId": "9a086105-7f04-4ee2-ae5f-aea6e0099616"
      },
      "outputs": [
        {
          "data": {
            "text/plain": [
              "customer_city\n",
              "sao paulo                15540\n",
              "rio de janeiro            6882\n",
              "belo horizonte            2773\n",
              "brasilia                  2131\n",
              "curitiba                  1521\n",
              "campinas                  1444\n",
              "porto alegre              1379\n",
              "salvador                  1245\n",
              "guarulhos                 1189\n",
              "sao bernardo do campo      938\n",
              "Name: order_id, dtype: int64"
            ]
          },
          "execution_count": 73,
          "metadata": {},
          "output_type": "execute_result"
        }
      ],
      "source": [
        "customers_orders_df.groupby(by=\"customer_city\").order_id.nunique().sort_values(ascending=False).head(10)"
      ]
    },
    {
      "cell_type": "code",
      "execution_count": 74,
      "metadata": {
        "colab": {
          "base_uri": "https://localhost:8080/"
        },
        "id": "HztjiO5sRWCw",
        "outputId": "954f4878-25ac-4d47-8c15-99b13614454b"
      },
      "outputs": [
        {
          "data": {
            "text/plain": [
              "customer_state\n",
              "SP    41746\n",
              "RJ    12852\n",
              "MG    11635\n",
              "RS     5466\n",
              "PR     5045\n",
              "SC     3637\n",
              "BA     3380\n",
              "DF     2140\n",
              "ES     2033\n",
              "GO     2020\n",
              "Name: order_id, dtype: int64"
            ]
          },
          "execution_count": 74,
          "metadata": {},
          "output_type": "execute_result"
        }
      ],
      "source": [
        "customers_orders_df.groupby(by=\"customer_state\").order_id.nunique().sort_values(ascending=False).head(10)"
      ]
    },
    {
      "cell_type": "code",
      "execution_count": 75,
      "metadata": {
        "colab": {
          "base_uri": "https://localhost:8080/"
        },
        "id": "R9N4zeHxRWCx",
        "outputId": "0308fb79-7e4b-46d7-9374-fefef1a7181a"
      },
      "outputs": [
        {
          "data": {
            "text/plain": [
              "customer_zip_code_prefix\n",
              "22790    142\n",
              "24220    124\n",
              "22793    121\n",
              "24230    117\n",
              "22775    110\n",
              "29101    101\n",
              "13212     95\n",
              "35162     93\n",
              "22631     89\n",
              "38400     87\n",
              "Name: order_id, dtype: int64"
            ]
          },
          "execution_count": 75,
          "metadata": {},
          "output_type": "execute_result"
        }
      ],
      "source": [
        "customers_orders_df.groupby(by=\"customer_zip_code_prefix\").order_id.nunique().sort_values(ascending=False).head(10)"
      ]
    },
    {
      "cell_type": "markdown",
      "metadata": {
        "id": "w_9I4SIfRWCy"
      },
      "source": [
        "### 5. Menggabungkan data order_payments_df dan order_reviews_df"
      ]
    },
    {
      "cell_type": "code",
      "execution_count": 76,
      "metadata": {
        "colab": {
          "base_uri": "https://localhost:8080/",
          "height": 261
        },
        "id": "7DjInWrWRWCz",
        "outputId": "fec6aa3b-5611-4e2e-802d-2370a7a9dba1"
      },
      "outputs": [
        {
          "data": {
            "text/html": [
              "<div>\n",
              "<style scoped>\n",
              "    .dataframe tbody tr th:only-of-type {\n",
              "        vertical-align: middle;\n",
              "    }\n",
              "\n",
              "    .dataframe tbody tr th {\n",
              "        vertical-align: top;\n",
              "    }\n",
              "\n",
              "    .dataframe thead th {\n",
              "        text-align: right;\n",
              "    }\n",
              "</style>\n",
              "<table border=\"1\" class=\"dataframe\">\n",
              "  <thead>\n",
              "    <tr style=\"text-align: right;\">\n",
              "      <th></th>\n",
              "      <th>order_id</th>\n",
              "      <th>payment_sequential</th>\n",
              "      <th>payment_type</th>\n",
              "      <th>payment_installments</th>\n",
              "      <th>payment_value</th>\n",
              "      <th>review_id</th>\n",
              "      <th>review_score</th>\n",
              "      <th>review_comment_title</th>\n",
              "      <th>review_comment_message</th>\n",
              "      <th>review_creation_date</th>\n",
              "      <th>review_answer_timestamp</th>\n",
              "    </tr>\n",
              "  </thead>\n",
              "  <tbody>\n",
              "    <tr>\n",
              "      <th>0</th>\n",
              "      <td>b81ef226f3fe1789b1e8b2acac839d17</td>\n",
              "      <td>1</td>\n",
              "      <td>credit_card</td>\n",
              "      <td>8</td>\n",
              "      <td>99.33</td>\n",
              "      <td>4ce650e117a5b292bf5ea980a61eb61e</td>\n",
              "      <td>1.0</td>\n",
              "      <td>Não recomendo</td>\n",
              "      <td>Produto com qualidade ruim, amassado e descasc...</td>\n",
              "      <td>2018-05-10</td>\n",
              "      <td>2018-05-15 23:38:00</td>\n",
              "    </tr>\n",
              "    <tr>\n",
              "      <th>1</th>\n",
              "      <td>a9810da82917af2d9aefd1278f1dcfa0</td>\n",
              "      <td>1</td>\n",
              "      <td>credit_card</td>\n",
              "      <td>1</td>\n",
              "      <td>24.39</td>\n",
              "      <td>ad2036caca61484fc435d7e673c020f2</td>\n",
              "      <td>5.0</td>\n",
              "      <td>sem comentários</td>\n",
              "      <td>sem comentários</td>\n",
              "      <td>2018-06-30</td>\n",
              "      <td>2018-07-03 11:23:16</td>\n",
              "    </tr>\n",
              "    <tr>\n",
              "      <th>2</th>\n",
              "      <td>25e8ea4e93396b6fa0d3dd708e76c1bd</td>\n",
              "      <td>1</td>\n",
              "      <td>credit_card</td>\n",
              "      <td>1</td>\n",
              "      <td>65.71</td>\n",
              "      <td>bcddfa0f7d2e54cfc74bae4f01b84d92</td>\n",
              "      <td>5.0</td>\n",
              "      <td>sem comentários</td>\n",
              "      <td>Aprovada</td>\n",
              "      <td>2017-12-19</td>\n",
              "      <td>2017-12-22 17:55:30</td>\n",
              "    </tr>\n",
              "    <tr>\n",
              "      <th>3</th>\n",
              "      <td>ba78997921bbcdc1373bb41e913ab953</td>\n",
              "      <td>1</td>\n",
              "      <td>credit_card</td>\n",
              "      <td>8</td>\n",
              "      <td>107.78</td>\n",
              "      <td>c37a0e51e5df82bdb55d38ff0ffb6af3</td>\n",
              "      <td>5.0</td>\n",
              "      <td>sem comentários</td>\n",
              "      <td>sem comentários</td>\n",
              "      <td>2017-12-21</td>\n",
              "      <td>2017-12-21 21:42:31</td>\n",
              "    </tr>\n",
              "    <tr>\n",
              "      <th>4</th>\n",
              "      <td>ba78997921bbcdc1373bb41e913ab953</td>\n",
              "      <td>1</td>\n",
              "      <td>credit_card</td>\n",
              "      <td>8</td>\n",
              "      <td>107.78</td>\n",
              "      <td>5bc7680443b4ef765fec11a8201eeb0c</td>\n",
              "      <td>5.0</td>\n",
              "      <td>sem comentários</td>\n",
              "      <td>sem comentários</td>\n",
              "      <td>2017-12-21</td>\n",
              "      <td>2017-12-22 01:10:39</td>\n",
              "    </tr>\n",
              "  </tbody>\n",
              "</table>\n",
              "</div>"
            ],
            "text/plain": [
              "                           order_id  payment_sequential payment_type  \\\n",
              "0  b81ef226f3fe1789b1e8b2acac839d17                   1  credit_card   \n",
              "1  a9810da82917af2d9aefd1278f1dcfa0                   1  credit_card   \n",
              "2  25e8ea4e93396b6fa0d3dd708e76c1bd                   1  credit_card   \n",
              "3  ba78997921bbcdc1373bb41e913ab953                   1  credit_card   \n",
              "4  ba78997921bbcdc1373bb41e913ab953                   1  credit_card   \n",
              "\n",
              "   payment_installments  payment_value                         review_id  \\\n",
              "0                     8          99.33  4ce650e117a5b292bf5ea980a61eb61e   \n",
              "1                     1          24.39  ad2036caca61484fc435d7e673c020f2   \n",
              "2                     1          65.71  bcddfa0f7d2e54cfc74bae4f01b84d92   \n",
              "3                     8         107.78  c37a0e51e5df82bdb55d38ff0ffb6af3   \n",
              "4                     8         107.78  5bc7680443b4ef765fec11a8201eeb0c   \n",
              "\n",
              "   review_score review_comment_title  \\\n",
              "0           1.0        Não recomendo   \n",
              "1           5.0      sem comentários   \n",
              "2           5.0      sem comentários   \n",
              "3           5.0      sem comentários   \n",
              "4           5.0      sem comentários   \n",
              "\n",
              "                              review_comment_message review_creation_date  \\\n",
              "0  Produto com qualidade ruim, amassado e descasc...           2018-05-10   \n",
              "1                                    sem comentários           2018-06-30   \n",
              "2                                           Aprovada           2017-12-19   \n",
              "3                                    sem comentários           2017-12-21   \n",
              "4                                    sem comentários           2017-12-21   \n",
              "\n",
              "  review_answer_timestamp  \n",
              "0     2018-05-15 23:38:00  \n",
              "1     2018-07-03 11:23:16  \n",
              "2     2017-12-22 17:55:30  \n",
              "3     2017-12-21 21:42:31  \n",
              "4     2017-12-22 01:10:39  "
            ]
          },
          "execution_count": 76,
          "metadata": {},
          "output_type": "execute_result"
        }
      ],
      "source": [
        "order_payment_reviews_df = pd.merge(\n",
        "    left=order_payments_df,\n",
        "    right=order_reviews_df,\n",
        "    how=\"left\",\n",
        "    left_on=\"order_id\",\n",
        "    right_on=\"order_id\"\n",
        ")\n",
        "order_payment_reviews_df.head()"
      ]
    },
    {
      "cell_type": "code",
      "execution_count": 77,
      "metadata": {
        "colab": {
          "base_uri": "https://localhost:8080/"
        },
        "id": "QOZ0E5YDRWC8",
        "outputId": "e5608d5a-d24c-4d17-93ec-4d0f05604560"
      },
      "outputs": [
        {
          "data": {
            "text/plain": [
              "payment_type\n",
              "credit_card    76505\n",
              "boleto         19784\n",
              "voucher         3866\n",
              "debit_card      1528\n",
              "not_defined        3\n",
              "Name: order_id, dtype: int64"
            ]
          },
          "execution_count": 77,
          "metadata": {},
          "output_type": "execute_result"
        }
      ],
      "source": [
        "order_payment_reviews_df.groupby(by=\"payment_type\").order_id.nunique().sort_values(ascending=False).head(10)"
      ]
    },
    {
      "cell_type": "code",
      "execution_count": 78,
      "metadata": {
        "colab": {
          "base_uri": "https://localhost:8080/",
          "height": 600
        },
        "id": "0lQ8nU7-RWC9",
        "outputId": "df1d0568-35ba-47e2-8c40-fdd6b89449db"
      },
      "outputs": [
        {
          "data": {
            "text/html": [
              "<div>\n",
              "<style scoped>\n",
              "    .dataframe tbody tr th:only-of-type {\n",
              "        vertical-align: middle;\n",
              "    }\n",
              "\n",
              "    .dataframe tbody tr th {\n",
              "        vertical-align: top;\n",
              "    }\n",
              "\n",
              "    .dataframe thead th {\n",
              "        text-align: right;\n",
              "    }\n",
              "</style>\n",
              "<table border=\"1\" class=\"dataframe\">\n",
              "  <thead>\n",
              "    <tr style=\"text-align: right;\">\n",
              "      <th></th>\n",
              "      <th>order_id</th>\n",
              "      <th>payment_sequential</th>\n",
              "      <th>payment_type</th>\n",
              "      <th>payment_installments</th>\n",
              "      <th>payment_value</th>\n",
              "      <th>review_id</th>\n",
              "      <th>review_score</th>\n",
              "      <th>review_comment_title</th>\n",
              "      <th>review_comment_message</th>\n",
              "      <th>review_creation_date</th>\n",
              "      <th>review_answer_timestamp</th>\n",
              "    </tr>\n",
              "  </thead>\n",
              "  <tbody>\n",
              "    <tr>\n",
              "      <th>52415</th>\n",
              "      <td>03caa2c082116e1d31e67e9ae3700499</td>\n",
              "      <td>1</td>\n",
              "      <td>credit_card</td>\n",
              "      <td>1</td>\n",
              "      <td>13664.08</td>\n",
              "      <td>211fa81a22870cc634265ea85b751e40</td>\n",
              "      <td>1.0</td>\n",
              "      <td>sem comentários</td>\n",
              "      <td>Peço por favor verificar a entrega do pedido, ...</td>\n",
              "      <td>2017-10-18</td>\n",
              "      <td>2017-10-19 13:10:39</td>\n",
              "    </tr>\n",
              "    <tr>\n",
              "      <th>34565</th>\n",
              "      <td>736e1922ae60d0d6a89247b851902527</td>\n",
              "      <td>1</td>\n",
              "      <td>boleto</td>\n",
              "      <td>1</td>\n",
              "      <td>7274.88</td>\n",
              "      <td>6b9a600f1bb824da4ca38f65baf42526</td>\n",
              "      <td>1.0</td>\n",
              "      <td>Entrega incompleta</td>\n",
              "      <td>Comprei 04 unidades, e foram entregues apenas ...</td>\n",
              "      <td>2018-07-27</td>\n",
              "      <td>2018-07-28 02:36:10</td>\n",
              "    </tr>\n",
              "    <tr>\n",
              "      <th>41660</th>\n",
              "      <td>0812eb902a67711a1cb742b3cdaa65ae</td>\n",
              "      <td>1</td>\n",
              "      <td>credit_card</td>\n",
              "      <td>8</td>\n",
              "      <td>6929.31</td>\n",
              "      <td>e2fbd9f0ef7b724c7ecb351601a857e7</td>\n",
              "      <td>5.0</td>\n",
              "      <td>sem comentários</td>\n",
              "      <td>Mesmo a máquina ter vindo errada, já se pronti...</td>\n",
              "      <td>2017-03-04</td>\n",
              "      <td>2017-03-04 21:40:41</td>\n",
              "    </tr>\n",
              "    <tr>\n",
              "      <th>49871</th>\n",
              "      <td>fefacc66af859508bf1a7934eab1e97f</td>\n",
              "      <td>1</td>\n",
              "      <td>boleto</td>\n",
              "      <td>1</td>\n",
              "      <td>6922.21</td>\n",
              "      <td>NaN</td>\n",
              "      <td>NaN</td>\n",
              "      <td>NaN</td>\n",
              "      <td>NaN</td>\n",
              "      <td>NaT</td>\n",
              "      <td>NaT</td>\n",
              "    </tr>\n",
              "    <tr>\n",
              "      <th>86018</th>\n",
              "      <td>f5136e38d1a14a4dbd87dff67da82701</td>\n",
              "      <td>1</td>\n",
              "      <td>boleto</td>\n",
              "      <td>1</td>\n",
              "      <td>6726.66</td>\n",
              "      <td>1b73e6c7cd135008ebeb18404b776ddc</td>\n",
              "      <td>5.0</td>\n",
              "      <td>sem comentários</td>\n",
              "      <td>sem comentários</td>\n",
              "      <td>2017-06-06</td>\n",
              "      <td>2017-06-07 19:35:23</td>\n",
              "    </tr>\n",
              "    <tr>\n",
              "      <th>...</th>\n",
              "      <td>...</td>\n",
              "      <td>...</td>\n",
              "      <td>...</td>\n",
              "      <td>...</td>\n",
              "      <td>...</td>\n",
              "      <td>...</td>\n",
              "      <td>...</td>\n",
              "      <td>...</td>\n",
              "      <td>...</td>\n",
              "      <td>...</td>\n",
              "      <td>...</td>\n",
              "    </tr>\n",
              "    <tr>\n",
              "      <th>78326</th>\n",
              "      <td>fa65dad1b0e818e3ccc5cb0e39231352</td>\n",
              "      <td>13</td>\n",
              "      <td>voucher</td>\n",
              "      <td>1</td>\n",
              "      <td>0.00</td>\n",
              "      <td>f28281373ab8815bafafe371218f02ce</td>\n",
              "      <td>1.0</td>\n",
              "      <td>sem comentários</td>\n",
              "      <td>A mercadoria não foi entregue. Entrara em cont...</td>\n",
              "      <td>2017-05-21</td>\n",
              "      <td>2017-05-24 16:21:27</td>\n",
              "    </tr>\n",
              "    <tr>\n",
              "      <th>51581</th>\n",
              "      <td>4637ca194b6387e2d538dc89b124b0ee</td>\n",
              "      <td>1</td>\n",
              "      <td>not_defined</td>\n",
              "      <td>1</td>\n",
              "      <td>0.00</td>\n",
              "      <td>9efef4d70190c1bdb9b12872cc8144fc</td>\n",
              "      <td>3.0</td>\n",
              "      <td>Produto Avariado</td>\n",
              "      <td>Recebi o Diario do Bebê c um pequeno rasgo na ...</td>\n",
              "      <td>2018-08-17</td>\n",
              "      <td>2018-08-18 15:32:40</td>\n",
              "    </tr>\n",
              "    <tr>\n",
              "      <th>37030</th>\n",
              "      <td>fa65dad1b0e818e3ccc5cb0e39231352</td>\n",
              "      <td>14</td>\n",
              "      <td>voucher</td>\n",
              "      <td>1</td>\n",
              "      <td>0.00</td>\n",
              "      <td>f28281373ab8815bafafe371218f02ce</td>\n",
              "      <td>1.0</td>\n",
              "      <td>sem comentários</td>\n",
              "      <td>A mercadoria não foi entregue. Entrara em cont...</td>\n",
              "      <td>2017-05-21</td>\n",
              "      <td>2017-05-24 16:21:27</td>\n",
              "    </tr>\n",
              "    <tr>\n",
              "      <th>94953</th>\n",
              "      <td>c8c528189310eaa44a745b8d9d26908b</td>\n",
              "      <td>1</td>\n",
              "      <td>not_defined</td>\n",
              "      <td>1</td>\n",
              "      <td>0.00</td>\n",
              "      <td>b54d02f7f1520b3995f84b77ab0dacb3</td>\n",
              "      <td>1.0</td>\n",
              "      <td>Péssima meu produtdefeito</td>\n",
              "      <td>sem comentários</td>\n",
              "      <td>2018-08-24</td>\n",
              "      <td>2018-08-25 02:24:54</td>\n",
              "    </tr>\n",
              "    <tr>\n",
              "      <th>20031</th>\n",
              "      <td>8bcbe01d44d147f901cd3192671144db</td>\n",
              "      <td>4</td>\n",
              "      <td>voucher</td>\n",
              "      <td>1</td>\n",
              "      <td>0.00</td>\n",
              "      <td>3d42038fd2a7d35a88b93cb3e51796a3</td>\n",
              "      <td>4.0</td>\n",
              "      <td>sem comentários</td>\n",
              "      <td>sem comentários</td>\n",
              "      <td>2018-02-03</td>\n",
              "      <td>2018-02-11 17:34:29</td>\n",
              "    </tr>\n",
              "  </tbody>\n",
              "</table>\n",
              "<p>104477 rows × 11 columns</p>\n",
              "</div>"
            ],
            "text/plain": [
              "                               order_id  payment_sequential payment_type  \\\n",
              "52415  03caa2c082116e1d31e67e9ae3700499                   1  credit_card   \n",
              "34565  736e1922ae60d0d6a89247b851902527                   1       boleto   \n",
              "41660  0812eb902a67711a1cb742b3cdaa65ae                   1  credit_card   \n",
              "49871  fefacc66af859508bf1a7934eab1e97f                   1       boleto   \n",
              "86018  f5136e38d1a14a4dbd87dff67da82701                   1       boleto   \n",
              "...                                 ...                 ...          ...   \n",
              "78326  fa65dad1b0e818e3ccc5cb0e39231352                  13      voucher   \n",
              "51581  4637ca194b6387e2d538dc89b124b0ee                   1  not_defined   \n",
              "37030  fa65dad1b0e818e3ccc5cb0e39231352                  14      voucher   \n",
              "94953  c8c528189310eaa44a745b8d9d26908b                   1  not_defined   \n",
              "20031  8bcbe01d44d147f901cd3192671144db                   4      voucher   \n",
              "\n",
              "       payment_installments  payment_value                         review_id  \\\n",
              "52415                     1       13664.08  211fa81a22870cc634265ea85b751e40   \n",
              "34565                     1        7274.88  6b9a600f1bb824da4ca38f65baf42526   \n",
              "41660                     8        6929.31  e2fbd9f0ef7b724c7ecb351601a857e7   \n",
              "49871                     1        6922.21                               NaN   \n",
              "86018                     1        6726.66  1b73e6c7cd135008ebeb18404b776ddc   \n",
              "...                     ...            ...                               ...   \n",
              "78326                     1           0.00  f28281373ab8815bafafe371218f02ce   \n",
              "51581                     1           0.00  9efef4d70190c1bdb9b12872cc8144fc   \n",
              "37030                     1           0.00  f28281373ab8815bafafe371218f02ce   \n",
              "94953                     1           0.00  b54d02f7f1520b3995f84b77ab0dacb3   \n",
              "20031                     1           0.00  3d42038fd2a7d35a88b93cb3e51796a3   \n",
              "\n",
              "       review_score       review_comment_title  \\\n",
              "52415           1.0            sem comentários   \n",
              "34565           1.0         Entrega incompleta   \n",
              "41660           5.0            sem comentários   \n",
              "49871           NaN                        NaN   \n",
              "86018           5.0            sem comentários   \n",
              "...             ...                        ...   \n",
              "78326           1.0            sem comentários   \n",
              "51581           3.0           Produto Avariado   \n",
              "37030           1.0            sem comentários   \n",
              "94953           1.0  Péssima meu produtdefeito   \n",
              "20031           4.0            sem comentários   \n",
              "\n",
              "                                  review_comment_message review_creation_date  \\\n",
              "52415  Peço por favor verificar a entrega do pedido, ...           2017-10-18   \n",
              "34565  Comprei 04 unidades, e foram entregues apenas ...           2018-07-27   \n",
              "41660  Mesmo a máquina ter vindo errada, já se pronti...           2017-03-04   \n",
              "49871                                                NaN                  NaT   \n",
              "86018                                    sem comentários           2017-06-06   \n",
              "...                                                  ...                  ...   \n",
              "78326  A mercadoria não foi entregue. Entrara em cont...           2017-05-21   \n",
              "51581  Recebi o Diario do Bebê c um pequeno rasgo na ...           2018-08-17   \n",
              "37030  A mercadoria não foi entregue. Entrara em cont...           2017-05-21   \n",
              "94953                                    sem comentários           2018-08-24   \n",
              "20031                                    sem comentários           2018-02-03   \n",
              "\n",
              "      review_answer_timestamp  \n",
              "52415     2017-10-19 13:10:39  \n",
              "34565     2018-07-28 02:36:10  \n",
              "41660     2017-03-04 21:40:41  \n",
              "49871                     NaT  \n",
              "86018     2017-06-07 19:35:23  \n",
              "...                       ...  \n",
              "78326     2017-05-24 16:21:27  \n",
              "51581     2018-08-18 15:32:40  \n",
              "37030     2017-05-24 16:21:27  \n",
              "94953     2018-08-25 02:24:54  \n",
              "20031     2018-02-11 17:34:29  \n",
              "\n",
              "[104477 rows x 11 columns]"
            ]
          },
          "execution_count": 78,
          "metadata": {},
          "output_type": "execute_result"
        }
      ],
      "source": [
        "order_payment_reviews_df.sort_values(by=\"payment_value\", ascending=False)"
      ]
    },
    {
      "cell_type": "code",
      "execution_count": 79,
      "metadata": {
        "colab": {
          "base_uri": "https://localhost:8080/",
          "height": 269
        },
        "id": "gL29G8J9RWC-",
        "outputId": "ce766452-54df-4fda-f8f0-977fa3f5dae1"
      },
      "outputs": [
        {
          "data": {
            "text/html": [
              "<div>\n",
              "<style scoped>\n",
              "    .dataframe tbody tr th:only-of-type {\n",
              "        vertical-align: middle;\n",
              "    }\n",
              "\n",
              "    .dataframe tbody tr th {\n",
              "        vertical-align: top;\n",
              "    }\n",
              "\n",
              "    .dataframe thead tr th {\n",
              "        text-align: left;\n",
              "    }\n",
              "\n",
              "    .dataframe thead tr:last-of-type th {\n",
              "        text-align: right;\n",
              "    }\n",
              "</style>\n",
              "<table border=\"1\" class=\"dataframe\">\n",
              "  <thead>\n",
              "    <tr>\n",
              "      <th></th>\n",
              "      <th>order_id</th>\n",
              "      <th colspan=\"2\" halign=\"left\">payment_value</th>\n",
              "    </tr>\n",
              "    <tr>\n",
              "      <th></th>\n",
              "      <th>nunique</th>\n",
              "      <th>min</th>\n",
              "      <th>max</th>\n",
              "    </tr>\n",
              "    <tr>\n",
              "      <th>payment_type</th>\n",
              "      <th></th>\n",
              "      <th></th>\n",
              "      <th></th>\n",
              "    </tr>\n",
              "  </thead>\n",
              "  <tbody>\n",
              "    <tr>\n",
              "      <th>boleto</th>\n",
              "      <td>19784</td>\n",
              "      <td>11.62</td>\n",
              "      <td>7274.88</td>\n",
              "    </tr>\n",
              "    <tr>\n",
              "      <th>credit_card</th>\n",
              "      <td>76505</td>\n",
              "      <td>0.01</td>\n",
              "      <td>13664.08</td>\n",
              "    </tr>\n",
              "    <tr>\n",
              "      <th>debit_card</th>\n",
              "      <td>1528</td>\n",
              "      <td>13.38</td>\n",
              "      <td>4445.50</td>\n",
              "    </tr>\n",
              "    <tr>\n",
              "      <th>not_defined</th>\n",
              "      <td>3</td>\n",
              "      <td>0.00</td>\n",
              "      <td>0.00</td>\n",
              "    </tr>\n",
              "    <tr>\n",
              "      <th>voucher</th>\n",
              "      <td>3866</td>\n",
              "      <td>0.00</td>\n",
              "      <td>3184.34</td>\n",
              "    </tr>\n",
              "  </tbody>\n",
              "</table>\n",
              "</div>"
            ],
            "text/plain": [
              "             order_id payment_value          \n",
              "              nunique           min       max\n",
              "payment_type                                 \n",
              "boleto          19784         11.62   7274.88\n",
              "credit_card     76505          0.01  13664.08\n",
              "debit_card       1528         13.38   4445.50\n",
              "not_defined         3          0.00      0.00\n",
              "voucher          3866          0.00   3184.34"
            ]
          },
          "execution_count": 79,
          "metadata": {},
          "output_type": "execute_result"
        }
      ],
      "source": [
        "order_payment_reviews_df.groupby(by=\"payment_type\").agg({\n",
        "    \"order_id\": \"nunique\",\n",
        "    \"payment_value\":  [\"min\", \"max\"]\n",
        "})"
      ]
    },
    {
      "cell_type": "markdown",
      "metadata": {
        "id": "4-zeXTJuRWC_"
      },
      "source": [
        "### 6. Membuat data customers baru"
      ]
    },
    {
      "cell_type": "code",
      "execution_count": 80,
      "metadata": {
        "colab": {
          "base_uri": "https://localhost:8080/",
          "height": 307
        },
        "id": "VMdwGuXYRWDB",
        "outputId": "832601c0-6902-4b73-c09f-6f5e40a5611f"
      },
      "outputs": [
        {
          "data": {
            "text/html": [
              "<div>\n",
              "<style scoped>\n",
              "    .dataframe tbody tr th:only-of-type {\n",
              "        vertical-align: middle;\n",
              "    }\n",
              "\n",
              "    .dataframe tbody tr th {\n",
              "        vertical-align: top;\n",
              "    }\n",
              "\n",
              "    .dataframe thead th {\n",
              "        text-align: right;\n",
              "    }\n",
              "</style>\n",
              "<table border=\"1\" class=\"dataframe\">\n",
              "  <thead>\n",
              "    <tr style=\"text-align: right;\">\n",
              "      <th></th>\n",
              "      <th>customer_id</th>\n",
              "      <th>customer_unique_id</th>\n",
              "      <th>customer_zip_code_prefix</th>\n",
              "      <th>customer_city</th>\n",
              "      <th>customer_state</th>\n",
              "      <th>status</th>\n",
              "      <th>order_id</th>\n",
              "      <th>order_status</th>\n",
              "      <th>order_purchase_timestamp</th>\n",
              "      <th>order_approved_at</th>\n",
              "      <th>...</th>\n",
              "      <th>payment_sequential</th>\n",
              "      <th>payment_type</th>\n",
              "      <th>payment_installments</th>\n",
              "      <th>payment_value</th>\n",
              "      <th>review_id</th>\n",
              "      <th>review_score</th>\n",
              "      <th>review_comment_title</th>\n",
              "      <th>review_comment_message</th>\n",
              "      <th>review_creation_date</th>\n",
              "      <th>review_answer_timestamp</th>\n",
              "    </tr>\n",
              "  </thead>\n",
              "  <tbody>\n",
              "    <tr>\n",
              "      <th>0</th>\n",
              "      <td>06b8999e2fba1a1fbc88172c00ba8bc7</td>\n",
              "      <td>861eff4711a542e4b93843c6dd7febb0</td>\n",
              "      <td>14409</td>\n",
              "      <td>franca</td>\n",
              "      <td>SP</td>\n",
              "      <td>Active</td>\n",
              "      <td>00e7ee1b050b8499577073aeb2a297a1</td>\n",
              "      <td>delivered</td>\n",
              "      <td>2017-05-16 15:05:35</td>\n",
              "      <td>2017-05-16 15:22:12</td>\n",
              "      <td>...</td>\n",
              "      <td>1.0</td>\n",
              "      <td>credit_card</td>\n",
              "      <td>2.0</td>\n",
              "      <td>146.87</td>\n",
              "      <td>88b8b52d46df026a9d1ad2136a59b30b</td>\n",
              "      <td>4.0</td>\n",
              "      <td>sem comentários</td>\n",
              "      <td>sem comentários</td>\n",
              "      <td>2017-05-26</td>\n",
              "      <td>2017-05-30 22:34:40</td>\n",
              "    </tr>\n",
              "    <tr>\n",
              "      <th>1</th>\n",
              "      <td>18955e83d337fd6b2def6b18a428ac77</td>\n",
              "      <td>290c77bc529b7ac935b93aa66c333dc3</td>\n",
              "      <td>9790</td>\n",
              "      <td>sao bernardo do campo</td>\n",
              "      <td>SP</td>\n",
              "      <td>Active</td>\n",
              "      <td>29150127e6685892b6eab3eec79f59c7</td>\n",
              "      <td>delivered</td>\n",
              "      <td>2018-01-12 20:48:24</td>\n",
              "      <td>2018-01-12 20:58:32</td>\n",
              "      <td>...</td>\n",
              "      <td>1.0</td>\n",
              "      <td>credit_card</td>\n",
              "      <td>8.0</td>\n",
              "      <td>335.48</td>\n",
              "      <td>02fc48a9efa3e3d0f1a8ea26507eeec3</td>\n",
              "      <td>5.0</td>\n",
              "      <td>sem comentários</td>\n",
              "      <td>sem comentários</td>\n",
              "      <td>2018-01-30</td>\n",
              "      <td>2018-02-10 22:43:29</td>\n",
              "    </tr>\n",
              "    <tr>\n",
              "      <th>2</th>\n",
              "      <td>4e7b3e00288586ebd08712fdd0374a03</td>\n",
              "      <td>060e732b5b29e8181a18229c7b0b2b5e</td>\n",
              "      <td>1151</td>\n",
              "      <td>sao paulo</td>\n",
              "      <td>SP</td>\n",
              "      <td>Active</td>\n",
              "      <td>b2059ed67ce144a36e2aa97d2c9e9ad2</td>\n",
              "      <td>delivered</td>\n",
              "      <td>2018-05-19 16:07:45</td>\n",
              "      <td>2018-05-20 16:19:10</td>\n",
              "      <td>...</td>\n",
              "      <td>1.0</td>\n",
              "      <td>credit_card</td>\n",
              "      <td>7.0</td>\n",
              "      <td>157.73</td>\n",
              "      <td>5ad6695d76ee186dc473c42706984d87</td>\n",
              "      <td>5.0</td>\n",
              "      <td>sem comentários</td>\n",
              "      <td>sem comentários</td>\n",
              "      <td>2018-06-15</td>\n",
              "      <td>2018-06-15 12:10:59</td>\n",
              "    </tr>\n",
              "    <tr>\n",
              "      <th>3</th>\n",
              "      <td>b2b6027bc5c5109e529d4dc6358b12c3</td>\n",
              "      <td>259dac757896d24d7702b9acbbff3f3c</td>\n",
              "      <td>8775</td>\n",
              "      <td>mogi das cruzes</td>\n",
              "      <td>SP</td>\n",
              "      <td>Active</td>\n",
              "      <td>951670f92359f4fe4a63112aa7306eba</td>\n",
              "      <td>delivered</td>\n",
              "      <td>2018-03-13 16:06:38</td>\n",
              "      <td>2018-03-13 17:29:19</td>\n",
              "      <td>...</td>\n",
              "      <td>1.0</td>\n",
              "      <td>credit_card</td>\n",
              "      <td>1.0</td>\n",
              "      <td>173.30</td>\n",
              "      <td>059a801bb31f6aab2266e672cab87bc5</td>\n",
              "      <td>5.0</td>\n",
              "      <td>sem comentários</td>\n",
              "      <td>sem comentários</td>\n",
              "      <td>2018-03-29</td>\n",
              "      <td>2018-04-02 18:36:47</td>\n",
              "    </tr>\n",
              "    <tr>\n",
              "      <th>4</th>\n",
              "      <td>4f2d8ab171c80ec8364f7c12e35b23ad</td>\n",
              "      <td>345ecd01c38d18a9036ed96c73b8d066</td>\n",
              "      <td>13056</td>\n",
              "      <td>campinas</td>\n",
              "      <td>SP</td>\n",
              "      <td>Active</td>\n",
              "      <td>6b7d50bd145f6fc7f33cebabd7e49d0f</td>\n",
              "      <td>delivered</td>\n",
              "      <td>2018-07-29 09:51:30</td>\n",
              "      <td>2018-07-29 10:10:09</td>\n",
              "      <td>...</td>\n",
              "      <td>1.0</td>\n",
              "      <td>credit_card</td>\n",
              "      <td>8.0</td>\n",
              "      <td>252.25</td>\n",
              "      <td>8490879d58d6c5d7773f2739a03f089a</td>\n",
              "      <td>5.0</td>\n",
              "      <td>a melhor nota</td>\n",
              "      <td>O baratheon è esxelente Amo adoro o baratheon</td>\n",
              "      <td>2018-08-10</td>\n",
              "      <td>2018-08-17 01:59:52</td>\n",
              "    </tr>\n",
              "  </tbody>\n",
              "</table>\n",
              "<p>5 rows × 24 columns</p>\n",
              "</div>"
            ],
            "text/plain": [
              "                        customer_id                customer_unique_id  \\\n",
              "0  06b8999e2fba1a1fbc88172c00ba8bc7  861eff4711a542e4b93843c6dd7febb0   \n",
              "1  18955e83d337fd6b2def6b18a428ac77  290c77bc529b7ac935b93aa66c333dc3   \n",
              "2  4e7b3e00288586ebd08712fdd0374a03  060e732b5b29e8181a18229c7b0b2b5e   \n",
              "3  b2b6027bc5c5109e529d4dc6358b12c3  259dac757896d24d7702b9acbbff3f3c   \n",
              "4  4f2d8ab171c80ec8364f7c12e35b23ad  345ecd01c38d18a9036ed96c73b8d066   \n",
              "\n",
              "   customer_zip_code_prefix          customer_city customer_state  status  \\\n",
              "0                     14409                 franca             SP  Active   \n",
              "1                      9790  sao bernardo do campo             SP  Active   \n",
              "2                      1151              sao paulo             SP  Active   \n",
              "3                      8775        mogi das cruzes             SP  Active   \n",
              "4                     13056               campinas             SP  Active   \n",
              "\n",
              "                           order_id order_status order_purchase_timestamp  \\\n",
              "0  00e7ee1b050b8499577073aeb2a297a1    delivered      2017-05-16 15:05:35   \n",
              "1  29150127e6685892b6eab3eec79f59c7    delivered      2018-01-12 20:48:24   \n",
              "2  b2059ed67ce144a36e2aa97d2c9e9ad2    delivered      2018-05-19 16:07:45   \n",
              "3  951670f92359f4fe4a63112aa7306eba    delivered      2018-03-13 16:06:38   \n",
              "4  6b7d50bd145f6fc7f33cebabd7e49d0f    delivered      2018-07-29 09:51:30   \n",
              "\n",
              "    order_approved_at  ... payment_sequential payment_type  \\\n",
              "0 2017-05-16 15:22:12  ...                1.0  credit_card   \n",
              "1 2018-01-12 20:58:32  ...                1.0  credit_card   \n",
              "2 2018-05-20 16:19:10  ...                1.0  credit_card   \n",
              "3 2018-03-13 17:29:19  ...                1.0  credit_card   \n",
              "4 2018-07-29 10:10:09  ...                1.0  credit_card   \n",
              "\n",
              "  payment_installments  payment_value                         review_id  \\\n",
              "0                  2.0         146.87  88b8b52d46df026a9d1ad2136a59b30b   \n",
              "1                  8.0         335.48  02fc48a9efa3e3d0f1a8ea26507eeec3   \n",
              "2                  7.0         157.73  5ad6695d76ee186dc473c42706984d87   \n",
              "3                  1.0         173.30  059a801bb31f6aab2266e672cab87bc5   \n",
              "4                  8.0         252.25  8490879d58d6c5d7773f2739a03f089a   \n",
              "\n",
              "  review_score  review_comment_title  \\\n",
              "0          4.0       sem comentários   \n",
              "1          5.0       sem comentários   \n",
              "2          5.0       sem comentários   \n",
              "3          5.0       sem comentários   \n",
              "4          5.0         a melhor nota   \n",
              "\n",
              "                          review_comment_message review_creation_date  \\\n",
              "0                                sem comentários           2017-05-26   \n",
              "1                                sem comentários           2018-01-30   \n",
              "2                                sem comentários           2018-06-15   \n",
              "3                                sem comentários           2018-03-29   \n",
              "4  O baratheon è esxelente Amo adoro o baratheon           2018-08-10   \n",
              "\n",
              "   review_answer_timestamp  \n",
              "0      2017-05-30 22:34:40  \n",
              "1      2018-02-10 22:43:29  \n",
              "2      2018-06-15 12:10:59  \n",
              "3      2018-04-02 18:36:47  \n",
              "4      2018-08-17 01:59:52  \n",
              "\n",
              "[5 rows x 24 columns]"
            ]
          },
          "execution_count": 80,
          "metadata": {},
          "output_type": "execute_result"
        }
      ],
      "source": [
        "new_customers_df = pd.merge(\n",
        "    left=customers_orders_df,\n",
        "    right=order_payment_reviews_df,\n",
        "    how=\"left\",\n",
        "    left_on=\"order_id\",\n",
        "    right_on=\"order_id\"\n",
        ")\n",
        "new_customers_df.head()"
      ]
    },
    {
      "cell_type": "markdown",
      "metadata": {
        "id": "kdry-NDIRWDC"
      },
      "source": [
        "### 7. Menggabungkan data orders_item_df dan sellers_df"
      ]
    },
    {
      "cell_type": "code",
      "execution_count": 81,
      "metadata": {
        "colab": {
          "base_uri": "https://localhost:8080/",
          "height": 261
        },
        "id": "uIW4WU1uRWDF",
        "outputId": "733fd158-cb9d-413d-b0d0-fa6eeca2fec4"
      },
      "outputs": [
        {
          "data": {
            "text/html": [
              "<div>\n",
              "<style scoped>\n",
              "    .dataframe tbody tr th:only-of-type {\n",
              "        vertical-align: middle;\n",
              "    }\n",
              "\n",
              "    .dataframe tbody tr th {\n",
              "        vertical-align: top;\n",
              "    }\n",
              "\n",
              "    .dataframe thead th {\n",
              "        text-align: right;\n",
              "    }\n",
              "</style>\n",
              "<table border=\"1\" class=\"dataframe\">\n",
              "  <thead>\n",
              "    <tr style=\"text-align: right;\">\n",
              "      <th></th>\n",
              "      <th>order_id</th>\n",
              "      <th>order_item_id</th>\n",
              "      <th>product_id</th>\n",
              "      <th>seller_id</th>\n",
              "      <th>shipping_limit_date</th>\n",
              "      <th>price</th>\n",
              "      <th>freight_value</th>\n",
              "      <th>seller_zip_code_prefix</th>\n",
              "      <th>seller_city</th>\n",
              "      <th>seller_state</th>\n",
              "    </tr>\n",
              "  </thead>\n",
              "  <tbody>\n",
              "    <tr>\n",
              "      <th>0</th>\n",
              "      <td>00010242fe8c5a6d1ba2dd792cb16214</td>\n",
              "      <td>1</td>\n",
              "      <td>4244733e06e7ecb4970a6e2683c13e61</td>\n",
              "      <td>48436dade18ac8b2bce089ec2a041202</td>\n",
              "      <td>2017-09-19 09:45:35</td>\n",
              "      <td>58.90</td>\n",
              "      <td>13.29</td>\n",
              "      <td>27277</td>\n",
              "      <td>volta redonda</td>\n",
              "      <td>SP</td>\n",
              "    </tr>\n",
              "    <tr>\n",
              "      <th>1</th>\n",
              "      <td>00018f77f2f0320c557190d7a144bdd3</td>\n",
              "      <td>1</td>\n",
              "      <td>e5f2d52b802189ee658865ca93d83a8f</td>\n",
              "      <td>dd7ddc04e1b6c2c614352b383efe2d36</td>\n",
              "      <td>2017-05-03 11:05:13</td>\n",
              "      <td>239.90</td>\n",
              "      <td>19.93</td>\n",
              "      <td>3471</td>\n",
              "      <td>sao paulo</td>\n",
              "      <td>SP</td>\n",
              "    </tr>\n",
              "    <tr>\n",
              "      <th>2</th>\n",
              "      <td>000229ec398224ef6ca0657da4fc703e</td>\n",
              "      <td>1</td>\n",
              "      <td>c777355d18b72b67abbeef9df44fd0fd</td>\n",
              "      <td>5b51032eddd242adc84c38acab88f23d</td>\n",
              "      <td>2018-01-18 14:48:30</td>\n",
              "      <td>199.00</td>\n",
              "      <td>17.87</td>\n",
              "      <td>37564</td>\n",
              "      <td>borda da mata</td>\n",
              "      <td>MG</td>\n",
              "    </tr>\n",
              "    <tr>\n",
              "      <th>3</th>\n",
              "      <td>00024acbcdf0a6daa1e931b038114c75</td>\n",
              "      <td>1</td>\n",
              "      <td>7634da152a4610f1595efa32f14722fc</td>\n",
              "      <td>9d7a1d34a5052409006425275ba1c2b4</td>\n",
              "      <td>2018-08-15 10:10:18</td>\n",
              "      <td>12.99</td>\n",
              "      <td>12.79</td>\n",
              "      <td>14403</td>\n",
              "      <td>franca</td>\n",
              "      <td>SP</td>\n",
              "    </tr>\n",
              "    <tr>\n",
              "      <th>4</th>\n",
              "      <td>00042b26cf59d7ce69dfabb4e55b4fd9</td>\n",
              "      <td>1</td>\n",
              "      <td>ac6c3623068f30de03045865e4e10089</td>\n",
              "      <td>df560393f3a51e74553ab94004ba5c87</td>\n",
              "      <td>2017-02-13 13:57:51</td>\n",
              "      <td>199.90</td>\n",
              "      <td>18.14</td>\n",
              "      <td>87900</td>\n",
              "      <td>loanda</td>\n",
              "      <td>PR</td>\n",
              "    </tr>\n",
              "  </tbody>\n",
              "</table>\n",
              "</div>"
            ],
            "text/plain": [
              "                           order_id  order_item_id  \\\n",
              "0  00010242fe8c5a6d1ba2dd792cb16214              1   \n",
              "1  00018f77f2f0320c557190d7a144bdd3              1   \n",
              "2  000229ec398224ef6ca0657da4fc703e              1   \n",
              "3  00024acbcdf0a6daa1e931b038114c75              1   \n",
              "4  00042b26cf59d7ce69dfabb4e55b4fd9              1   \n",
              "\n",
              "                         product_id                         seller_id  \\\n",
              "0  4244733e06e7ecb4970a6e2683c13e61  48436dade18ac8b2bce089ec2a041202   \n",
              "1  e5f2d52b802189ee658865ca93d83a8f  dd7ddc04e1b6c2c614352b383efe2d36   \n",
              "2  c777355d18b72b67abbeef9df44fd0fd  5b51032eddd242adc84c38acab88f23d   \n",
              "3  7634da152a4610f1595efa32f14722fc  9d7a1d34a5052409006425275ba1c2b4   \n",
              "4  ac6c3623068f30de03045865e4e10089  df560393f3a51e74553ab94004ba5c87   \n",
              "\n",
              "  shipping_limit_date   price  freight_value  seller_zip_code_prefix  \\\n",
              "0 2017-09-19 09:45:35   58.90          13.29                   27277   \n",
              "1 2017-05-03 11:05:13  239.90          19.93                    3471   \n",
              "2 2018-01-18 14:48:30  199.00          17.87                   37564   \n",
              "3 2018-08-15 10:10:18   12.99          12.79                   14403   \n",
              "4 2017-02-13 13:57:51  199.90          18.14                   87900   \n",
              "\n",
              "     seller_city seller_state  \n",
              "0  volta redonda           SP  \n",
              "1      sao paulo           SP  \n",
              "2  borda da mata           MG  \n",
              "3         franca           SP  \n",
              "4         loanda           PR  "
            ]
          },
          "execution_count": 81,
          "metadata": {},
          "output_type": "execute_result"
        }
      ],
      "source": [
        "order_items_seller_df = pd.merge(\n",
        "    left=order_items_df,\n",
        "    right=sellers_df,\n",
        "    how=\"left\",\n",
        "    left_on=\"seller_id\",\n",
        "    right_on=\"seller_id\"\n",
        ")\n",
        "order_items_seller_df.head()"
      ]
    },
    {
      "cell_type": "code",
      "execution_count": 82,
      "metadata": {
        "colab": {
          "base_uri": "https://localhost:8080/"
        },
        "id": "qL9Y32oDRWDG",
        "outputId": "93290837-9756-40ce-f7b6-0a33936f1ff7"
      },
      "outputs": [
        {
          "data": {
            "text/plain": [
              "seller_city\n",
              "sao paulo         694\n",
              "curitiba          127\n",
              "rio de janeiro     96\n",
              "belo horizonte     68\n",
              "ribeirao preto     52\n",
              "guarulhos          50\n",
              "ibitinga           49\n",
              "santo andre        45\n",
              "campinas           41\n",
              "maringa            40\n",
              "Name: seller_id, dtype: int64"
            ]
          },
          "execution_count": 82,
          "metadata": {},
          "output_type": "execute_result"
        }
      ],
      "source": [
        "order_items_seller_df.groupby(by=\"seller_city\").seller_id.nunique().sort_values(ascending=False).head(10)"
      ]
    },
    {
      "cell_type": "code",
      "execution_count": 83,
      "metadata": {
        "colab": {
          "base_uri": "https://localhost:8080/"
        },
        "id": "GycTyk2hRWDH",
        "outputId": "d1b7ae4c-0808-4af1-ee94-2e04ccde0b64"
      },
      "outputs": [
        {
          "data": {
            "text/plain": [
              "seller_state\n",
              "SP    1849\n",
              "PR     349\n",
              "MG     244\n",
              "SC     190\n",
              "RJ     171\n",
              "RS     129\n",
              "GO      40\n",
              "DF      30\n",
              "ES      23\n",
              "BA      19\n",
              "Name: seller_id, dtype: int64"
            ]
          },
          "execution_count": 83,
          "metadata": {},
          "output_type": "execute_result"
        }
      ],
      "source": [
        "order_items_seller_df.groupby(by=\"seller_state\").seller_id.nunique().sort_values(ascending=False).head(10)"
      ]
    },
    {
      "cell_type": "markdown",
      "metadata": {
        "id": "iU4HYO39RWDH"
      },
      "source": [
        "### 8. Membuat data product baru"
      ]
    },
    {
      "cell_type": "code",
      "execution_count": 84,
      "metadata": {
        "colab": {
          "base_uri": "https://localhost:8080/",
          "height": 226
        },
        "id": "cfsexpPnRWDI",
        "outputId": "8cd9a8ed-1da4-494f-f777-f6b4073f719a"
      },
      "outputs": [
        {
          "data": {
            "text/html": [
              "<div>\n",
              "<style scoped>\n",
              "    .dataframe tbody tr th:only-of-type {\n",
              "        vertical-align: middle;\n",
              "    }\n",
              "\n",
              "    .dataframe tbody tr th {\n",
              "        vertical-align: top;\n",
              "    }\n",
              "\n",
              "    .dataframe thead th {\n",
              "        text-align: right;\n",
              "    }\n",
              "</style>\n",
              "<table border=\"1\" class=\"dataframe\">\n",
              "  <thead>\n",
              "    <tr style=\"text-align: right;\">\n",
              "      <th></th>\n",
              "      <th>product_id</th>\n",
              "      <th>product_category_name</th>\n",
              "      <th>product_name_lenght</th>\n",
              "      <th>product_description_lenght</th>\n",
              "      <th>product_photos_qty</th>\n",
              "      <th>product_weight_g</th>\n",
              "      <th>product_length_cm</th>\n",
              "      <th>product_height_cm</th>\n",
              "      <th>product_width_cm</th>\n",
              "      <th>product_category_name_english</th>\n",
              "    </tr>\n",
              "  </thead>\n",
              "  <tbody>\n",
              "    <tr>\n",
              "      <th>0</th>\n",
              "      <td>1e9e8ef04dbcff4541ed26657ea517e5</td>\n",
              "      <td>perfumaria</td>\n",
              "      <td>40.0</td>\n",
              "      <td>287.0</td>\n",
              "      <td>1.0</td>\n",
              "      <td>225.0</td>\n",
              "      <td>16.0</td>\n",
              "      <td>10.0</td>\n",
              "      <td>14.0</td>\n",
              "      <td>perfumery</td>\n",
              "    </tr>\n",
              "    <tr>\n",
              "      <th>1</th>\n",
              "      <td>3aa071139cb16b67ca9e5dea641aaa2f</td>\n",
              "      <td>artes</td>\n",
              "      <td>44.0</td>\n",
              "      <td>276.0</td>\n",
              "      <td>1.0</td>\n",
              "      <td>1000.0</td>\n",
              "      <td>30.0</td>\n",
              "      <td>18.0</td>\n",
              "      <td>20.0</td>\n",
              "      <td>art</td>\n",
              "    </tr>\n",
              "    <tr>\n",
              "      <th>2</th>\n",
              "      <td>96bd76ec8810374ed1b65e291975717f</td>\n",
              "      <td>esporte_lazer</td>\n",
              "      <td>46.0</td>\n",
              "      <td>250.0</td>\n",
              "      <td>1.0</td>\n",
              "      <td>154.0</td>\n",
              "      <td>18.0</td>\n",
              "      <td>9.0</td>\n",
              "      <td>15.0</td>\n",
              "      <td>sports_leisure</td>\n",
              "    </tr>\n",
              "    <tr>\n",
              "      <th>3</th>\n",
              "      <td>cef67bcfe19066a932b7673e239eb23d</td>\n",
              "      <td>bebes</td>\n",
              "      <td>27.0</td>\n",
              "      <td>261.0</td>\n",
              "      <td>1.0</td>\n",
              "      <td>371.0</td>\n",
              "      <td>26.0</td>\n",
              "      <td>4.0</td>\n",
              "      <td>26.0</td>\n",
              "      <td>baby</td>\n",
              "    </tr>\n",
              "    <tr>\n",
              "      <th>4</th>\n",
              "      <td>9dc1a7de274444849c219cff195d0b71</td>\n",
              "      <td>utilidades_domesticas</td>\n",
              "      <td>37.0</td>\n",
              "      <td>402.0</td>\n",
              "      <td>4.0</td>\n",
              "      <td>625.0</td>\n",
              "      <td>20.0</td>\n",
              "      <td>17.0</td>\n",
              "      <td>13.0</td>\n",
              "      <td>housewares</td>\n",
              "    </tr>\n",
              "  </tbody>\n",
              "</table>\n",
              "</div>"
            ],
            "text/plain": [
              "                         product_id  product_category_name  \\\n",
              "0  1e9e8ef04dbcff4541ed26657ea517e5             perfumaria   \n",
              "1  3aa071139cb16b67ca9e5dea641aaa2f                  artes   \n",
              "2  96bd76ec8810374ed1b65e291975717f          esporte_lazer   \n",
              "3  cef67bcfe19066a932b7673e239eb23d                  bebes   \n",
              "4  9dc1a7de274444849c219cff195d0b71  utilidades_domesticas   \n",
              "\n",
              "   product_name_lenght  product_description_lenght  product_photos_qty  \\\n",
              "0                 40.0                       287.0                 1.0   \n",
              "1                 44.0                       276.0                 1.0   \n",
              "2                 46.0                       250.0                 1.0   \n",
              "3                 27.0                       261.0                 1.0   \n",
              "4                 37.0                       402.0                 4.0   \n",
              "\n",
              "   product_weight_g  product_length_cm  product_height_cm  product_width_cm  \\\n",
              "0             225.0               16.0               10.0              14.0   \n",
              "1            1000.0               30.0               18.0              20.0   \n",
              "2             154.0               18.0                9.0              15.0   \n",
              "3             371.0               26.0                4.0              26.0   \n",
              "4             625.0               20.0               17.0              13.0   \n",
              "\n",
              "  product_category_name_english  \n",
              "0                     perfumery  \n",
              "1                           art  \n",
              "2                sports_leisure  \n",
              "3                          baby  \n",
              "4                    housewares  "
            ]
          },
          "execution_count": 84,
          "metadata": {},
          "output_type": "execute_result"
        }
      ],
      "source": [
        "new_product_df = pd.merge(\n",
        "    left=products_df,\n",
        "    right=product_category_df,\n",
        "    how=\"left\",\n",
        "    left_on=\"product_category_name\",\n",
        "    right_on=\"product_category_name\"\n",
        ")\n",
        "new_product_df.head()"
      ]
    },
    {
      "cell_type": "code",
      "execution_count": 85,
      "metadata": {
        "colab": {
          "base_uri": "https://localhost:8080/"
        },
        "id": "3-aum1dqRWDK",
        "outputId": "275f20bf-5b68-4401-ce9b-f858d0b08c55"
      },
      "outputs": [
        {
          "data": {
            "text/plain": [
              "product_category_name\n",
              "cama_mesa_banho           3029\n",
              "esporte_lazer             2867\n",
              "moveis_decoracao          2657\n",
              "beleza_saude              2444\n",
              "utilidades_domesticas     2335\n",
              "automotivo                1900\n",
              "informatica_acessorios    1639\n",
              "brinquedos                1411\n",
              "relogios_presentes        1329\n",
              "telefonia                 1134\n",
              "Name: product_id, dtype: int64"
            ]
          },
          "execution_count": 85,
          "metadata": {},
          "output_type": "execute_result"
        }
      ],
      "source": [
        "new_product_df.groupby(by=\"product_category_name\").product_id.nunique().sort_values(ascending=False).head(10)"
      ]
    },
    {
      "cell_type": "code",
      "execution_count": 86,
      "metadata": {
        "colab": {
          "base_uri": "https://localhost:8080/"
        },
        "id": "hcX8vmGJRWDL",
        "outputId": "51288e77-f164-4f14-a39c-c74cdfb249bb"
      },
      "outputs": [
        {
          "data": {
            "text/plain": [
              "product_category_name_english\n",
              "bed_bath_table           3029\n",
              "sports_leisure           2867\n",
              "furniture_decor          2657\n",
              "health_beauty            2444\n",
              "housewares               2335\n",
              "auto                     1900\n",
              "computers_accessories    1639\n",
              "toys                     1411\n",
              "watches_gifts            1329\n",
              "telephony                1134\n",
              "Name: product_id, dtype: int64"
            ]
          },
          "execution_count": 86,
          "metadata": {},
          "output_type": "execute_result"
        }
      ],
      "source": [
        "new_product_df.groupby(by=\"product_category_name_english\").product_id.nunique().sort_values(ascending=False).head(10)"
      ]
    },
    {
      "cell_type": "markdown",
      "metadata": {
        "id": "u9vak0OcRWDM"
      },
      "source": [
        "### 9. Menggabungkan data order_items_seller_df dan new_product_df"
      ]
    },
    {
      "cell_type": "code",
      "execution_count": 87,
      "metadata": {
        "colab": {
          "base_uri": "https://localhost:8080/",
          "height": 226
        },
        "id": "myeeeuwpRWDN",
        "outputId": "9cf65149-ea75-43f5-ae2c-1eff150fafb2"
      },
      "outputs": [
        {
          "data": {
            "text/html": [
              "<div>\n",
              "<style scoped>\n",
              "    .dataframe tbody tr th:only-of-type {\n",
              "        vertical-align: middle;\n",
              "    }\n",
              "\n",
              "    .dataframe tbody tr th {\n",
              "        vertical-align: top;\n",
              "    }\n",
              "\n",
              "    .dataframe thead th {\n",
              "        text-align: right;\n",
              "    }\n",
              "</style>\n",
              "<table border=\"1\" class=\"dataframe\">\n",
              "  <thead>\n",
              "    <tr style=\"text-align: right;\">\n",
              "      <th></th>\n",
              "      <th>product_id</th>\n",
              "      <th>product_category_name</th>\n",
              "      <th>product_name_lenght</th>\n",
              "      <th>product_description_lenght</th>\n",
              "      <th>product_photos_qty</th>\n",
              "      <th>product_weight_g</th>\n",
              "      <th>product_length_cm</th>\n",
              "      <th>product_height_cm</th>\n",
              "      <th>product_width_cm</th>\n",
              "      <th>product_category_name_english</th>\n",
              "      <th>order_id</th>\n",
              "      <th>order_item_id</th>\n",
              "      <th>seller_id</th>\n",
              "      <th>shipping_limit_date</th>\n",
              "      <th>price</th>\n",
              "      <th>freight_value</th>\n",
              "      <th>seller_zip_code_prefix</th>\n",
              "      <th>seller_city</th>\n",
              "      <th>seller_state</th>\n",
              "    </tr>\n",
              "  </thead>\n",
              "  <tbody>\n",
              "    <tr>\n",
              "      <th>0</th>\n",
              "      <td>1e9e8ef04dbcff4541ed26657ea517e5</td>\n",
              "      <td>perfumaria</td>\n",
              "      <td>40.0</td>\n",
              "      <td>287.0</td>\n",
              "      <td>1.0</td>\n",
              "      <td>225.0</td>\n",
              "      <td>16.0</td>\n",
              "      <td>10.0</td>\n",
              "      <td>14.0</td>\n",
              "      <td>perfumery</td>\n",
              "      <td>e17e4f88e31525f7deef66779844ddce</td>\n",
              "      <td>1</td>\n",
              "      <td>5670f4db5b62c43d542e1b2d56b0cf7c</td>\n",
              "      <td>2018-04-30 17:33:54</td>\n",
              "      <td>10.91</td>\n",
              "      <td>7.39</td>\n",
              "      <td>3694</td>\n",
              "      <td>sao paulo</td>\n",
              "      <td>SP</td>\n",
              "    </tr>\n",
              "    <tr>\n",
              "      <th>1</th>\n",
              "      <td>3aa071139cb16b67ca9e5dea641aaa2f</td>\n",
              "      <td>artes</td>\n",
              "      <td>44.0</td>\n",
              "      <td>276.0</td>\n",
              "      <td>1.0</td>\n",
              "      <td>1000.0</td>\n",
              "      <td>30.0</td>\n",
              "      <td>18.0</td>\n",
              "      <td>20.0</td>\n",
              "      <td>art</td>\n",
              "      <td>5236307716393b7114b53ee991f36956</td>\n",
              "      <td>1</td>\n",
              "      <td>b561927807645834b59ef0d16ba55a24</td>\n",
              "      <td>2018-02-06 19:11:15</td>\n",
              "      <td>248.00</td>\n",
              "      <td>17.99</td>\n",
              "      <td>2955</td>\n",
              "      <td>sao paulo</td>\n",
              "      <td>SP</td>\n",
              "    </tr>\n",
              "    <tr>\n",
              "      <th>2</th>\n",
              "      <td>96bd76ec8810374ed1b65e291975717f</td>\n",
              "      <td>esporte_lazer</td>\n",
              "      <td>46.0</td>\n",
              "      <td>250.0</td>\n",
              "      <td>1.0</td>\n",
              "      <td>154.0</td>\n",
              "      <td>18.0</td>\n",
              "      <td>9.0</td>\n",
              "      <td>15.0</td>\n",
              "      <td>sports_leisure</td>\n",
              "      <td>01f66e58769f84129811d43eefd187fb</td>\n",
              "      <td>1</td>\n",
              "      <td>7b07b3c7487f0ea825fc6df75abd658b</td>\n",
              "      <td>2018-07-11 21:30:20</td>\n",
              "      <td>79.80</td>\n",
              "      <td>7.82</td>\n",
              "      <td>2016</td>\n",
              "      <td>sao paulo</td>\n",
              "      <td>SP</td>\n",
              "    </tr>\n",
              "    <tr>\n",
              "      <th>3</th>\n",
              "      <td>cef67bcfe19066a932b7673e239eb23d</td>\n",
              "      <td>bebes</td>\n",
              "      <td>27.0</td>\n",
              "      <td>261.0</td>\n",
              "      <td>1.0</td>\n",
              "      <td>371.0</td>\n",
              "      <td>26.0</td>\n",
              "      <td>4.0</td>\n",
              "      <td>26.0</td>\n",
              "      <td>baby</td>\n",
              "      <td>143d00a4f2dde4e0364ee1821577adb3</td>\n",
              "      <td>1</td>\n",
              "      <td>c510bc1718f0f2961eaa42a23330681a</td>\n",
              "      <td>2018-08-07 09:10:13</td>\n",
              "      <td>112.30</td>\n",
              "      <td>9.54</td>\n",
              "      <td>13330</td>\n",
              "      <td>indaiatuba</td>\n",
              "      <td>SP</td>\n",
              "    </tr>\n",
              "    <tr>\n",
              "      <th>4</th>\n",
              "      <td>9dc1a7de274444849c219cff195d0b71</td>\n",
              "      <td>utilidades_domesticas</td>\n",
              "      <td>37.0</td>\n",
              "      <td>402.0</td>\n",
              "      <td>4.0</td>\n",
              "      <td>625.0</td>\n",
              "      <td>20.0</td>\n",
              "      <td>17.0</td>\n",
              "      <td>13.0</td>\n",
              "      <td>housewares</td>\n",
              "      <td>86cafb8794cb99a9b1b77fc8e48fbbbb</td>\n",
              "      <td>1</td>\n",
              "      <td>0be8ff43f22e456b4e0371b2245e4d01</td>\n",
              "      <td>2018-04-17 01:30:23</td>\n",
              "      <td>37.90</td>\n",
              "      <td>8.29</td>\n",
              "      <td>4461</td>\n",
              "      <td>sao paulo</td>\n",
              "      <td>SP</td>\n",
              "    </tr>\n",
              "  </tbody>\n",
              "</table>\n",
              "</div>"
            ],
            "text/plain": [
              "                         product_id  product_category_name  \\\n",
              "0  1e9e8ef04dbcff4541ed26657ea517e5             perfumaria   \n",
              "1  3aa071139cb16b67ca9e5dea641aaa2f                  artes   \n",
              "2  96bd76ec8810374ed1b65e291975717f          esporte_lazer   \n",
              "3  cef67bcfe19066a932b7673e239eb23d                  bebes   \n",
              "4  9dc1a7de274444849c219cff195d0b71  utilidades_domesticas   \n",
              "\n",
              "   product_name_lenght  product_description_lenght  product_photos_qty  \\\n",
              "0                 40.0                       287.0                 1.0   \n",
              "1                 44.0                       276.0                 1.0   \n",
              "2                 46.0                       250.0                 1.0   \n",
              "3                 27.0                       261.0                 1.0   \n",
              "4                 37.0                       402.0                 4.0   \n",
              "\n",
              "   product_weight_g  product_length_cm  product_height_cm  product_width_cm  \\\n",
              "0             225.0               16.0               10.0              14.0   \n",
              "1            1000.0               30.0               18.0              20.0   \n",
              "2             154.0               18.0                9.0              15.0   \n",
              "3             371.0               26.0                4.0              26.0   \n",
              "4             625.0               20.0               17.0              13.0   \n",
              "\n",
              "  product_category_name_english                          order_id  \\\n",
              "0                     perfumery  e17e4f88e31525f7deef66779844ddce   \n",
              "1                           art  5236307716393b7114b53ee991f36956   \n",
              "2                sports_leisure  01f66e58769f84129811d43eefd187fb   \n",
              "3                          baby  143d00a4f2dde4e0364ee1821577adb3   \n",
              "4                    housewares  86cafb8794cb99a9b1b77fc8e48fbbbb   \n",
              "\n",
              "   order_item_id                         seller_id shipping_limit_date  \\\n",
              "0              1  5670f4db5b62c43d542e1b2d56b0cf7c 2018-04-30 17:33:54   \n",
              "1              1  b561927807645834b59ef0d16ba55a24 2018-02-06 19:11:15   \n",
              "2              1  7b07b3c7487f0ea825fc6df75abd658b 2018-07-11 21:30:20   \n",
              "3              1  c510bc1718f0f2961eaa42a23330681a 2018-08-07 09:10:13   \n",
              "4              1  0be8ff43f22e456b4e0371b2245e4d01 2018-04-17 01:30:23   \n",
              "\n",
              "    price  freight_value  seller_zip_code_prefix seller_city seller_state  \n",
              "0   10.91           7.39                    3694   sao paulo           SP  \n",
              "1  248.00          17.99                    2955   sao paulo           SP  \n",
              "2   79.80           7.82                    2016   sao paulo           SP  \n",
              "3  112.30           9.54                   13330  indaiatuba           SP  \n",
              "4   37.90           8.29                    4461   sao paulo           SP  "
            ]
          },
          "execution_count": 87,
          "metadata": {},
          "output_type": "execute_result"
        }
      ],
      "source": [
        "new_sellers_df = pd.merge(\n",
        "    left=new_product_df,\n",
        "    right=order_items_seller_df,\n",
        "    how=\"left\",\n",
        "    left_on=\"product_id\",\n",
        "    right_on=\"product_id\"\n",
        ")\n",
        "new_sellers_df.head()"
      ]
    },
    {
      "cell_type": "code",
      "execution_count": 88,
      "metadata": {
        "colab": {
          "base_uri": "https://localhost:8080/",
          "height": 443
        },
        "id": "aikqPMLKRWDO",
        "outputId": "b4f9c05a-d509-4bd3-ee2f-b882a84091c2"
      },
      "outputs": [
        {
          "data": {
            "text/html": [
              "<div>\n",
              "<style scoped>\n",
              "    .dataframe tbody tr th:only-of-type {\n",
              "        vertical-align: middle;\n",
              "    }\n",
              "\n",
              "    .dataframe tbody tr th {\n",
              "        vertical-align: top;\n",
              "    }\n",
              "\n",
              "    .dataframe thead th {\n",
              "        text-align: right;\n",
              "    }\n",
              "</style>\n",
              "<table border=\"1\" class=\"dataframe\">\n",
              "  <thead>\n",
              "    <tr style=\"text-align: right;\">\n",
              "      <th></th>\n",
              "      <th>product_id</th>\n",
              "      <th>product_category_name</th>\n",
              "      <th>product_name_lenght</th>\n",
              "      <th>product_description_lenght</th>\n",
              "      <th>product_photos_qty</th>\n",
              "      <th>product_weight_g</th>\n",
              "      <th>product_length_cm</th>\n",
              "      <th>product_height_cm</th>\n",
              "      <th>product_width_cm</th>\n",
              "      <th>product_category_name_english</th>\n",
              "      <th>order_id</th>\n",
              "      <th>order_item_id</th>\n",
              "      <th>seller_id</th>\n",
              "      <th>shipping_limit_date</th>\n",
              "      <th>price</th>\n",
              "      <th>freight_value</th>\n",
              "      <th>seller_zip_code_prefix</th>\n",
              "      <th>seller_city</th>\n",
              "      <th>seller_state</th>\n",
              "    </tr>\n",
              "  </thead>\n",
              "  <tbody>\n",
              "    <tr>\n",
              "      <th>20528</th>\n",
              "      <td>489ae2aa008f021502940f251d4cce7f</td>\n",
              "      <td>utilidades_domesticas</td>\n",
              "      <td>31.0</td>\n",
              "      <td>875.0</td>\n",
              "      <td>2.0</td>\n",
              "      <td>30000.0</td>\n",
              "      <td>60.0</td>\n",
              "      <td>61.0</td>\n",
              "      <td>33.0</td>\n",
              "      <td>housewares</td>\n",
              "      <td>0812eb902a67711a1cb742b3cdaa65ae</td>\n",
              "      <td>1</td>\n",
              "      <td>e3b4998c7a498169dc7bce44e6bb6277</td>\n",
              "      <td>2017-02-16 20:37:36</td>\n",
              "      <td>6735.00</td>\n",
              "      <td>194.31</td>\n",
              "      <td>3635</td>\n",
              "      <td>sao paulo</td>\n",
              "      <td>SP</td>\n",
              "    </tr>\n",
              "    <tr>\n",
              "      <th>73922</th>\n",
              "      <td>69c590f7ffc7bf8db97190b6cb6ed62e</td>\n",
              "      <td>pcs</td>\n",
              "      <td>50.0</td>\n",
              "      <td>1935.0</td>\n",
              "      <td>4.0</td>\n",
              "      <td>5660.0</td>\n",
              "      <td>54.0</td>\n",
              "      <td>18.0</td>\n",
              "      <td>47.0</td>\n",
              "      <td>computers</td>\n",
              "      <td>fefacc66af859508bf1a7934eab1e97f</td>\n",
              "      <td>1</td>\n",
              "      <td>80ceebb4ee9b31afb6c6a916a574a1e2</td>\n",
              "      <td>2018-08-02 04:05:13</td>\n",
              "      <td>6729.00</td>\n",
              "      <td>193.21</td>\n",
              "      <td>86026</td>\n",
              "      <td>londrina</td>\n",
              "      <td>PR</td>\n",
              "    </tr>\n",
              "    <tr>\n",
              "      <th>49503</th>\n",
              "      <td>1bdf5e6731585cf01aa8169c7028d6ad</td>\n",
              "      <td>artes</td>\n",
              "      <td>28.0</td>\n",
              "      <td>3954.0</td>\n",
              "      <td>2.0</td>\n",
              "      <td>7400.0</td>\n",
              "      <td>47.0</td>\n",
              "      <td>25.0</td>\n",
              "      <td>25.0</td>\n",
              "      <td>art</td>\n",
              "      <td>f5136e38d1a14a4dbd87dff67da82701</td>\n",
              "      <td>1</td>\n",
              "      <td>ee27a8f15b1dded4d213a468ba4eb391</td>\n",
              "      <td>2017-06-15 02:45:17</td>\n",
              "      <td>6499.00</td>\n",
              "      <td>227.66</td>\n",
              "      <td>74210</td>\n",
              "      <td>goiania</td>\n",
              "      <td>GO</td>\n",
              "    </tr>\n",
              "    <tr>\n",
              "      <th>71835</th>\n",
              "      <td>a6492cc69376c469ab6f61d8f44de961</td>\n",
              "      <td>eletroportateis</td>\n",
              "      <td>41.0</td>\n",
              "      <td>1780.0</td>\n",
              "      <td>2.0</td>\n",
              "      <td>22600.0</td>\n",
              "      <td>55.0</td>\n",
              "      <td>40.0</td>\n",
              "      <td>40.0</td>\n",
              "      <td>small_appliances</td>\n",
              "      <td>a96610ab360d42a2e5335a3998b4718a</td>\n",
              "      <td>1</td>\n",
              "      <td>59417c56835dd8e2e72f91f809cd4092</td>\n",
              "      <td>2017-04-18 13:25:18</td>\n",
              "      <td>4799.00</td>\n",
              "      <td>151.34</td>\n",
              "      <td>13480</td>\n",
              "      <td>limeira</td>\n",
              "      <td>SP</td>\n",
              "    </tr>\n",
              "    <tr>\n",
              "      <th>32232</th>\n",
              "      <td>c3ed642d592594bb648ff4a04cee2747</td>\n",
              "      <td>eletroportateis</td>\n",
              "      <td>59.0</td>\n",
              "      <td>2217.0</td>\n",
              "      <td>2.0</td>\n",
              "      <td>30000.0</td>\n",
              "      <td>50.0</td>\n",
              "      <td>49.0</td>\n",
              "      <td>50.0</td>\n",
              "      <td>small_appliances</td>\n",
              "      <td>199af31afc78c699f0dbf71fb178d4d4</td>\n",
              "      <td>1</td>\n",
              "      <td>59417c56835dd8e2e72f91f809cd4092</td>\n",
              "      <td>2017-05-09 15:50:15</td>\n",
              "      <td>4690.00</td>\n",
              "      <td>74.34</td>\n",
              "      <td>13480</td>\n",
              "      <td>limeira</td>\n",
              "      <td>SP</td>\n",
              "    </tr>\n",
              "    <tr>\n",
              "      <th>...</th>\n",
              "      <td>...</td>\n",
              "      <td>...</td>\n",
              "      <td>...</td>\n",
              "      <td>...</td>\n",
              "      <td>...</td>\n",
              "      <td>...</td>\n",
              "      <td>...</td>\n",
              "      <td>...</td>\n",
              "      <td>...</td>\n",
              "      <td>...</td>\n",
              "      <td>...</td>\n",
              "      <td>...</td>\n",
              "      <td>...</td>\n",
              "      <td>...</td>\n",
              "      <td>...</td>\n",
              "      <td>...</td>\n",
              "      <td>...</td>\n",
              "      <td>...</td>\n",
              "      <td>...</td>\n",
              "    </tr>\n",
              "    <tr>\n",
              "      <th>55911</th>\n",
              "      <td>05b515fdc76e888aada3c6d66c201dff</td>\n",
              "      <td>beleza_saude</td>\n",
              "      <td>45.0</td>\n",
              "      <td>231.0</td>\n",
              "      <td>3.0</td>\n",
              "      <td>800.0</td>\n",
              "      <td>21.0</td>\n",
              "      <td>4.0</td>\n",
              "      <td>15.0</td>\n",
              "      <td>health_beauty</td>\n",
              "      <td>8272b63d03f5f79c56e9e4120aec44ef</td>\n",
              "      <td>11</td>\n",
              "      <td>2709af9587499e95e803a6498a5a56e9</td>\n",
              "      <td>2017-07-21 18:25:23</td>\n",
              "      <td>1.20</td>\n",
              "      <td>7.89</td>\n",
              "      <td>3813</td>\n",
              "      <td>sao paulo</td>\n",
              "      <td>SP</td>\n",
              "    </tr>\n",
              "    <tr>\n",
              "      <th>55903</th>\n",
              "      <td>05b515fdc76e888aada3c6d66c201dff</td>\n",
              "      <td>beleza_saude</td>\n",
              "      <td>45.0</td>\n",
              "      <td>231.0</td>\n",
              "      <td>3.0</td>\n",
              "      <td>800.0</td>\n",
              "      <td>21.0</td>\n",
              "      <td>4.0</td>\n",
              "      <td>15.0</td>\n",
              "      <td>health_beauty</td>\n",
              "      <td>8272b63d03f5f79c56e9e4120aec44ef</td>\n",
              "      <td>3</td>\n",
              "      <td>2709af9587499e95e803a6498a5a56e9</td>\n",
              "      <td>2017-07-21 18:25:23</td>\n",
              "      <td>1.20</td>\n",
              "      <td>7.89</td>\n",
              "      <td>3813</td>\n",
              "      <td>sao paulo</td>\n",
              "      <td>SP</td>\n",
              "    </tr>\n",
              "    <tr>\n",
              "      <th>29610</th>\n",
              "      <td>8a3254bee785a526d548a81a9bc3c9be</td>\n",
              "      <td>construcao_ferramentas_construcao</td>\n",
              "      <td>25.0</td>\n",
              "      <td>1041.0</td>\n",
              "      <td>5.0</td>\n",
              "      <td>200.0</td>\n",
              "      <td>16.0</td>\n",
              "      <td>4.0</td>\n",
              "      <td>11.0</td>\n",
              "      <td>construction_tools_construction</td>\n",
              "      <td>c5bdd8ef3c0ec420232e668302179113</td>\n",
              "      <td>2</td>\n",
              "      <td>96804ea39d96eb908e7c3afdb671bb9e</td>\n",
              "      <td>2018-05-07 02:55:22</td>\n",
              "      <td>0.85</td>\n",
              "      <td>22.30</td>\n",
              "      <td>38950</td>\n",
              "      <td>ibia</td>\n",
              "      <td>MG</td>\n",
              "    </tr>\n",
              "    <tr>\n",
              "      <th>29608</th>\n",
              "      <td>8a3254bee785a526d548a81a9bc3c9be</td>\n",
              "      <td>construcao_ferramentas_construcao</td>\n",
              "      <td>25.0</td>\n",
              "      <td>1041.0</td>\n",
              "      <td>5.0</td>\n",
              "      <td>200.0</td>\n",
              "      <td>16.0</td>\n",
              "      <td>4.0</td>\n",
              "      <td>11.0</td>\n",
              "      <td>construction_tools_construction</td>\n",
              "      <td>3ee6513ae7ea23bdfab5b9ab60bffcb5</td>\n",
              "      <td>1</td>\n",
              "      <td>96804ea39d96eb908e7c3afdb671bb9e</td>\n",
              "      <td>2018-05-04 03:55:26</td>\n",
              "      <td>0.85</td>\n",
              "      <td>18.23</td>\n",
              "      <td>38950</td>\n",
              "      <td>ibia</td>\n",
              "      <td>MG</td>\n",
              "    </tr>\n",
              "    <tr>\n",
              "      <th>29609</th>\n",
              "      <td>8a3254bee785a526d548a81a9bc3c9be</td>\n",
              "      <td>construcao_ferramentas_construcao</td>\n",
              "      <td>25.0</td>\n",
              "      <td>1041.0</td>\n",
              "      <td>5.0</td>\n",
              "      <td>200.0</td>\n",
              "      <td>16.0</td>\n",
              "      <td>4.0</td>\n",
              "      <td>11.0</td>\n",
              "      <td>construction_tools_construction</td>\n",
              "      <td>6e864b3f0ec71031117ad4cf46b7f2a1</td>\n",
              "      <td>1</td>\n",
              "      <td>96804ea39d96eb908e7c3afdb671bb9e</td>\n",
              "      <td>2018-05-02 20:30:34</td>\n",
              "      <td>0.85</td>\n",
              "      <td>18.23</td>\n",
              "      <td>38950</td>\n",
              "      <td>ibia</td>\n",
              "      <td>MG</td>\n",
              "    </tr>\n",
              "  </tbody>\n",
              "</table>\n",
              "<p>112650 rows × 19 columns</p>\n",
              "</div>"
            ],
            "text/plain": [
              "                             product_id              product_category_name  \\\n",
              "20528  489ae2aa008f021502940f251d4cce7f              utilidades_domesticas   \n",
              "73922  69c590f7ffc7bf8db97190b6cb6ed62e                                pcs   \n",
              "49503  1bdf5e6731585cf01aa8169c7028d6ad                              artes   \n",
              "71835  a6492cc69376c469ab6f61d8f44de961                    eletroportateis   \n",
              "32232  c3ed642d592594bb648ff4a04cee2747                    eletroportateis   \n",
              "...                                 ...                                ...   \n",
              "55911  05b515fdc76e888aada3c6d66c201dff                       beleza_saude   \n",
              "55903  05b515fdc76e888aada3c6d66c201dff                       beleza_saude   \n",
              "29610  8a3254bee785a526d548a81a9bc3c9be  construcao_ferramentas_construcao   \n",
              "29608  8a3254bee785a526d548a81a9bc3c9be  construcao_ferramentas_construcao   \n",
              "29609  8a3254bee785a526d548a81a9bc3c9be  construcao_ferramentas_construcao   \n",
              "\n",
              "       product_name_lenght  product_description_lenght  product_photos_qty  \\\n",
              "20528                 31.0                       875.0                 2.0   \n",
              "73922                 50.0                      1935.0                 4.0   \n",
              "49503                 28.0                      3954.0                 2.0   \n",
              "71835                 41.0                      1780.0                 2.0   \n",
              "32232                 59.0                      2217.0                 2.0   \n",
              "...                    ...                         ...                 ...   \n",
              "55911                 45.0                       231.0                 3.0   \n",
              "55903                 45.0                       231.0                 3.0   \n",
              "29610                 25.0                      1041.0                 5.0   \n",
              "29608                 25.0                      1041.0                 5.0   \n",
              "29609                 25.0                      1041.0                 5.0   \n",
              "\n",
              "       product_weight_g  product_length_cm  product_height_cm  \\\n",
              "20528           30000.0               60.0               61.0   \n",
              "73922            5660.0               54.0               18.0   \n",
              "49503            7400.0               47.0               25.0   \n",
              "71835           22600.0               55.0               40.0   \n",
              "32232           30000.0               50.0               49.0   \n",
              "...                 ...                ...                ...   \n",
              "55911             800.0               21.0                4.0   \n",
              "55903             800.0               21.0                4.0   \n",
              "29610             200.0               16.0                4.0   \n",
              "29608             200.0               16.0                4.0   \n",
              "29609             200.0               16.0                4.0   \n",
              "\n",
              "       product_width_cm    product_category_name_english  \\\n",
              "20528              33.0                       housewares   \n",
              "73922              47.0                        computers   \n",
              "49503              25.0                              art   \n",
              "71835              40.0                 small_appliances   \n",
              "32232              50.0                 small_appliances   \n",
              "...                 ...                              ...   \n",
              "55911              15.0                    health_beauty   \n",
              "55903              15.0                    health_beauty   \n",
              "29610              11.0  construction_tools_construction   \n",
              "29608              11.0  construction_tools_construction   \n",
              "29609              11.0  construction_tools_construction   \n",
              "\n",
              "                               order_id  order_item_id  \\\n",
              "20528  0812eb902a67711a1cb742b3cdaa65ae              1   \n",
              "73922  fefacc66af859508bf1a7934eab1e97f              1   \n",
              "49503  f5136e38d1a14a4dbd87dff67da82701              1   \n",
              "71835  a96610ab360d42a2e5335a3998b4718a              1   \n",
              "32232  199af31afc78c699f0dbf71fb178d4d4              1   \n",
              "...                                 ...            ...   \n",
              "55911  8272b63d03f5f79c56e9e4120aec44ef             11   \n",
              "55903  8272b63d03f5f79c56e9e4120aec44ef              3   \n",
              "29610  c5bdd8ef3c0ec420232e668302179113              2   \n",
              "29608  3ee6513ae7ea23bdfab5b9ab60bffcb5              1   \n",
              "29609  6e864b3f0ec71031117ad4cf46b7f2a1              1   \n",
              "\n",
              "                              seller_id shipping_limit_date    price  \\\n",
              "20528  e3b4998c7a498169dc7bce44e6bb6277 2017-02-16 20:37:36  6735.00   \n",
              "73922  80ceebb4ee9b31afb6c6a916a574a1e2 2018-08-02 04:05:13  6729.00   \n",
              "49503  ee27a8f15b1dded4d213a468ba4eb391 2017-06-15 02:45:17  6499.00   \n",
              "71835  59417c56835dd8e2e72f91f809cd4092 2017-04-18 13:25:18  4799.00   \n",
              "32232  59417c56835dd8e2e72f91f809cd4092 2017-05-09 15:50:15  4690.00   \n",
              "...                                 ...                 ...      ...   \n",
              "55911  2709af9587499e95e803a6498a5a56e9 2017-07-21 18:25:23     1.20   \n",
              "55903  2709af9587499e95e803a6498a5a56e9 2017-07-21 18:25:23     1.20   \n",
              "29610  96804ea39d96eb908e7c3afdb671bb9e 2018-05-07 02:55:22     0.85   \n",
              "29608  96804ea39d96eb908e7c3afdb671bb9e 2018-05-04 03:55:26     0.85   \n",
              "29609  96804ea39d96eb908e7c3afdb671bb9e 2018-05-02 20:30:34     0.85   \n",
              "\n",
              "       freight_value  seller_zip_code_prefix seller_city seller_state  \n",
              "20528         194.31                    3635   sao paulo           SP  \n",
              "73922         193.21                   86026    londrina           PR  \n",
              "49503         227.66                   74210     goiania           GO  \n",
              "71835         151.34                   13480     limeira           SP  \n",
              "32232          74.34                   13480     limeira           SP  \n",
              "...              ...                     ...         ...          ...  \n",
              "55911           7.89                    3813   sao paulo           SP  \n",
              "55903           7.89                    3813   sao paulo           SP  \n",
              "29610          22.30                   38950        ibia           MG  \n",
              "29608          18.23                   38950        ibia           MG  \n",
              "29609          18.23                   38950        ibia           MG  \n",
              "\n",
              "[112650 rows x 19 columns]"
            ]
          },
          "execution_count": 88,
          "metadata": {},
          "output_type": "execute_result"
        }
      ],
      "source": [
        "new_sellers_df.sort_values(by=\"price\", ascending=False)"
      ]
    },
    {
      "cell_type": "code",
      "execution_count": 89,
      "metadata": {
        "colab": {
          "base_uri": "https://localhost:8080/",
          "height": 486
        },
        "id": "Rout2yuxRWDP",
        "outputId": "dafa5403-8bda-457e-984a-0005abc62db6"
      },
      "outputs": [
        {
          "data": {
            "text/html": [
              "<div>\n",
              "<style scoped>\n",
              "    .dataframe tbody tr th:only-of-type {\n",
              "        vertical-align: middle;\n",
              "    }\n",
              "\n",
              "    .dataframe tbody tr th {\n",
              "        vertical-align: top;\n",
              "    }\n",
              "\n",
              "    .dataframe thead tr th {\n",
              "        text-align: left;\n",
              "    }\n",
              "\n",
              "    .dataframe thead tr:last-of-type th {\n",
              "        text-align: right;\n",
              "    }\n",
              "</style>\n",
              "<table border=\"1\" class=\"dataframe\">\n",
              "  <thead>\n",
              "    <tr>\n",
              "      <th></th>\n",
              "      <th>order_id</th>\n",
              "      <th colspan=\"2\" halign=\"left\">price</th>\n",
              "    </tr>\n",
              "    <tr>\n",
              "      <th></th>\n",
              "      <th>nunique</th>\n",
              "      <th>min</th>\n",
              "      <th>max</th>\n",
              "    </tr>\n",
              "    <tr>\n",
              "      <th>product_category_name_english</th>\n",
              "      <th></th>\n",
              "      <th></th>\n",
              "      <th></th>\n",
              "    </tr>\n",
              "  </thead>\n",
              "  <tbody>\n",
              "    <tr>\n",
              "      <th>agro_industry_and_commerce</th>\n",
              "      <td>182</td>\n",
              "      <td>12.99</td>\n",
              "      <td>2990.00</td>\n",
              "    </tr>\n",
              "    <tr>\n",
              "      <th>air_conditioning</th>\n",
              "      <td>253</td>\n",
              "      <td>10.90</td>\n",
              "      <td>1599.00</td>\n",
              "    </tr>\n",
              "    <tr>\n",
              "      <th>art</th>\n",
              "      <td>202</td>\n",
              "      <td>3.50</td>\n",
              "      <td>6499.00</td>\n",
              "    </tr>\n",
              "    <tr>\n",
              "      <th>arts_and_craftmanship</th>\n",
              "      <td>23</td>\n",
              "      <td>9.80</td>\n",
              "      <td>289.49</td>\n",
              "    </tr>\n",
              "    <tr>\n",
              "      <th>audio</th>\n",
              "      <td>350</td>\n",
              "      <td>14.90</td>\n",
              "      <td>598.99</td>\n",
              "    </tr>\n",
              "    <tr>\n",
              "      <th>...</th>\n",
              "      <td>...</td>\n",
              "      <td>...</td>\n",
              "      <td>...</td>\n",
              "    </tr>\n",
              "    <tr>\n",
              "      <th>stationery</th>\n",
              "      <td>2311</td>\n",
              "      <td>2.29</td>\n",
              "      <td>1693.00</td>\n",
              "    </tr>\n",
              "    <tr>\n",
              "      <th>tablets_printing_image</th>\n",
              "      <td>79</td>\n",
              "      <td>14.90</td>\n",
              "      <td>889.99</td>\n",
              "    </tr>\n",
              "    <tr>\n",
              "      <th>telephony</th>\n",
              "      <td>4199</td>\n",
              "      <td>5.00</td>\n",
              "      <td>2428.00</td>\n",
              "    </tr>\n",
              "    <tr>\n",
              "      <th>toys</th>\n",
              "      <td>3886</td>\n",
              "      <td>4.90</td>\n",
              "      <td>1699.99</td>\n",
              "    </tr>\n",
              "    <tr>\n",
              "      <th>watches_gifts</th>\n",
              "      <td>5624</td>\n",
              "      <td>8.99</td>\n",
              "      <td>3999.90</td>\n",
              "    </tr>\n",
              "  </tbody>\n",
              "</table>\n",
              "<p>71 rows × 3 columns</p>\n",
              "</div>"
            ],
            "text/plain": [
              "                              order_id  price         \n",
              "                               nunique    min      max\n",
              "product_category_name_english                         \n",
              "agro_industry_and_commerce         182  12.99  2990.00\n",
              "air_conditioning                   253  10.90  1599.00\n",
              "art                                202   3.50  6499.00\n",
              "arts_and_craftmanship               23   9.80   289.49\n",
              "audio                              350  14.90   598.99\n",
              "...                                ...    ...      ...\n",
              "stationery                        2311   2.29  1693.00\n",
              "tablets_printing_image              79  14.90   889.99\n",
              "telephony                         4199   5.00  2428.00\n",
              "toys                              3886   4.90  1699.99\n",
              "watches_gifts                     5624   8.99  3999.90\n",
              "\n",
              "[71 rows x 3 columns]"
            ]
          },
          "execution_count": 89,
          "metadata": {},
          "output_type": "execute_result"
        }
      ],
      "source": [
        "\n",
        "new_sellers_df.groupby(by=\"product_category_name_english\").agg({\n",
        "    \"order_id\": \"nunique\",\n",
        "    \"price\":  [\"min\", \"max\"]\n",
        "})"
      ]
    },
    {
      "cell_type": "markdown",
      "metadata": {
        "id": "FklbxuudRWDR"
      },
      "source": [
        "### 10. Menggabungkan semua data"
      ]
    },
    {
      "cell_type": "code",
      "execution_count": 90,
      "metadata": {
        "colab": {
          "base_uri": "https://localhost:8080/",
          "height": 290
        },
        "id": "-kVeO-lTRWDS",
        "outputId": "6c97cb22-7b2b-4f65-a5eb-b17bd1eb916a"
      },
      "outputs": [
        {
          "data": {
            "text/html": [
              "<div>\n",
              "<style scoped>\n",
              "    .dataframe tbody tr th:only-of-type {\n",
              "        vertical-align: middle;\n",
              "    }\n",
              "\n",
              "    .dataframe tbody tr th {\n",
              "        vertical-align: top;\n",
              "    }\n",
              "\n",
              "    .dataframe thead th {\n",
              "        text-align: right;\n",
              "    }\n",
              "</style>\n",
              "<table border=\"1\" class=\"dataframe\">\n",
              "  <thead>\n",
              "    <tr style=\"text-align: right;\">\n",
              "      <th></th>\n",
              "      <th>customer_id</th>\n",
              "      <th>customer_unique_id</th>\n",
              "      <th>customer_zip_code_prefix</th>\n",
              "      <th>customer_city</th>\n",
              "      <th>customer_state</th>\n",
              "      <th>status</th>\n",
              "      <th>order_id</th>\n",
              "      <th>order_status</th>\n",
              "      <th>order_purchase_timestamp</th>\n",
              "      <th>order_approved_at</th>\n",
              "      <th>...</th>\n",
              "      <th>product_width_cm</th>\n",
              "      <th>product_category_name_english</th>\n",
              "      <th>order_item_id</th>\n",
              "      <th>seller_id</th>\n",
              "      <th>shipping_limit_date</th>\n",
              "      <th>price</th>\n",
              "      <th>freight_value</th>\n",
              "      <th>seller_zip_code_prefix</th>\n",
              "      <th>seller_city</th>\n",
              "      <th>seller_state</th>\n",
              "    </tr>\n",
              "  </thead>\n",
              "  <tbody>\n",
              "    <tr>\n",
              "      <th>0</th>\n",
              "      <td>06b8999e2fba1a1fbc88172c00ba8bc7</td>\n",
              "      <td>861eff4711a542e4b93843c6dd7febb0</td>\n",
              "      <td>14409</td>\n",
              "      <td>franca</td>\n",
              "      <td>SP</td>\n",
              "      <td>Active</td>\n",
              "      <td>00e7ee1b050b8499577073aeb2a297a1</td>\n",
              "      <td>delivered</td>\n",
              "      <td>2017-05-16 15:05:35</td>\n",
              "      <td>2017-05-16 15:22:12</td>\n",
              "      <td>...</td>\n",
              "      <td>31.0</td>\n",
              "      <td>office_furniture</td>\n",
              "      <td>1.0</td>\n",
              "      <td>7c67e1448b00f6e969d365cea6b010ab</td>\n",
              "      <td>2017-05-22 15:22:12</td>\n",
              "      <td>124.99</td>\n",
              "      <td>21.88</td>\n",
              "      <td>8577.0</td>\n",
              "      <td>itaquaquecetuba</td>\n",
              "      <td>SP</td>\n",
              "    </tr>\n",
              "    <tr>\n",
              "      <th>1</th>\n",
              "      <td>18955e83d337fd6b2def6b18a428ac77</td>\n",
              "      <td>290c77bc529b7ac935b93aa66c333dc3</td>\n",
              "      <td>9790</td>\n",
              "      <td>sao bernardo do campo</td>\n",
              "      <td>SP</td>\n",
              "      <td>Active</td>\n",
              "      <td>29150127e6685892b6eab3eec79f59c7</td>\n",
              "      <td>delivered</td>\n",
              "      <td>2018-01-12 20:48:24</td>\n",
              "      <td>2018-01-12 20:58:32</td>\n",
              "      <td>...</td>\n",
              "      <td>40.0</td>\n",
              "      <td>housewares</td>\n",
              "      <td>1.0</td>\n",
              "      <td>b8bc237ba3788b23da09c0f1f3a3288c</td>\n",
              "      <td>2018-01-18 20:58:32</td>\n",
              "      <td>289.00</td>\n",
              "      <td>46.48</td>\n",
              "      <td>88303.0</td>\n",
              "      <td>itajai</td>\n",
              "      <td>SC</td>\n",
              "    </tr>\n",
              "    <tr>\n",
              "      <th>2</th>\n",
              "      <td>4e7b3e00288586ebd08712fdd0374a03</td>\n",
              "      <td>060e732b5b29e8181a18229c7b0b2b5e</td>\n",
              "      <td>1151</td>\n",
              "      <td>sao paulo</td>\n",
              "      <td>SP</td>\n",
              "      <td>Active</td>\n",
              "      <td>b2059ed67ce144a36e2aa97d2c9e9ad2</td>\n",
              "      <td>delivered</td>\n",
              "      <td>2018-05-19 16:07:45</td>\n",
              "      <td>2018-05-20 16:19:10</td>\n",
              "      <td>...</td>\n",
              "      <td>17.0</td>\n",
              "      <td>office_furniture</td>\n",
              "      <td>1.0</td>\n",
              "      <td>7c67e1448b00f6e969d365cea6b010ab</td>\n",
              "      <td>2018-06-05 16:19:10</td>\n",
              "      <td>139.94</td>\n",
              "      <td>17.79</td>\n",
              "      <td>8577.0</td>\n",
              "      <td>itaquaquecetuba</td>\n",
              "      <td>SP</td>\n",
              "    </tr>\n",
              "    <tr>\n",
              "      <th>3</th>\n",
              "      <td>b2b6027bc5c5109e529d4dc6358b12c3</td>\n",
              "      <td>259dac757896d24d7702b9acbbff3f3c</td>\n",
              "      <td>8775</td>\n",
              "      <td>mogi das cruzes</td>\n",
              "      <td>SP</td>\n",
              "      <td>Active</td>\n",
              "      <td>951670f92359f4fe4a63112aa7306eba</td>\n",
              "      <td>delivered</td>\n",
              "      <td>2018-03-13 16:06:38</td>\n",
              "      <td>2018-03-13 17:29:19</td>\n",
              "      <td>...</td>\n",
              "      <td>28.0</td>\n",
              "      <td>office_furniture</td>\n",
              "      <td>1.0</td>\n",
              "      <td>7c67e1448b00f6e969d365cea6b010ab</td>\n",
              "      <td>2018-03-27 16:31:16</td>\n",
              "      <td>149.94</td>\n",
              "      <td>23.36</td>\n",
              "      <td>8577.0</td>\n",
              "      <td>itaquaquecetuba</td>\n",
              "      <td>SP</td>\n",
              "    </tr>\n",
              "    <tr>\n",
              "      <th>4</th>\n",
              "      <td>4f2d8ab171c80ec8364f7c12e35b23ad</td>\n",
              "      <td>345ecd01c38d18a9036ed96c73b8d066</td>\n",
              "      <td>13056</td>\n",
              "      <td>campinas</td>\n",
              "      <td>SP</td>\n",
              "      <td>Active</td>\n",
              "      <td>6b7d50bd145f6fc7f33cebabd7e49d0f</td>\n",
              "      <td>delivered</td>\n",
              "      <td>2018-07-29 09:51:30</td>\n",
              "      <td>2018-07-29 10:10:09</td>\n",
              "      <td>...</td>\n",
              "      <td>35.0</td>\n",
              "      <td>home_confort</td>\n",
              "      <td>1.0</td>\n",
              "      <td>4a3ca9315b744ce9f8e9374361493884</td>\n",
              "      <td>2018-07-31 10:10:09</td>\n",
              "      <td>230.00</td>\n",
              "      <td>22.25</td>\n",
              "      <td>14940.0</td>\n",
              "      <td>ibitinga</td>\n",
              "      <td>SP</td>\n",
              "    </tr>\n",
              "  </tbody>\n",
              "</table>\n",
              "<p>5 rows × 42 columns</p>\n",
              "</div>"
            ],
            "text/plain": [
              "                        customer_id                customer_unique_id  \\\n",
              "0  06b8999e2fba1a1fbc88172c00ba8bc7  861eff4711a542e4b93843c6dd7febb0   \n",
              "1  18955e83d337fd6b2def6b18a428ac77  290c77bc529b7ac935b93aa66c333dc3   \n",
              "2  4e7b3e00288586ebd08712fdd0374a03  060e732b5b29e8181a18229c7b0b2b5e   \n",
              "3  b2b6027bc5c5109e529d4dc6358b12c3  259dac757896d24d7702b9acbbff3f3c   \n",
              "4  4f2d8ab171c80ec8364f7c12e35b23ad  345ecd01c38d18a9036ed96c73b8d066   \n",
              "\n",
              "   customer_zip_code_prefix          customer_city customer_state  status  \\\n",
              "0                     14409                 franca             SP  Active   \n",
              "1                      9790  sao bernardo do campo             SP  Active   \n",
              "2                      1151              sao paulo             SP  Active   \n",
              "3                      8775        mogi das cruzes             SP  Active   \n",
              "4                     13056               campinas             SP  Active   \n",
              "\n",
              "                           order_id order_status order_purchase_timestamp  \\\n",
              "0  00e7ee1b050b8499577073aeb2a297a1    delivered      2017-05-16 15:05:35   \n",
              "1  29150127e6685892b6eab3eec79f59c7    delivered      2018-01-12 20:48:24   \n",
              "2  b2059ed67ce144a36e2aa97d2c9e9ad2    delivered      2018-05-19 16:07:45   \n",
              "3  951670f92359f4fe4a63112aa7306eba    delivered      2018-03-13 16:06:38   \n",
              "4  6b7d50bd145f6fc7f33cebabd7e49d0f    delivered      2018-07-29 09:51:30   \n",
              "\n",
              "    order_approved_at  ... product_width_cm product_category_name_english  \\\n",
              "0 2017-05-16 15:22:12  ...             31.0              office_furniture   \n",
              "1 2018-01-12 20:58:32  ...             40.0                    housewares   \n",
              "2 2018-05-20 16:19:10  ...             17.0              office_furniture   \n",
              "3 2018-03-13 17:29:19  ...             28.0              office_furniture   \n",
              "4 2018-07-29 10:10:09  ...             35.0                  home_confort   \n",
              "\n",
              "  order_item_id                         seller_id  shipping_limit_date  \\\n",
              "0           1.0  7c67e1448b00f6e969d365cea6b010ab  2017-05-22 15:22:12   \n",
              "1           1.0  b8bc237ba3788b23da09c0f1f3a3288c  2018-01-18 20:58:32   \n",
              "2           1.0  7c67e1448b00f6e969d365cea6b010ab  2018-06-05 16:19:10   \n",
              "3           1.0  7c67e1448b00f6e969d365cea6b010ab  2018-03-27 16:31:16   \n",
              "4           1.0  4a3ca9315b744ce9f8e9374361493884  2018-07-31 10:10:09   \n",
              "\n",
              "    price  freight_value  seller_zip_code_prefix      seller_city  \\\n",
              "0  124.99          21.88                  8577.0  itaquaquecetuba   \n",
              "1  289.00          46.48                 88303.0           itajai   \n",
              "2  139.94          17.79                  8577.0  itaquaquecetuba   \n",
              "3  149.94          23.36                  8577.0  itaquaquecetuba   \n",
              "4  230.00          22.25                 14940.0         ibitinga   \n",
              "\n",
              "   seller_state  \n",
              "0            SP  \n",
              "1            SC  \n",
              "2            SP  \n",
              "3            SP  \n",
              "4            SP  \n",
              "\n",
              "[5 rows x 42 columns]"
            ]
          },
          "execution_count": 90,
          "metadata": {},
          "output_type": "execute_result"
        }
      ],
      "source": [
        "all_data = pd.merge(\n",
        "    left=new_customers_df,\n",
        "    right=new_sellers_df,\n",
        "    how=\"left\",\n",
        "    left_on=\"order_id\",\n",
        "    right_on=\"order_id\"\n",
        ")\n",
        "all_data.head()"
      ]
    },
    {
      "cell_type": "code",
      "execution_count": 91,
      "metadata": {
        "colab": {
          "base_uri": "https://localhost:8080/"
        },
        "id": "ZoC0HZL5RWDT",
        "outputId": "f4a7ac49-08b9-47b2-8755-eb62c130757a"
      },
      "outputs": [
        {
          "name": "stdout",
          "output_type": "stream",
          "text": [
            "<class 'pandas.core.frame.DataFrame'>\n",
            "RangeIndex: 119143 entries, 0 to 119142\n",
            "Data columns (total 42 columns):\n",
            " #   Column                         Non-Null Count   Dtype         \n",
            "---  ------                         --------------   -----         \n",
            " 0   customer_id                    119143 non-null  object        \n",
            " 1   customer_unique_id             119143 non-null  object        \n",
            " 2   customer_zip_code_prefix       119143 non-null  int64         \n",
            " 3   customer_city                  119143 non-null  object        \n",
            " 4   customer_state                 119143 non-null  object        \n",
            " 5   status                         119143 non-null  object        \n",
            " 6   order_id                       119143 non-null  object        \n",
            " 7   order_status                   119143 non-null  object        \n",
            " 8   order_purchase_timestamp       119143 non-null  datetime64[ns]\n",
            " 9   order_approved_at              118966 non-null  datetime64[ns]\n",
            " 10  order_delivered_carrier_date   117057 non-null  datetime64[ns]\n",
            " 11  order_delivered_customer_date  115722 non-null  datetime64[ns]\n",
            " 12  order_estimated_delivery_date  119143 non-null  datetime64[ns]\n",
            " 13  delivery_time                  115721 non-null  float64       \n",
            " 14  payment_sequential             119140 non-null  float64       \n",
            " 15  payment_type                   119140 non-null  object        \n",
            " 16  payment_installments           119140 non-null  float64       \n",
            " 17  payment_value                  119140 non-null  float64       \n",
            " 18  review_id                      118143 non-null  object        \n",
            " 19  review_score                   118143 non-null  float64       \n",
            " 20  review_comment_title           118143 non-null  object        \n",
            " 21  review_comment_message         118143 non-null  object        \n",
            " 22  review_creation_date           118143 non-null  datetime64[ns]\n",
            " 23  review_answer_timestamp        118143 non-null  datetime64[ns]\n",
            " 24  product_id                     118310 non-null  object        \n",
            " 25  product_category_name          116601 non-null  object        \n",
            " 26  product_name_lenght            116601 non-null  float64       \n",
            " 27  product_description_lenght     116601 non-null  float64       \n",
            " 28  product_photos_qty             116601 non-null  float64       \n",
            " 29  product_weight_g               118290 non-null  float64       \n",
            " 30  product_length_cm              118290 non-null  float64       \n",
            " 31  product_height_cm              118290 non-null  float64       \n",
            " 32  product_width_cm               118290 non-null  float64       \n",
            " 33  product_category_name_english  116576 non-null  object        \n",
            " 34  order_item_id                  118310 non-null  float64       \n",
            " 35  seller_id                      118310 non-null  object        \n",
            " 36  shipping_limit_date            118310 non-null  datetime64[ns]\n",
            " 37  price                          118310 non-null  float64       \n",
            " 38  freight_value                  118310 non-null  float64       \n",
            " 39  seller_zip_code_prefix         118310 non-null  float64       \n",
            " 40  seller_city                    118310 non-null  object        \n",
            " 41  seller_state                   118310 non-null  object        \n",
            "dtypes: datetime64[ns](8), float64(16), int64(1), object(17)\n",
            "memory usage: 38.2+ MB\n"
          ]
        }
      ],
      "source": [
        "all_data.info()"
      ]
    },
    {
      "cell_type": "code",
      "execution_count": 92,
      "metadata": {
        "colab": {
          "base_uri": "https://localhost:8080/",
          "height": 455
        },
        "id": "5RigCW3XRWDU",
        "outputId": "a05fe9b4-fc28-4298-de60-e1f55727aeba"
      },
      "outputs": [
        {
          "data": {
            "text/html": [
              "<div>\n",
              "<style scoped>\n",
              "    .dataframe tbody tr th:only-of-type {\n",
              "        vertical-align: middle;\n",
              "    }\n",
              "\n",
              "    .dataframe tbody tr th {\n",
              "        vertical-align: top;\n",
              "    }\n",
              "\n",
              "    .dataframe thead th {\n",
              "        text-align: right;\n",
              "    }\n",
              "</style>\n",
              "<table border=\"1\" class=\"dataframe\">\n",
              "  <thead>\n",
              "    <tr style=\"text-align: right;\">\n",
              "      <th></th>\n",
              "      <th></th>\n",
              "      <th>price</th>\n",
              "      <th>freight_value</th>\n",
              "    </tr>\n",
              "    <tr>\n",
              "      <th>customer_city</th>\n",
              "      <th>product_category_name_english</th>\n",
              "      <th></th>\n",
              "      <th></th>\n",
              "    </tr>\n",
              "  </thead>\n",
              "  <tbody>\n",
              "    <tr>\n",
              "      <th rowspan=\"3\" valign=\"top\">abadia dos dourados</th>\n",
              "      <th>books_general_interest</th>\n",
              "      <td>39.90</td>\n",
              "      <td>18.38</td>\n",
              "    </tr>\n",
              "    <tr>\n",
              "      <th>cool_stuff</th>\n",
              "      <td>199.00</td>\n",
              "      <td>20.63</td>\n",
              "    </tr>\n",
              "    <tr>\n",
              "      <th>sports_leisure</th>\n",
              "      <td>120.00</td>\n",
              "      <td>15.59</td>\n",
              "    </tr>\n",
              "    <tr>\n",
              "      <th>abadiania</th>\n",
              "      <th>small_appliances</th>\n",
              "      <td>949.99</td>\n",
              "      <td>75.53</td>\n",
              "    </tr>\n",
              "    <tr>\n",
              "      <th>abaete</th>\n",
              "      <th>baby</th>\n",
              "      <td>65.00</td>\n",
              "      <td>17.70</td>\n",
              "    </tr>\n",
              "    <tr>\n",
              "      <th>...</th>\n",
              "      <th>...</th>\n",
              "      <td>...</td>\n",
              "      <td>...</td>\n",
              "    </tr>\n",
              "    <tr>\n",
              "      <th rowspan=\"4\" valign=\"top\">ze doca</th>\n",
              "      <th>food_drink</th>\n",
              "      <td>65.00</td>\n",
              "      <td>38.00</td>\n",
              "    </tr>\n",
              "    <tr>\n",
              "      <th>garden_tools</th>\n",
              "      <td>39.90</td>\n",
              "      <td>26.61</td>\n",
              "    </tr>\n",
              "    <tr>\n",
              "      <th>musical_instruments</th>\n",
              "      <td>359.00</td>\n",
              "      <td>49.04</td>\n",
              "    </tr>\n",
              "    <tr>\n",
              "      <th>sports_leisure</th>\n",
              "      <td>149.90</td>\n",
              "      <td>38.60</td>\n",
              "    </tr>\n",
              "    <tr>\n",
              "      <th>zortea</th>\n",
              "      <th>computers_accessories</th>\n",
              "      <td>69.90</td>\n",
              "      <td>20.98</td>\n",
              "    </tr>\n",
              "  </tbody>\n",
              "</table>\n",
              "<p>25199 rows × 2 columns</p>\n",
              "</div>"
            ],
            "text/plain": [
              "                                                    price  freight_value\n",
              "customer_city       product_category_name_english                       \n",
              "abadia dos dourados books_general_interest          39.90          18.38\n",
              "                    cool_stuff                     199.00          20.63\n",
              "                    sports_leisure                 120.00          15.59\n",
              "abadiania           small_appliances               949.99          75.53\n",
              "abaete              baby                            65.00          17.70\n",
              "...                                                   ...            ...\n",
              "ze doca             food_drink                      65.00          38.00\n",
              "                    garden_tools                    39.90          26.61\n",
              "                    musical_instruments            359.00          49.04\n",
              "                    sports_leisure                 149.90          38.60\n",
              "zortea              computers_accessories           69.90          20.98\n",
              "\n",
              "[25199 rows x 2 columns]"
            ]
          },
          "execution_count": 92,
          "metadata": {},
          "output_type": "execute_result"
        }
      ],
      "source": [
        "all_data.groupby(by=[\"customer_city\", \"product_category_name_english\"]).agg({\n",
        "    \"price\": \"sum\",\n",
        "    \"freight_value\": \"sum\"\n",
        "})"
      ]
    },
    {
      "cell_type": "code",
      "execution_count": 93,
      "metadata": {
        "colab": {
          "base_uri": "https://localhost:8080/",
          "height": 455
        },
        "id": "yJIY5SLkRWDV",
        "outputId": "45cb48c1-7fa5-4fd8-ef7e-2528dd18a151"
      },
      "outputs": [
        {
          "data": {
            "text/html": [
              "<div>\n",
              "<style scoped>\n",
              "    .dataframe tbody tr th:only-of-type {\n",
              "        vertical-align: middle;\n",
              "    }\n",
              "\n",
              "    .dataframe tbody tr th {\n",
              "        vertical-align: top;\n",
              "    }\n",
              "\n",
              "    .dataframe thead th {\n",
              "        text-align: right;\n",
              "    }\n",
              "</style>\n",
              "<table border=\"1\" class=\"dataframe\">\n",
              "  <thead>\n",
              "    <tr style=\"text-align: right;\">\n",
              "      <th></th>\n",
              "      <th></th>\n",
              "      <th>price</th>\n",
              "      <th>freight_value</th>\n",
              "    </tr>\n",
              "    <tr>\n",
              "      <th>customer_state</th>\n",
              "      <th>product_category_name_english</th>\n",
              "      <th></th>\n",
              "      <th></th>\n",
              "    </tr>\n",
              "  </thead>\n",
              "  <tbody>\n",
              "    <tr>\n",
              "      <th rowspan=\"5\" valign=\"top\">AC</th>\n",
              "      <th>auto</th>\n",
              "      <td>606.97</td>\n",
              "      <td>146.42</td>\n",
              "    </tr>\n",
              "    <tr>\n",
              "      <th>baby</th>\n",
              "      <td>697.84</td>\n",
              "      <td>174.13</td>\n",
              "    </tr>\n",
              "    <tr>\n",
              "      <th>bed_bath_table</th>\n",
              "      <td>567.70</td>\n",
              "      <td>157.51</td>\n",
              "    </tr>\n",
              "    <tr>\n",
              "      <th>books_general_interest</th>\n",
              "      <td>633.80</td>\n",
              "      <td>123.71</td>\n",
              "    </tr>\n",
              "    <tr>\n",
              "      <th>christmas_supplies</th>\n",
              "      <td>69.90</td>\n",
              "      <td>60.95</td>\n",
              "    </tr>\n",
              "    <tr>\n",
              "      <th>...</th>\n",
              "      <th>...</th>\n",
              "      <td>...</td>\n",
              "      <td>...</td>\n",
              "    </tr>\n",
              "    <tr>\n",
              "      <th rowspan=\"5\" valign=\"top\">TO</th>\n",
              "      <th>sports_leisure</th>\n",
              "      <td>5533.32</td>\n",
              "      <td>1393.53</td>\n",
              "    </tr>\n",
              "    <tr>\n",
              "      <th>stationery</th>\n",
              "      <td>276.80</td>\n",
              "      <td>73.80</td>\n",
              "    </tr>\n",
              "    <tr>\n",
              "      <th>telephony</th>\n",
              "      <td>1268.12</td>\n",
              "      <td>627.34</td>\n",
              "    </tr>\n",
              "    <tr>\n",
              "      <th>toys</th>\n",
              "      <td>1864.15</td>\n",
              "      <td>423.96</td>\n",
              "    </tr>\n",
              "    <tr>\n",
              "      <th>watches_gifts</th>\n",
              "      <td>5446.89</td>\n",
              "      <td>950.02</td>\n",
              "    </tr>\n",
              "  </tbody>\n",
              "</table>\n",
              "<p>1356 rows × 2 columns</p>\n",
              "</div>"
            ],
            "text/plain": [
              "                                                price  freight_value\n",
              "customer_state product_category_name_english                        \n",
              "AC             auto                            606.97         146.42\n",
              "               baby                            697.84         174.13\n",
              "               bed_bath_table                  567.70         157.51\n",
              "               books_general_interest          633.80         123.71\n",
              "               christmas_supplies               69.90          60.95\n",
              "...                                               ...            ...\n",
              "TO             sports_leisure                 5533.32        1393.53\n",
              "               stationery                      276.80          73.80\n",
              "               telephony                      1268.12         627.34\n",
              "               toys                           1864.15         423.96\n",
              "               watches_gifts                  5446.89         950.02\n",
              "\n",
              "[1356 rows x 2 columns]"
            ]
          },
          "execution_count": 93,
          "metadata": {},
          "output_type": "execute_result"
        }
      ],
      "source": [
        "all_data.groupby(by=[\"customer_state\", \"product_category_name_english\"]).agg({\n",
        "    \"price\": \"sum\",\n",
        "    \"freight_value\": \"sum\"\n",
        "})"
      ]
    },
    {
      "cell_type": "code",
      "execution_count": 94,
      "metadata": {
        "colab": {
          "base_uri": "https://localhost:8080/",
          "height": 927
        },
        "id": "01ha17YdRWDY",
        "outputId": "39062347-34ce-46ba-cf03-1f4f74bf967c"
      },
      "outputs": [
        {
          "data": {
            "text/html": [
              "<div>\n",
              "<style scoped>\n",
              "    .dataframe tbody tr th:only-of-type {\n",
              "        vertical-align: middle;\n",
              "    }\n",
              "\n",
              "    .dataframe tbody tr th {\n",
              "        vertical-align: top;\n",
              "    }\n",
              "\n",
              "    .dataframe thead th {\n",
              "        text-align: right;\n",
              "    }\n",
              "</style>\n",
              "<table border=\"1\" class=\"dataframe\">\n",
              "  <thead>\n",
              "    <tr style=\"text-align: right;\">\n",
              "      <th></th>\n",
              "      <th>order_id</th>\n",
              "      <th>payment_value</th>\n",
              "    </tr>\n",
              "    <tr>\n",
              "      <th>customer_state</th>\n",
              "      <th></th>\n",
              "      <th></th>\n",
              "    </tr>\n",
              "  </thead>\n",
              "  <tbody>\n",
              "    <tr>\n",
              "      <th>SP</th>\n",
              "      <td>41746</td>\n",
              "      <td>7726078.35</td>\n",
              "    </tr>\n",
              "    <tr>\n",
              "      <th>RJ</th>\n",
              "      <td>12852</td>\n",
              "      <td>2795615.67</td>\n",
              "    </tr>\n",
              "    <tr>\n",
              "      <th>MG</th>\n",
              "      <td>11635</td>\n",
              "      <td>2351221.09</td>\n",
              "    </tr>\n",
              "    <tr>\n",
              "      <th>RS</th>\n",
              "      <td>5466</td>\n",
              "      <td>1160175.66</td>\n",
              "    </tr>\n",
              "    <tr>\n",
              "      <th>PR</th>\n",
              "      <td>5045</td>\n",
              "      <td>1079795.49</td>\n",
              "    </tr>\n",
              "    <tr>\n",
              "      <th>BA</th>\n",
              "      <td>3380</td>\n",
              "      <td>805070.98</td>\n",
              "    </tr>\n",
              "    <tr>\n",
              "      <th>SC</th>\n",
              "      <td>3637</td>\n",
              "      <td>801276.45</td>\n",
              "    </tr>\n",
              "    <tr>\n",
              "      <th>GO</th>\n",
              "      <td>2020</td>\n",
              "      <td>520481.65</td>\n",
              "    </tr>\n",
              "    <tr>\n",
              "      <th>DF</th>\n",
              "      <td>2140</td>\n",
              "      <td>438095.32</td>\n",
              "    </tr>\n",
              "    <tr>\n",
              "      <th>ES</th>\n",
              "      <td>2033</td>\n",
              "      <td>408611.64</td>\n",
              "    </tr>\n",
              "    <tr>\n",
              "      <th>PE</th>\n",
              "      <td>1652</td>\n",
              "      <td>380294.18</td>\n",
              "    </tr>\n",
              "    <tr>\n",
              "      <th>CE</th>\n",
              "      <td>1336</td>\n",
              "      <td>349290.36</td>\n",
              "    </tr>\n",
              "    <tr>\n",
              "      <th>PA</th>\n",
              "      <td>975</td>\n",
              "      <td>263217.70</td>\n",
              "    </tr>\n",
              "    <tr>\n",
              "      <th>MT</th>\n",
              "      <td>907</td>\n",
              "      <td>257802.26</td>\n",
              "    </tr>\n",
              "    <tr>\n",
              "      <th>MA</th>\n",
              "      <td>747</td>\n",
              "      <td>200363.24</td>\n",
              "    </tr>\n",
              "    <tr>\n",
              "      <th>PB</th>\n",
              "      <td>536</td>\n",
              "      <td>181660.73</td>\n",
              "    </tr>\n",
              "    <tr>\n",
              "      <th>MS</th>\n",
              "      <td>715</td>\n",
              "      <td>167670.27</td>\n",
              "    </tr>\n",
              "    <tr>\n",
              "      <th>PI</th>\n",
              "      <td>495</td>\n",
              "      <td>137158.89</td>\n",
              "    </tr>\n",
              "    <tr>\n",
              "      <th>RN</th>\n",
              "      <td>485</td>\n",
              "      <td>117192.91</td>\n",
              "    </tr>\n",
              "    <tr>\n",
              "      <th>AL</th>\n",
              "      <td>413</td>\n",
              "      <td>112296.47</td>\n",
              "    </tr>\n",
              "    <tr>\n",
              "      <th>SE</th>\n",
              "      <td>350</td>\n",
              "      <td>90651.44</td>\n",
              "    </tr>\n",
              "    <tr>\n",
              "      <th>TO</th>\n",
              "      <td>280</td>\n",
              "      <td>72412.08</td>\n",
              "    </tr>\n",
              "    <tr>\n",
              "      <th>RO</th>\n",
              "      <td>253</td>\n",
              "      <td>69184.48</td>\n",
              "    </tr>\n",
              "    <tr>\n",
              "      <th>AM</th>\n",
              "      <td>148</td>\n",
              "      <td>34956.93</td>\n",
              "    </tr>\n",
              "    <tr>\n",
              "      <th>AC</th>\n",
              "      <td>81</td>\n",
              "      <td>24984.86</td>\n",
              "    </tr>\n",
              "    <tr>\n",
              "      <th>AP</th>\n",
              "      <td>68</td>\n",
              "      <td>21642.70</td>\n",
              "    </tr>\n",
              "    <tr>\n",
              "      <th>RR</th>\n",
              "      <td>46</td>\n",
              "      <td>12462.21</td>\n",
              "    </tr>\n",
              "  </tbody>\n",
              "</table>\n",
              "</div>"
            ],
            "text/plain": [
              "                order_id  payment_value\n",
              "customer_state                         \n",
              "SP                 41746     7726078.35\n",
              "RJ                 12852     2795615.67\n",
              "MG                 11635     2351221.09\n",
              "RS                  5466     1160175.66\n",
              "PR                  5045     1079795.49\n",
              "BA                  3380      805070.98\n",
              "SC                  3637      801276.45\n",
              "GO                  2020      520481.65\n",
              "DF                  2140      438095.32\n",
              "ES                  2033      408611.64\n",
              "PE                  1652      380294.18\n",
              "CE                  1336      349290.36\n",
              "PA                   975      263217.70\n",
              "MT                   907      257802.26\n",
              "MA                   747      200363.24\n",
              "PB                   536      181660.73\n",
              "MS                   715      167670.27\n",
              "PI                   495      137158.89\n",
              "RN                   485      117192.91\n",
              "AL                   413      112296.47\n",
              "SE                   350       90651.44\n",
              "TO                   280       72412.08\n",
              "RO                   253       69184.48\n",
              "AM                   148       34956.93\n",
              "AC                    81       24984.86\n",
              "AP                    68       21642.70\n",
              "RR                    46       12462.21"
            ]
          },
          "execution_count": 94,
          "metadata": {},
          "output_type": "execute_result"
        }
      ],
      "source": [
        "all_data.groupby(by=\"customer_state\").agg({\n",
        "    \"order_id\": \"nunique\",\n",
        "    \"payment_value\": \"sum\"\n",
        "}).sort_values(by=\"payment_value\", ascending=False)"
      ]
    },
    {
      "cell_type": "code",
      "execution_count": 95,
      "metadata": {
        "colab": {
          "base_uri": "https://localhost:8080/",
          "height": 486
        },
        "id": "UCrjkWucRWDa",
        "outputId": "71fde091-e9be-43e3-dba9-8941dd59a43a"
      },
      "outputs": [
        {
          "data": {
            "text/html": [
              "<div>\n",
              "<style scoped>\n",
              "    .dataframe tbody tr th:only-of-type {\n",
              "        vertical-align: middle;\n",
              "    }\n",
              "\n",
              "    .dataframe tbody tr th {\n",
              "        vertical-align: top;\n",
              "    }\n",
              "\n",
              "    .dataframe thead tr th {\n",
              "        text-align: left;\n",
              "    }\n",
              "\n",
              "    .dataframe thead tr:last-of-type th {\n",
              "        text-align: right;\n",
              "    }\n",
              "</style>\n",
              "<table border=\"1\" class=\"dataframe\">\n",
              "  <thead>\n",
              "    <tr>\n",
              "      <th></th>\n",
              "      <th>order_id</th>\n",
              "      <th colspan=\"2\" halign=\"left\">review_score</th>\n",
              "    </tr>\n",
              "    <tr>\n",
              "      <th></th>\n",
              "      <th>nunique</th>\n",
              "      <th>min</th>\n",
              "      <th>max</th>\n",
              "    </tr>\n",
              "    <tr>\n",
              "      <th>product_category_name_english</th>\n",
              "      <th></th>\n",
              "      <th></th>\n",
              "      <th></th>\n",
              "    </tr>\n",
              "  </thead>\n",
              "  <tbody>\n",
              "    <tr>\n",
              "      <th>agro_industry_and_commerce</th>\n",
              "      <td>182</td>\n",
              "      <td>1.0</td>\n",
              "      <td>5.0</td>\n",
              "    </tr>\n",
              "    <tr>\n",
              "      <th>air_conditioning</th>\n",
              "      <td>253</td>\n",
              "      <td>1.0</td>\n",
              "      <td>5.0</td>\n",
              "    </tr>\n",
              "    <tr>\n",
              "      <th>art</th>\n",
              "      <td>202</td>\n",
              "      <td>1.0</td>\n",
              "      <td>5.0</td>\n",
              "    </tr>\n",
              "    <tr>\n",
              "      <th>arts_and_craftmanship</th>\n",
              "      <td>23</td>\n",
              "      <td>1.0</td>\n",
              "      <td>5.0</td>\n",
              "    </tr>\n",
              "    <tr>\n",
              "      <th>audio</th>\n",
              "      <td>350</td>\n",
              "      <td>1.0</td>\n",
              "      <td>5.0</td>\n",
              "    </tr>\n",
              "    <tr>\n",
              "      <th>...</th>\n",
              "      <td>...</td>\n",
              "      <td>...</td>\n",
              "      <td>...</td>\n",
              "    </tr>\n",
              "    <tr>\n",
              "      <th>stationery</th>\n",
              "      <td>2311</td>\n",
              "      <td>1.0</td>\n",
              "      <td>5.0</td>\n",
              "    </tr>\n",
              "    <tr>\n",
              "      <th>tablets_printing_image</th>\n",
              "      <td>79</td>\n",
              "      <td>1.0</td>\n",
              "      <td>5.0</td>\n",
              "    </tr>\n",
              "    <tr>\n",
              "      <th>telephony</th>\n",
              "      <td>4199</td>\n",
              "      <td>1.0</td>\n",
              "      <td>5.0</td>\n",
              "    </tr>\n",
              "    <tr>\n",
              "      <th>toys</th>\n",
              "      <td>3886</td>\n",
              "      <td>1.0</td>\n",
              "      <td>5.0</td>\n",
              "    </tr>\n",
              "    <tr>\n",
              "      <th>watches_gifts</th>\n",
              "      <td>5624</td>\n",
              "      <td>1.0</td>\n",
              "      <td>5.0</td>\n",
              "    </tr>\n",
              "  </tbody>\n",
              "</table>\n",
              "<p>71 rows × 3 columns</p>\n",
              "</div>"
            ],
            "text/plain": [
              "                              order_id review_score     \n",
              "                               nunique          min  max\n",
              "product_category_name_english                           \n",
              "agro_industry_and_commerce         182          1.0  5.0\n",
              "air_conditioning                   253          1.0  5.0\n",
              "art                                202          1.0  5.0\n",
              "arts_and_craftmanship               23          1.0  5.0\n",
              "audio                              350          1.0  5.0\n",
              "...                                ...          ...  ...\n",
              "stationery                        2311          1.0  5.0\n",
              "tablets_printing_image              79          1.0  5.0\n",
              "telephony                         4199          1.0  5.0\n",
              "toys                              3886          1.0  5.0\n",
              "watches_gifts                     5624          1.0  5.0\n",
              "\n",
              "[71 rows x 3 columns]"
            ]
          },
          "execution_count": 95,
          "metadata": {},
          "output_type": "execute_result"
        }
      ],
      "source": [
        "all_data.groupby(by=\"product_category_name_english\").agg({\n",
        "    \"order_id\": \"nunique\",\n",
        "    \"review_score\":  [\"min\", \"max\"]\n",
        "})"
      ]
    },
    {
      "cell_type": "markdown",
      "metadata": {
        "id": "Cazlrz3K67aV"
      },
      "source": [
        "### 11. Data geolocation_df tidak dilakukan eksplorasi"
      ]
    },
    {
      "cell_type": "markdown",
      "metadata": {
        "id": "lP20pkT0RWDc"
      },
      "source": [
        "### 12. Membuat data baru yang sebelumnya telah di bersihkan dan di eksplorasi"
      ]
    },
    {
      "cell_type": "code",
      "execution_count": 96,
      "metadata": {
        "id": "muOgalPaRWDd"
      },
      "outputs": [],
      "source": [
        "all_data.to_csv('streamlit/all_data.csv', index=False)"
      ]
    },
    {
      "cell_type": "markdown",
      "metadata": {
        "id": "GohBGDGVVFZu"
      },
      "source": [
        "# **Visualization & Explanatory Data**"
      ]
    },
    {
      "cell_type": "markdown",
      "metadata": {
        "id": "TarhQ1-FVaxm"
      },
      "source": [
        "### 1. Produk apa yang paling laris dan kurang laris di E-commerce?"
      ]
    },
    {
      "cell_type": "code",
      "execution_count": 97,
      "metadata": {
        "colab": {
          "base_uri": "https://localhost:8080/",
          "height": 206
        },
        "id": "5md9DEBSVNtl",
        "outputId": "ee53a78f-c4de-4797-8b8c-cfe30524f268"
      },
      "outputs": [
        {
          "data": {
            "text/html": [
              "<div>\n",
              "<style scoped>\n",
              "    .dataframe tbody tr th:only-of-type {\n",
              "        vertical-align: middle;\n",
              "    }\n",
              "\n",
              "    .dataframe tbody tr th {\n",
              "        vertical-align: top;\n",
              "    }\n",
              "\n",
              "    .dataframe thead th {\n",
              "        text-align: right;\n",
              "    }\n",
              "</style>\n",
              "<table border=\"1\" class=\"dataframe\">\n",
              "  <thead>\n",
              "    <tr style=\"text-align: right;\">\n",
              "      <th></th>\n",
              "      <th>product_category_name_english</th>\n",
              "      <th>products</th>\n",
              "    </tr>\n",
              "  </thead>\n",
              "  <tbody>\n",
              "    <tr>\n",
              "      <th>7</th>\n",
              "      <td>bed_bath_table</td>\n",
              "      <td>11988</td>\n",
              "    </tr>\n",
              "    <tr>\n",
              "      <th>43</th>\n",
              "      <td>health_beauty</td>\n",
              "      <td>10032</td>\n",
              "    </tr>\n",
              "    <tr>\n",
              "      <th>65</th>\n",
              "      <td>sports_leisure</td>\n",
              "      <td>9004</td>\n",
              "    </tr>\n",
              "    <tr>\n",
              "      <th>39</th>\n",
              "      <td>furniture_decor</td>\n",
              "      <td>8832</td>\n",
              "    </tr>\n",
              "    <tr>\n",
              "      <th>15</th>\n",
              "      <td>computers_accessories</td>\n",
              "      <td>8150</td>\n",
              "    </tr>\n",
              "  </tbody>\n",
              "</table>\n",
              "</div>"
            ],
            "text/plain": [
              "   product_category_name_english  products\n",
              "7                 bed_bath_table     11988\n",
              "43                 health_beauty     10032\n",
              "65                sports_leisure      9004\n",
              "39               furniture_decor      8832\n",
              "15         computers_accessories      8150"
            ]
          },
          "execution_count": 97,
          "metadata": {},
          "output_type": "execute_result"
        }
      ],
      "source": [
        "sum_order_items_df = all_data.groupby(\"product_category_name_english\")[\"product_id\"].count().reset_index()\n",
        "sum_order_items_df = sum_order_items_df.rename(columns={\"product_id\": \"products\"})\n",
        "sum_order_items_df = sum_order_items_df.sort_values(by=\"products\", ascending=False)\n",
        "sum_order_items_df = sum_order_items_df.head(10)\n",
        "\n",
        "sum_order_items_df.head()"
      ]
    },
    {
      "cell_type": "markdown",
      "metadata": {
        "id": "_96T0_c_YVpn"
      },
      "source": [
        "Dapat kita lihat bahwa produk **bed_bath_table** menjadi produk terlaris dalam penjualannya"
      ]
    },
    {
      "cell_type": "code",
      "execution_count": 98,
      "metadata": {
        "colab": {
          "base_uri": "https://localhost:8080/",
          "height": 292
        },
        "id": "m7pWFIdpV4n9",
        "outputId": "6a81d8a3-4762-4ac5-e92a-588a6bb1e851"
      },
      "outputs": [
        {
          "name": "stderr",
          "output_type": "stream",
          "text": [
            "c:\\Users\\User\\AppData\\Local\\Programs\\Python\\Python311\\Lib\\site-packages\\seaborn\\_oldcore.py:1498: FutureWarning: is_categorical_dtype is deprecated and will be removed in a future version. Use isinstance(dtype, CategoricalDtype) instead\n",
            "  if pd.api.types.is_categorical_dtype(vector):\n",
            "c:\\Users\\User\\AppData\\Local\\Programs\\Python\\Python311\\Lib\\site-packages\\seaborn\\_oldcore.py:1498: FutureWarning: is_categorical_dtype is deprecated and will be removed in a future version. Use isinstance(dtype, CategoricalDtype) instead\n",
            "  if pd.api.types.is_categorical_dtype(vector):\n",
            "c:\\Users\\User\\AppData\\Local\\Programs\\Python\\Python311\\Lib\\site-packages\\seaborn\\_oldcore.py:1498: FutureWarning: is_categorical_dtype is deprecated and will be removed in a future version. Use isinstance(dtype, CategoricalDtype) instead\n",
            "  if pd.api.types.is_categorical_dtype(vector):\n",
            "c:\\Users\\User\\AppData\\Local\\Programs\\Python\\Python311\\Lib\\site-packages\\seaborn\\_oldcore.py:1498: FutureWarning: is_categorical_dtype is deprecated and will be removed in a future version. Use isinstance(dtype, CategoricalDtype) instead\n",
            "  if pd.api.types.is_categorical_dtype(vector):\n",
            "c:\\Users\\User\\AppData\\Local\\Programs\\Python\\Python311\\Lib\\site-packages\\seaborn\\_oldcore.py:1498: FutureWarning: is_categorical_dtype is deprecated and will be removed in a future version. Use isinstance(dtype, CategoricalDtype) instead\n",
            "  if pd.api.types.is_categorical_dtype(vector):\n",
            "c:\\Users\\User\\AppData\\Local\\Programs\\Python\\Python311\\Lib\\site-packages\\seaborn\\_oldcore.py:1498: FutureWarning: is_categorical_dtype is deprecated and will be removed in a future version. Use isinstance(dtype, CategoricalDtype) instead\n",
            "  if pd.api.types.is_categorical_dtype(vector):\n"
          ]
        },
        {
          "data": {
            "image/png": "[encoded data removed]",
            "text/plain": [
              "<Figure size 2400x600 with 2 Axes>"
            ]
          },
          "metadata": {},
          "output_type": "display_data"
        }
      ],
      "source": [
        "fig, ax = plt.subplots(nrows=1, ncols=2, figsize=(24, 6))\n",
        "\n",
        "colors = [\"#FE0000\", \"#ECA7A7\", \"#ECA7A7\", \"#ECA7A7\", \"#ECA7A7\"]\n",
        "\n",
        "sns.barplot(x=\"products\", y=\"product_category_name_english\", data=sum_order_items_df.head(5), palette=colors, ax=ax[0])\n",
        "ax[0].set_ylabel(None)\n",
        "ax[0].set_xlabel(None)\n",
        "ax[0].set_title(\"Produk Paling Laris\", loc=\"center\", fontsize=18)\n",
        "ax[0].tick_params(axis ='y', labelsize=15)\n",
        "\n",
        "sns.barplot(x=\"products\", y=\"product_category_name_english\", data=sum_order_items_df.sort_values(by=\"products\", ascending=True).head(5), palette=colors, ax=ax[1])\n",
        "ax[1].set_ylabel(None)\n",
        "ax[1].set_xlabel(None)\n",
        "ax[1].invert_xaxis()\n",
        "ax[1].yaxis.set_label_position(\"right\")\n",
        "ax[1].yaxis.tick_right()\n",
        "ax[1].set_title(\"Produk Kurang Laris\", loc=\"center\", fontsize=18)\n",
        "ax[1].tick_params(axis='y', labelsize=15)\n",
        "\n",
        "plt.suptitle(\"Grafik Penjualan Produk\", fontsize=30)\n",
        "plt.show()\n"
      ]
    },
    {
      "cell_type": "markdown",
      "metadata": {
        "id": "GJLBu372mlCQ"
      },
      "source": [
        "### 2. Bagaimana laju performa penjualan E-commerce seiring berjalannya waktu?"
      ]
    },
    {
      "cell_type": "code",
      "execution_count": 99,
      "metadata": {
        "colab": {
          "base_uri": "https://localhost:8080/",
          "height": 206
        },
        "id": "L0RcoE7HmyhT",
        "outputId": "b5432b2b-030d-424a-ce20-2c90c841e78a"
      },
      "outputs": [
        {
          "data": {
            "text/html": [
              "<div>\n",
              "<style scoped>\n",
              "    .dataframe tbody tr th:only-of-type {\n",
              "        vertical-align: middle;\n",
              "    }\n",
              "\n",
              "    .dataframe tbody tr th {\n",
              "        vertical-align: top;\n",
              "    }\n",
              "\n",
              "    .dataframe thead th {\n",
              "        text-align: right;\n",
              "    }\n",
              "</style>\n",
              "<table border=\"1\" class=\"dataframe\">\n",
              "  <thead>\n",
              "    <tr style=\"text-align: right;\">\n",
              "      <th></th>\n",
              "      <th>order_approved_at</th>\n",
              "      <th>order_count</th>\n",
              "    </tr>\n",
              "  </thead>\n",
              "  <tbody>\n",
              "    <tr>\n",
              "      <th>0</th>\n",
              "      <td>September</td>\n",
              "      <td>1</td>\n",
              "    </tr>\n",
              "    <tr>\n",
              "      <th>1</th>\n",
              "      <td>October</td>\n",
              "      <td>320</td>\n",
              "    </tr>\n",
              "    <tr>\n",
              "      <th>2</th>\n",
              "      <td>November</td>\n",
              "      <td>0</td>\n",
              "    </tr>\n",
              "    <tr>\n",
              "      <th>3</th>\n",
              "      <td>December</td>\n",
              "      <td>1</td>\n",
              "    </tr>\n",
              "    <tr>\n",
              "      <th>4</th>\n",
              "      <td>January</td>\n",
              "      <td>760</td>\n",
              "    </tr>\n",
              "  </tbody>\n",
              "</table>\n",
              "</div>"
            ],
            "text/plain": [
              "  order_approved_at  order_count\n",
              "0         September            1\n",
              "1           October          320\n",
              "2          November            0\n",
              "3          December            1\n",
              "4           January          760"
            ]
          },
          "execution_count": 99,
          "metadata": {},
          "output_type": "execute_result"
        }
      ],
      "source": [
        "order_count_monthly_df = all_data.resample(rule='M', on='order_approved_at').agg({\n",
        "    \"order_id\": \"nunique\",\n",
        "})\n",
        "order_count_monthly_df.index = order_count_monthly_df.index.strftime('%B') #mengubah format order_approved_at menjadi Tahun-Bulan\n",
        "order_count_monthly_df = order_count_monthly_df.reset_index()\n",
        "order_count_monthly_df.rename(columns={\n",
        "    \"order_id\": \"order_count\",\n",
        "}, inplace=True)\n",
        "order_count_monthly_df.head()"
      ]
    },
    {
      "cell_type": "code",
      "execution_count": 100,
      "metadata": {
        "colab": {
          "base_uri": "https://localhost:8080/",
          "height": 206
        },
        "id": "jU4vXb4unLT1",
        "outputId": "d51be5e5-7d83-4838-a3e8-4f0e0d15bcbe"
      },
      "outputs": [
        {
          "data": {
            "text/html": [
              "<div>\n",
              "<style scoped>\n",
              "    .dataframe tbody tr th:only-of-type {\n",
              "        vertical-align: middle;\n",
              "    }\n",
              "\n",
              "    .dataframe tbody tr th {\n",
              "        vertical-align: top;\n",
              "    }\n",
              "\n",
              "    .dataframe thead th {\n",
              "        text-align: right;\n",
              "    }\n",
              "</style>\n",
              "<table border=\"1\" class=\"dataframe\">\n",
              "  <thead>\n",
              "    <tr style=\"text-align: right;\">\n",
              "      <th></th>\n",
              "      <th>order_approved_at</th>\n",
              "      <th>order_count</th>\n",
              "    </tr>\n",
              "  </thead>\n",
              "  <tbody>\n",
              "    <tr>\n",
              "      <th>12</th>\n",
              "      <td>September</td>\n",
              "      <td>4301</td>\n",
              "    </tr>\n",
              "    <tr>\n",
              "      <th>13</th>\n",
              "      <td>October</td>\n",
              "      <td>4590</td>\n",
              "    </tr>\n",
              "    <tr>\n",
              "      <th>15</th>\n",
              "      <td>December</td>\n",
              "      <td>5832</td>\n",
              "    </tr>\n",
              "    <tr>\n",
              "      <th>21</th>\n",
              "      <td>June</td>\n",
              "      <td>6164</td>\n",
              "    </tr>\n",
              "    <tr>\n",
              "      <th>22</th>\n",
              "      <td>July</td>\n",
              "      <td>6176</td>\n",
              "    </tr>\n",
              "  </tbody>\n",
              "</table>\n",
              "</div>"
            ],
            "text/plain": [
              "   order_approved_at  order_count\n",
              "12         September         4301\n",
              "13           October         4590\n",
              "15          December         5832\n",
              "21              June         6164\n",
              "22              July         6176"
            ]
          },
          "execution_count": 100,
          "metadata": {},
          "output_type": "execute_result"
        }
      ],
      "source": [
        "order_count_monthly_df = order_count_monthly_df.sort_values('order_count').drop_duplicates('order_approved_at', keep='last')\n",
        "order_count_monthly_df.head()"
      ]
    },
    {
      "cell_type": "code",
      "execution_count": 101,
      "metadata": {
        "colab": {
          "base_uri": "https://localhost:8080/",
          "height": 425
        },
        "id": "RjUQ0dtuoOSK",
        "outputId": "11c3c8d3-991f-4d41-cc44-2e2ce194ef0b"
      },
      "outputs": [
        {
          "data": {
            "text/html": [
              "<div>\n",
              "<style scoped>\n",
              "    .dataframe tbody tr th:only-of-type {\n",
              "        vertical-align: middle;\n",
              "    }\n",
              "\n",
              "    .dataframe tbody tr th {\n",
              "        vertical-align: top;\n",
              "    }\n",
              "\n",
              "    .dataframe thead th {\n",
              "        text-align: right;\n",
              "    }\n",
              "</style>\n",
              "<table border=\"1\" class=\"dataframe\">\n",
              "  <thead>\n",
              "    <tr style=\"text-align: right;\">\n",
              "      <th></th>\n",
              "      <th>order_approved_at</th>\n",
              "      <th>order_count</th>\n",
              "    </tr>\n",
              "  </thead>\n",
              "  <tbody>\n",
              "    <tr>\n",
              "      <th>14</th>\n",
              "      <td>November</td>\n",
              "      <td>7395</td>\n",
              "    </tr>\n",
              "    <tr>\n",
              "      <th>18</th>\n",
              "      <td>March</td>\n",
              "      <td>7288</td>\n",
              "    </tr>\n",
              "    <tr>\n",
              "      <th>16</th>\n",
              "      <td>January</td>\n",
              "      <td>7187</td>\n",
              "    </tr>\n",
              "    <tr>\n",
              "      <th>20</th>\n",
              "      <td>May</td>\n",
              "      <td>7066</td>\n",
              "    </tr>\n",
              "    <tr>\n",
              "      <th>19</th>\n",
              "      <td>April</td>\n",
              "      <td>6778</td>\n",
              "    </tr>\n",
              "    <tr>\n",
              "      <th>17</th>\n",
              "      <td>February</td>\n",
              "      <td>6706</td>\n",
              "    </tr>\n",
              "    <tr>\n",
              "      <th>23</th>\n",
              "      <td>August</td>\n",
              "      <td>6620</td>\n",
              "    </tr>\n",
              "    <tr>\n",
              "      <th>22</th>\n",
              "      <td>July</td>\n",
              "      <td>6176</td>\n",
              "    </tr>\n",
              "    <tr>\n",
              "      <th>21</th>\n",
              "      <td>June</td>\n",
              "      <td>6164</td>\n",
              "    </tr>\n",
              "    <tr>\n",
              "      <th>15</th>\n",
              "      <td>December</td>\n",
              "      <td>5832</td>\n",
              "    </tr>\n",
              "    <tr>\n",
              "      <th>13</th>\n",
              "      <td>October</td>\n",
              "      <td>4590</td>\n",
              "    </tr>\n",
              "    <tr>\n",
              "      <th>12</th>\n",
              "      <td>September</td>\n",
              "      <td>4301</td>\n",
              "    </tr>\n",
              "  </tbody>\n",
              "</table>\n",
              "</div>"
            ],
            "text/plain": [
              "   order_approved_at  order_count\n",
              "14          November         7395\n",
              "18             March         7288\n",
              "16           January         7187\n",
              "20               May         7066\n",
              "19             April         6778\n",
              "17          February         6706\n",
              "23            August         6620\n",
              "22              July         6176\n",
              "21              June         6164\n",
              "15          December         5832\n",
              "13           October         4590\n",
              "12         September         4301"
            ]
          },
          "execution_count": 101,
          "metadata": {},
          "output_type": "execute_result"
        }
      ],
      "source": [
        "order_count_monthly_df.sort_values(by='order_count', ascending=False)"
      ]
    },
    {
      "cell_type": "code",
      "execution_count": 102,
      "metadata": {
        "id": "7apKG1VHvmnd"
      },
      "outputs": [],
      "source": [
        "month_code = {\n",
        "    \"January\": 1,\n",
        "    \"February\": 2,\n",
        "    \"March\": 3,\n",
        "    \"April\": 4,\n",
        "    \"May\": 5,\n",
        "    \"June\": 6,\n",
        "    \"July\": 7,\n",
        "    \"August\": 8,\n",
        "    \"September\": 9,\n",
        "    \"October\": 10,\n",
        "    \"November\": 11,\n",
        "    \"December\": 12\n",
        "}\n",
        "\n",
        "order_count_monthly_df[\"month_numeric\"] = order_count_monthly_df[\"order_approved_at\"].map(month_code)\n",
        "order_count_monthly_df = order_count_monthly_df.sort_values(\"month_numeric\")\n",
        "order_count_monthly_df = order_count_monthly_df.drop(\"month_numeric\", axis=1)"
      ]
    },
    {
      "cell_type": "code",
      "execution_count": 103,
      "metadata": {
        "colab": {
          "base_uri": "https://localhost:8080/",
          "height": 526
        },
        "id": "elS6l74Uv3SP",
        "outputId": "d3cf90be-85a9-4144-de2c-5fce4bf796d3"
      },
      "outputs": [
        {
          "data": {
            "image/png": "[encoded data removed]",
            "text/plain": [
              "<Figure size 1000x500 with 1 Axes>"
            ]
          },
          "metadata": {},
          "output_type": "display_data"
        }
      ],
      "source": [
        "plt.figure(figsize=(10, 5))\n",
        "plt.plot(\n",
        "    order_count_monthly_df[\"order_approved_at\"],\n",
        "    order_count_monthly_df[\"order_count\"],\n",
        "    marker='o',\n",
        "    linewidth=2,\n",
        "    color=\"#FE0000\"\n",
        ")\n",
        "plt.title(\"Order Count per Month (2018)\", loc=\"center\", fontsize=20)\n",
        "plt.xticks(fontsize=10, rotation=45)\n",
        "plt.yticks(fontsize=10)\n",
        "plt.show()"
      ]
    },
    {
      "cell_type": "markdown",
      "metadata": {
        "id": "MqLx2blZ_yc0"
      },
      "source": [
        "### 3. Berapa pendapatan yang didapatkan oleh E-commerce dalam beberapa bulan terakhir?"
      ]
    },
    {
      "cell_type": "code",
      "execution_count": 104,
      "metadata": {
        "colab": {
          "base_uri": "https://localhost:8080/",
          "height": 206
        },
        "id": "V7pCRHNy_5y7",
        "outputId": "751ac4b5-c233-46a1-aac5-fed2f74fe188"
      },
      "outputs": [
        {
          "data": {
            "text/html": [
              "<div>\n",
              "<style scoped>\n",
              "    .dataframe tbody tr th:only-of-type {\n",
              "        vertical-align: middle;\n",
              "    }\n",
              "\n",
              "    .dataframe tbody tr th {\n",
              "        vertical-align: top;\n",
              "    }\n",
              "\n",
              "    .dataframe thead th {\n",
              "        text-align: right;\n",
              "    }\n",
              "</style>\n",
              "<table border=\"1\" class=\"dataframe\">\n",
              "  <thead>\n",
              "    <tr style=\"text-align: right;\">\n",
              "      <th></th>\n",
              "      <th>order_approved_at</th>\n",
              "      <th>total_income</th>\n",
              "    </tr>\n",
              "  </thead>\n",
              "  <tbody>\n",
              "    <tr>\n",
              "      <th>0</th>\n",
              "      <td>September</td>\n",
              "      <td>0.00</td>\n",
              "    </tr>\n",
              "    <tr>\n",
              "      <th>1</th>\n",
              "      <td>October</td>\n",
              "      <td>75985.54</td>\n",
              "    </tr>\n",
              "    <tr>\n",
              "      <th>2</th>\n",
              "      <td>November</td>\n",
              "      <td>0.00</td>\n",
              "    </tr>\n",
              "    <tr>\n",
              "      <th>3</th>\n",
              "      <td>December</td>\n",
              "      <td>19.62</td>\n",
              "    </tr>\n",
              "    <tr>\n",
              "      <th>4</th>\n",
              "      <td>January</td>\n",
              "      <td>182178.36</td>\n",
              "    </tr>\n",
              "  </tbody>\n",
              "</table>\n",
              "</div>"
            ],
            "text/plain": [
              "  order_approved_at  total_income\n",
              "0         September          0.00\n",
              "1           October      75985.54\n",
              "2          November          0.00\n",
              "3          December         19.62\n",
              "4           January     182178.36"
            ]
          },
          "execution_count": 104,
          "metadata": {},
          "output_type": "execute_result"
        }
      ],
      "source": [
        "monthly_income_df = all_data.resample(rule='M', on='order_approved_at').agg({\n",
        "    \"payment_value\":\"sum\"\n",
        "})\n",
        "monthly_income_df.index = monthly_income_df.index.strftime('%B') #mengubah format order_approved_at menjadi Tahun-Bulan\n",
        "monthly_income_df = monthly_income_df.reset_index()\n",
        "monthly_income_df.rename(columns={\n",
        "    \"payment_value\":\"total_income\"\n",
        "}, inplace=True)\n",
        "monthly_income_df.head()"
      ]
    },
    {
      "cell_type": "code",
      "execution_count": 105,
      "metadata": {
        "colab": {
          "base_uri": "https://localhost:8080/",
          "height": 206
        },
        "id": "9zw1o3b9AWdK",
        "outputId": "6deff675-bfe3-48bb-ecc5-b2a2ee0b41a1"
      },
      "outputs": [
        {
          "data": {
            "text/html": [
              "<div>\n",
              "<style scoped>\n",
              "    .dataframe tbody tr th:only-of-type {\n",
              "        vertical-align: middle;\n",
              "    }\n",
              "\n",
              "    .dataframe tbody tr th {\n",
              "        vertical-align: top;\n",
              "    }\n",
              "\n",
              "    .dataframe thead th {\n",
              "        text-align: right;\n",
              "    }\n",
              "</style>\n",
              "<table border=\"1\" class=\"dataframe\">\n",
              "  <thead>\n",
              "    <tr style=\"text-align: right;\">\n",
              "      <th></th>\n",
              "      <th>order_approved_at</th>\n",
              "      <th>total_income</th>\n",
              "    </tr>\n",
              "  </thead>\n",
              "  <tbody>\n",
              "    <tr>\n",
              "      <th>12</th>\n",
              "      <td>September</td>\n",
              "      <td>927821.13</td>\n",
              "    </tr>\n",
              "    <tr>\n",
              "      <th>15</th>\n",
              "      <td>December</td>\n",
              "      <td>1092932.59</td>\n",
              "    </tr>\n",
              "    <tr>\n",
              "      <th>13</th>\n",
              "      <td>October</td>\n",
              "      <td>1138730.07</td>\n",
              "    </tr>\n",
              "    <tr>\n",
              "      <th>23</th>\n",
              "      <td>August</td>\n",
              "      <td>1268960.54</td>\n",
              "    </tr>\n",
              "    <tr>\n",
              "      <th>21</th>\n",
              "      <td>June</td>\n",
              "      <td>1306785.03</td>\n",
              "    </tr>\n",
              "  </tbody>\n",
              "</table>\n",
              "</div>"
            ],
            "text/plain": [
              "   order_approved_at  total_income\n",
              "12         September     927821.13\n",
              "15          December    1092932.59\n",
              "13           October    1138730.07\n",
              "23            August    1268960.54\n",
              "21              June    1306785.03"
            ]
          },
          "execution_count": 105,
          "metadata": {},
          "output_type": "execute_result"
        }
      ],
      "source": [
        "monthly_income_df = monthly_income_df.sort_values('total_income').drop_duplicates('order_approved_at', keep='last')\n",
        "monthly_income_df.head()"
      ]
    },
    {
      "cell_type": "code",
      "execution_count": 106,
      "metadata": {
        "colab": {
          "base_uri": "https://localhost:8080/",
          "height": 425
        },
        "id": "6nRsCY7nArDU",
        "outputId": "262491ae-8169-481e-cb32-a3abba3a61cf"
      },
      "outputs": [
        {
          "data": {
            "text/html": [
              "<div>\n",
              "<style scoped>\n",
              "    .dataframe tbody tr th:only-of-type {\n",
              "        vertical-align: middle;\n",
              "    }\n",
              "\n",
              "    .dataframe tbody tr th {\n",
              "        vertical-align: top;\n",
              "    }\n",
              "\n",
              "    .dataframe thead th {\n",
              "        text-align: right;\n",
              "    }\n",
              "</style>\n",
              "<table border=\"1\" class=\"dataframe\">\n",
              "  <thead>\n",
              "    <tr style=\"text-align: right;\">\n",
              "      <th></th>\n",
              "      <th>order_approved_at</th>\n",
              "      <th>total_income</th>\n",
              "    </tr>\n",
              "  </thead>\n",
              "  <tbody>\n",
              "    <tr>\n",
              "      <th>14</th>\n",
              "      <td>November</td>\n",
              "      <td>1588308.55</td>\n",
              "    </tr>\n",
              "    <tr>\n",
              "      <th>20</th>\n",
              "      <td>May</td>\n",
              "      <td>1545868.81</td>\n",
              "    </tr>\n",
              "    <tr>\n",
              "      <th>18</th>\n",
              "      <td>March</td>\n",
              "      <td>1500474.01</td>\n",
              "    </tr>\n",
              "    <tr>\n",
              "      <th>19</th>\n",
              "      <td>April</td>\n",
              "      <td>1476502.25</td>\n",
              "    </tr>\n",
              "    <tr>\n",
              "      <th>16</th>\n",
              "      <td>January</td>\n",
              "      <td>1406557.66</td>\n",
              "    </tr>\n",
              "    <tr>\n",
              "      <th>22</th>\n",
              "      <td>July</td>\n",
              "      <td>1334156.42</td>\n",
              "    </tr>\n",
              "    <tr>\n",
              "      <th>17</th>\n",
              "      <td>February</td>\n",
              "      <td>1314882.87</td>\n",
              "    </tr>\n",
              "    <tr>\n",
              "      <th>21</th>\n",
              "      <td>June</td>\n",
              "      <td>1306785.03</td>\n",
              "    </tr>\n",
              "    <tr>\n",
              "      <th>23</th>\n",
              "      <td>August</td>\n",
              "      <td>1268960.54</td>\n",
              "    </tr>\n",
              "    <tr>\n",
              "      <th>13</th>\n",
              "      <td>October</td>\n",
              "      <td>1138730.07</td>\n",
              "    </tr>\n",
              "    <tr>\n",
              "      <th>15</th>\n",
              "      <td>December</td>\n",
              "      <td>1092932.59</td>\n",
              "    </tr>\n",
              "    <tr>\n",
              "      <th>12</th>\n",
              "      <td>September</td>\n",
              "      <td>927821.13</td>\n",
              "    </tr>\n",
              "  </tbody>\n",
              "</table>\n",
              "</div>"
            ],
            "text/plain": [
              "   order_approved_at  total_income\n",
              "14          November    1588308.55\n",
              "20               May    1545868.81\n",
              "18             March    1500474.01\n",
              "19             April    1476502.25\n",
              "16           January    1406557.66\n",
              "22              July    1334156.42\n",
              "17          February    1314882.87\n",
              "21              June    1306785.03\n",
              "23            August    1268960.54\n",
              "13           October    1138730.07\n",
              "15          December    1092932.59\n",
              "12         September     927821.13"
            ]
          },
          "execution_count": 106,
          "metadata": {},
          "output_type": "execute_result"
        }
      ],
      "source": [
        "monthly_income_df.sort_values(by='total_income', ascending=False)"
      ]
    },
    {
      "cell_type": "code",
      "execution_count": 107,
      "metadata": {
        "id": "Q-c9wFvLBHA3"
      },
      "outputs": [],
      "source": [
        "monthly_income_df[\"month_numeric\"] = monthly_income_df[\"order_approved_at\"].map(month_code)\n",
        "monthly_income_df = monthly_income_df.sort_values(\"month_numeric\")\n",
        "monthly_income_df = monthly_income_df.drop(\"month_numeric\", axis=1)"
      ]
    },
    {
      "cell_type": "code",
      "execution_count": 108,
      "metadata": {
        "colab": {
          "base_uri": "https://localhost:8080/",
          "height": 526
        },
        "id": "EFX4m0hgBn-v",
        "outputId": "3f31693f-249d-41cb-a69a-7d108efbc33e"
      },
      "outputs": [
        {
          "data": {
            "image/png": "[encoded data removed]",
            "text/plain": [
              "<Figure size 1000x500 with 1 Axes>"
            ]
          },
          "metadata": {},
          "output_type": "display_data"
        }
      ],
      "source": [
        "plt.figure(figsize=(10, 5))\n",
        "plt.plot(\n",
        "    monthly_income_df[\"order_approved_at\"],\n",
        "    monthly_income_df[\"total_income\"],\n",
        "    marker='o',\n",
        "    linewidth=2,\n",
        "    color=\"#FE0000\"\n",
        ")\n",
        "plt.title(\"Total Income per Month (2018)\", loc=\"center\", fontsize=20)\n",
        "plt.xticks(fontsize=10, rotation=45)\n",
        "plt.yticks(fontsize=10)\n",
        "plt.show()"
      ]
    },
    {
      "cell_type": "markdown",
      "metadata": {
        "id": "ghi5w_3PFDe5"
      },
      "source": [
        "### 4. Bagaimana penilaian *(rating)* terhadap E-commerce yang diberikan oleh para customer? "
      ]
    },
    {
      "cell_type": "code",
      "execution_count": 109,
      "metadata": {
        "colab": {
          "base_uri": "https://localhost:8080/",
          "height": 501
        },
        "id": "BU49y5hthfuY",
        "outputId": "2eeb9373-de54-491e-da72-967dc9187686"
      },
      "outputs": [
        {
          "name": "stderr",
          "output_type": "stream",
          "text": [
            "c:\\Users\\User\\AppData\\Local\\Programs\\Python\\Python311\\Lib\\site-packages\\seaborn\\_oldcore.py:1498: FutureWarning: is_categorical_dtype is deprecated and will be removed in a future version. Use isinstance(dtype, CategoricalDtype) instead\n",
            "  if pd.api.types.is_categorical_dtype(vector):\n",
            "c:\\Users\\User\\AppData\\Local\\Programs\\Python\\Python311\\Lib\\site-packages\\seaborn\\_oldcore.py:1498: FutureWarning: is_categorical_dtype is deprecated and will be removed in a future version. Use isinstance(dtype, CategoricalDtype) instead\n",
            "  if pd.api.types.is_categorical_dtype(vector):\n"
          ]
        },
        {
          "data": {
            "image/png": "[encoded data removed]",
            "text/plain": [
              "<Figure size 1000x500 with 1 Axes>"
            ]
          },
          "metadata": {},
          "output_type": "display_data"
        }
      ],
      "source": [
        "review_scores = all_data['review_score'].value_counts().sort_values(ascending=True)\n",
        "most_common_score = review_scores.idxmax()\n",
        "\n",
        "sns.set_style(\"white\")\n",
        "\n",
        "plt.figure(figsize=(10, 5))\n",
        "ax = sns.barplot(x=review_scores.index,\n",
        "                 y=review_scores.values,\n",
        "                 order=review_scores.index,\n",
        "                 palette=[\"#FE0000\" if score == most_common_score else \"#ECA7A7\" for score in review_scores.index]\n",
        "                )\n",
        "\n",
        "plt.title(\"Rating E-commerce\", fontsize=15)\n",
        "plt.xlabel(\"Rating\")\n",
        "plt.ylabel(\"Count\")\n",
        "plt.xticks(fontsize=12)\n",
        "\n",
        "for p in ax.patches:\n",
        "    ax.annotate(f'{p.get_height():.0f}', (p.get_x() + p.get_width() / 2., p.get_height()), ha='center', va='baseline', fontsize=10)\n",
        "\n",
        "plt.show()\n"
      ]
    },
    {
      "cell_type": "markdown",
      "metadata": {
        "id": "yQ9yAOGUW0AL"
      },
      "source": [
        "### 5. Bagaimana jumlah persebaran pelanggan dan apakah terdapat perbedaan preferensi pembelian antar customer?"
      ]
    },
    {
      "cell_type": "markdown",
      "metadata": {
        "id": "QwHsHmcLXLAB"
      },
      "source": [
        "Berdasarkan *state*"
      ]
    },
    {
      "cell_type": "code",
      "execution_count": 110,
      "metadata": {
        "colab": {
          "base_uri": "https://localhost:8080/",
          "height": 206
        },
        "id": "FiQBdGrmQs2u",
        "outputId": "2a3d855c-800c-4d07-d344-323102bdf482"
      },
      "outputs": [
        {
          "data": {
            "text/html": [
              "<div>\n",
              "<style scoped>\n",
              "    .dataframe tbody tr th:only-of-type {\n",
              "        vertical-align: middle;\n",
              "    }\n",
              "\n",
              "    .dataframe tbody tr th {\n",
              "        vertical-align: top;\n",
              "    }\n",
              "\n",
              "    .dataframe thead th {\n",
              "        text-align: right;\n",
              "    }\n",
              "</style>\n",
              "<table border=\"1\" class=\"dataframe\">\n",
              "  <thead>\n",
              "    <tr style=\"text-align: right;\">\n",
              "      <th></th>\n",
              "      <th>customer_state</th>\n",
              "      <th>total_customer</th>\n",
              "    </tr>\n",
              "  </thead>\n",
              "  <tbody>\n",
              "    <tr>\n",
              "      <th>0</th>\n",
              "      <td>AC</td>\n",
              "      <td>81</td>\n",
              "    </tr>\n",
              "    <tr>\n",
              "      <th>1</th>\n",
              "      <td>AL</td>\n",
              "      <td>413</td>\n",
              "    </tr>\n",
              "    <tr>\n",
              "      <th>2</th>\n",
              "      <td>AM</td>\n",
              "      <td>148</td>\n",
              "    </tr>\n",
              "    <tr>\n",
              "      <th>3</th>\n",
              "      <td>AP</td>\n",
              "      <td>68</td>\n",
              "    </tr>\n",
              "    <tr>\n",
              "      <th>4</th>\n",
              "      <td>BA</td>\n",
              "      <td>3380</td>\n",
              "    </tr>\n",
              "  </tbody>\n",
              "</table>\n",
              "</div>"
            ],
            "text/plain": [
              "  customer_state  total_customer\n",
              "0             AC              81\n",
              "1             AL             413\n",
              "2             AM             148\n",
              "3             AP              68\n",
              "4             BA            3380"
            ]
          },
          "execution_count": 110,
          "metadata": {},
          "output_type": "execute_result"
        }
      ],
      "source": [
        "customers_by_state_df = all_data.groupby(by=\"customer_state\").customer_id.nunique().reset_index()\n",
        "customers_by_state_df.rename(columns={\n",
        "    \"customer_id\": \"total_customer\"\n",
        "}, inplace=True)\n",
        "customers_by_state_df.head()"
      ]
    },
    {
      "cell_type": "code",
      "execution_count": 111,
      "metadata": {
        "colab": {
          "base_uri": "https://localhost:8080/",
          "height": 728
        },
        "id": "ceh1nKUKghiu",
        "outputId": "7e2d5c7c-48fb-438d-b4b6-8b8adcbba3e8"
      },
      "outputs": [
        {
          "name": "stderr",
          "output_type": "stream",
          "text": [
            "c:\\Users\\User\\AppData\\Local\\Programs\\Python\\Python311\\Lib\\site-packages\\seaborn\\_oldcore.py:1498: FutureWarning: is_categorical_dtype is deprecated and will be removed in a future version. Use isinstance(dtype, CategoricalDtype) instead\n",
            "  if pd.api.types.is_categorical_dtype(vector):\n",
            "c:\\Users\\User\\AppData\\Local\\Programs\\Python\\Python311\\Lib\\site-packages\\seaborn\\_oldcore.py:1498: FutureWarning: is_categorical_dtype is deprecated and will be removed in a future version. Use isinstance(dtype, CategoricalDtype) instead\n",
            "  if pd.api.types.is_categorical_dtype(vector):\n",
            "c:\\Users\\User\\AppData\\Local\\Programs\\Python\\Python311\\Lib\\site-packages\\seaborn\\_oldcore.py:1498: FutureWarning: is_categorical_dtype is deprecated and will be removed in a future version. Use isinstance(dtype, CategoricalDtype) instead\n",
            "  if pd.api.types.is_categorical_dtype(vector):\n"
          ]
        },
        {
          "data": {
            "image/png": "[encoded data removed]",
            "text/plain": [
              "<Figure size 1000x800 with 1 Axes>"
            ]
          },
          "metadata": {},
          "output_type": "display_data"
        }
      ],
      "source": [
        "plt.figure(figsize=(10, 8))\n",
        "\n",
        "sns.set_style(\"white\")\n",
        "\n",
        "most_common_state = customers_by_state_df.loc[customers_by_state_df['total_customer'].idxmax(), 'customer_state']\n",
        "\n",
        "customers_by_state_df = customers_by_state_df.sort_values(by='total_customer', ascending=False)\n",
        "\n",
        "ax = sns.barplot(x='total_customer',\n",
        "                 y='customer_state',\n",
        "                 data=customers_by_state_df,\n",
        "                 palette=[\"#FE0000\" if state == most_common_state else \"#ECA7A7\" for state in customers_by_state_df['customer_state']],\n",
        "                 orient='h'\n",
        "                )\n",
        "\n",
        "plt.title(\"Customers by State\", fontsize=15)\n",
        "plt.xlabel(\"Number of Customers\")\n",
        "plt.ylabel(\"State\")\n",
        "plt.xticks(fontsize=10)\n",
        "\n",
        "x_max = customers_by_state_df['total_customer'].max() + 3200\n",
        "\n",
        "plt.xlim(0, x_max)\n",
        "\n",
        "for p in ax.patches:\n",
        "    ax.annotate(f'{p.get_width():.0f}', (p.get_width(), p.get_y() + p.get_height() / 2.), va='center', fontsize=10)\n",
        "\n",
        "plt.show()"
      ]
    },
    {
      "cell_type": "markdown",
      "metadata": {
        "id": "C6J1p-zoZKGh"
      },
      "source": [
        "Berdasarkan *city*"
      ]
    },
    {
      "cell_type": "code",
      "execution_count": 112,
      "metadata": {
        "colab": {
          "base_uri": "https://localhost:8080/",
          "height": 420
        },
        "id": "ZIGCXvJvoupd",
        "outputId": "f9133ba3-973b-4132-d13f-c1fa4d003f7d"
      },
      "outputs": [
        {
          "name": "stderr",
          "output_type": "stream",
          "text": [
            "c:\\Users\\User\\AppData\\Local\\Programs\\Python\\Python311\\Lib\\site-packages\\seaborn\\_oldcore.py:1498: FutureWarning: is_categorical_dtype is deprecated and will be removed in a future version. Use isinstance(dtype, CategoricalDtype) instead\n",
            "  if pd.api.types.is_categorical_dtype(vector):\n",
            "c:\\Users\\User\\AppData\\Local\\Programs\\Python\\Python311\\Lib\\site-packages\\seaborn\\_oldcore.py:1498: FutureWarning: is_categorical_dtype is deprecated and will be removed in a future version. Use isinstance(dtype, CategoricalDtype) instead\n",
            "  if pd.api.types.is_categorical_dtype(vector):\n",
            "c:\\Users\\User\\AppData\\Local\\Programs\\Python\\Python311\\Lib\\site-packages\\seaborn\\_oldcore.py:1765: FutureWarning: unique with argument that is not not a Series, Index, ExtensionArray, or np.ndarray is deprecated and will raise in a future version.\n",
            "  order = pd.unique(vector)\n",
            "c:\\Users\\User\\AppData\\Local\\Programs\\Python\\Python311\\Lib\\site-packages\\seaborn\\_oldcore.py:1498: FutureWarning: is_categorical_dtype is deprecated and will be removed in a future version. Use isinstance(dtype, CategoricalDtype) instead\n",
            "  if pd.api.types.is_categorical_dtype(vector):\n"
          ]
        },
        {
          "data": {
            "image/png": "[encoded data removed]",
            "text/plain": [
              "<Figure size 800x400 with 1 Axes>"
            ]
          },
          "metadata": {},
          "output_type": "display_data"
        }
      ],
      "source": [
        "customers_by_city_df = all_data['customer_city'].value_counts().head(10)\n",
        "\n",
        "customers_by_city_df = customers_by_city_df.sort_values(ascending=False)\n",
        "\n",
        "\n",
        "top_cities = customers_by_city_df.index\n",
        "top_cities = [textwrap.shorten(city, width=20, placeholder=\"...\") for city in top_cities]\n",
        "\n",
        "plt.figure(figsize=(8, 4))\n",
        "\n",
        "most_common_city = customers_by_city_df.idxmax()\n",
        "\n",
        "ax = sns.barplot(x=customers_by_city_df.values,\n",
        "                 y=top_cities,\n",
        "                 palette=[\"#FE0000\" if city == most_common_city else \"#ECA7A7\" for city in top_cities]\n",
        "                )\n",
        "\n",
        "plt.xlim(0, customers_by_city_df.max() + 1650)\n",
        "\n",
        "plt.title(\"Customers from Each City\", fontsize=15)\n",
        "plt.xlabel(\"Number of Customers\")\n",
        "plt.ylabel(\"City\")\n",
        "plt.xticks(fontsize=10)\n",
        "\n",
        "for p in ax.patches:\n",
        "    ax.annotate(f'{p.get_width():.0f}', (p.get_width(), p.get_y() + p.get_height() / 2.), va='center', fontsize=10)\n",
        "\n",
        "plt.show()"
      ]
    },
    {
      "cell_type": "markdown",
      "metadata": {},
      "source": [
        "Status Order"
      ]
    },
    {
      "cell_type": "code",
      "execution_count": 113,
      "metadata": {
        "colab": {
          "base_uri": "https://localhost:8080/",
          "height": 492
        },
        "id": "QaJ-VzVU_IUA",
        "outputId": "c3b884c4-4a0f-442e-c44f-f4485faa1e14"
      },
      "outputs": [
        {
          "data": {
            "image/png": "[encoded data removed]",
            "text/plain": [
              "<Figure size 800x400 with 1 Axes>"
            ]
          },
          "metadata": {},
          "output_type": "display_data"
        }
      ],
      "source": [
        "total_order_status_df = all_data['order_status'].value_counts(ascending=True)\n",
        "\n",
        "plt.figure(figsize=(8, 4))\n",
        "ax = total_order_status_df.plot(kind='bar', color='#FE0000')\n",
        "plt.title('Order Status')\n",
        "plt.xlabel('Status')\n",
        "plt.ylabel('Number of Orders')\n",
        "\n",
        "plt.ylim(0, total_order_status_df.max() + 10000)\n",
        "\n",
        "for i, v in enumerate(total_order_status_df):\n",
        "    ax.text(i, v, str(v), ha='center', va='bottom', fontsize=10)\n",
        "\n",
        "plt.show()"
      ]
    },
    {
      "cell_type": "markdown",
      "metadata": {},
      "source": [
        "# **Conclusion**\n",
        "\n",
        "1. Produk apa yang paling laris dan kurang laris di E-commerce?\n",
        ">> Berdasarkan pada hasil visualisasi data yang sudah didapatkan, dapat dilihat bahwa produk **bed_bath_table** menjadi produk paling laris sedangkan produk **auto** menjadi produk yang kurang laris di E-commerce\n",
        "2. Bagaimana laju performa penjualan E-commerce seiring berjalannya waktu?\n",
        ">> Berdasarkan pada visualisasi grafik yang sudah didapatkan, dapat dilihat bahwa penjualan produk E-commerce periode Januari-Mei cenderung stabil. Lalu terjadi penurunan yang signifikan pada periode Agustus-September dan periode November-Desember serta kenaikan yang signifikan pada periode Oktober-November  \n",
        "3. Berapa pendapatan yang didapatkan oleh E-commerce dalam beberapa bulan terakhir?\n",
        ">> Hampir sama dengan laju penjualan E-commerce dimana pendapatan dari penjualan produk E-commerce periode Januari-Mei cenderung stabil. Lalu terjadi penurunan yang signifikan pada periode Agustus-September dan periode November-Desember serta kenaikan yang signifikan pada periode Oktober-November\n",
        "4. Bagaimana penilaian *(rating)* terhadap E-commerce yang diberikan oleh para customer? \n",
        ">> Berdasarkan pada hasil visualisasi yang sudah didapatkan, dapat dilihat bahwa mayoritas customer memberikan penilaian dengan bintang 5 yang dapat diartikan bahwa mayoritas customers merasa puas dengan penjualan produk yang ada di E-commerce\n",
        "5. Bagaimana persebaran pelanggan dan apakah terdapat perbedaan preferensi pembelian antar customer?\n",
        ">> Negara bagian *(state)* yang memiliki pelanggan terbanyak adalah SP yang memiliki arti bahwa Kota yang memiliki pelanggan terbanyak adalah Kota Sao Paulo dan urutan ke-2 adalah RJ (Rio de janeiro). Tidak hanya itu saja, status belanja di E-commerce menunjukkan bahwa mayoritas produk terkirim hingga ke tangan para customer. Maka dari itu, tidak salah jika E-commerce juga berhasil mendapatkan rating bintang 5 paling banyak.  "
      ]
    }
  ],
  "metadata": {
    "colab": {
      "provenance": [],
      "toc_visible": true
    },
    "kernelspec": {
      "display_name": "Python 3",
      "name": "python3"
    },
    "language_info": {
      "codemirror_mode": {
        "name": "ipython",
        "version": 3
      },
      "file_extension": ".py",
      "mimetype": "text/x-python",
      "name": "python",
      "nbconvert_exporter": "python",
      "pygments_lexer": "ipython3",
      "version": "3.11.5"
    }
  },
  "nbformat": 4,
  "nbformat_minor": 0
}
